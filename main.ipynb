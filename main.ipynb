{
 "cells": [
  {
   "cell_type": "markdown",
   "metadata": {},
   "source": [
    "# Journey through some Exploration Algorithms\n",
    "\n",
    "### Introduction: \n",
    "    Exploration is cool\n",
    "\n",
    "### Requirements:\n",
    "- [Jupyter](http://jupyter.readthedocs.io/en/latest/install.html)\n",
    "- [Explauto](https://github.com/flowersteam/explauto)\n",
    "\n",
    "Might need to run 'jupyter nbextension enable --py --sys-prefix widgetsnbextension'\n",
    "\n",
    "To run this notebook:\n",
    "\n",
    "    jupyter notebook main.ipynb"
   ]
  },
  {
   "cell_type": "code",
   "execution_count": 1,
   "metadata": {
    "collapsed": false
   },
   "outputs": [],
   "source": [
    "%matplotlib inline\n",
    "\n",
    "import matplotlib\n",
    "import matplotlib.pyplot as plt\n",
    "from matplotlib.patches import Circle\n",
    "matplotlib.rcParams['figure.figsize'] = (6.0, 6.0)\n",
    "\n",
    "from numpy import pi, array, linspace, hstack, zeros, transpose\n",
    "from matplotlib import animation\n",
    "from IPython.display import HTML, display\n",
    "from ipywidgets import interact_manual\n",
    "from numpy.random import random, normal\n",
    "\n",
    "from environment import Arm, Ball, ArmBall\n",
    "from explauto import SensorimotorModel\n",
    "from explauto.sensorimotor_model.non_parametric import NonParametric\n",
    "from explauto import InterestModel\n",
    "from explauto.interest_model.discrete_progress import DiscretizedProgress\n",
    "from explauto.utils import rand_bounds\n",
    "from explauto.environment.dynamic_environment import DynamicEnvironment\n",
    "from explauto.interest_model.competences import competence_exp, competence_dist\n",
    "from modular_environment import HierarchicalEnvironment\n",
    "from utils import compute_explo\n",
    "\n",
    "grid_size = 20"
   ]
  },
  {
   "cell_type": "markdown",
   "metadata": {},
   "source": [
    "## I. Exploring the movements of a robotic arm\n",
    "\n",
    "Configuration of a dynamic environment with an arm and a ball to catch.\n",
    "\n",
    "The 3 joints are controlled through DMPs with 3 basis functions (9 motor parameters in total).\n",
    "\n",
    "The environments can be instantiated either with the following configuration, or directly with 'ArmBall()'."
   ]
  },
  {
   "cell_type": "code",
   "execution_count": 2,
   "metadata": {
    "collapsed": false
   },
   "outputs": [],
   "source": [
    "arm_config = dict(\n",
    "    m_mins=[-1.] * 3,\n",
    "    m_maxs=[1.] * 3, \n",
    "    s_mins=[-1.] * 3,\n",
    "    s_maxs=[1.] * 3, \n",
    "    lengths=[0.5, 0.3, 0.2], \n",
    "    angle_shift=0.5,\n",
    "    rest_state=[0.] * 3)\n",
    "\n",
    "ball_config = dict(\n",
    "    m_mins=[-1.] * 2,\n",
    "    m_maxs=[1.] * 2, \n",
    "    s_mins=[-1.] * 2,\n",
    "    s_maxs=[1.] * 2,\n",
    "    size=0.1,\n",
    "    initial_position=[0.6, 0.6],\n",
    "    color=\"b\")\n",
    "\n",
    "arm_ball_cfg = dict(\n",
    "    m_mins=[-1.] * 3,\n",
    "    m_maxs=[1.] * 3,\n",
    "    s_mins=[-1.] * 2,\n",
    "    s_maxs=[1.] * 2,\n",
    "    top_env_cls=Ball, \n",
    "    lower_env_cls=Arm, \n",
    "    top_env_cfg=ball_config, \n",
    "    lower_env_cfg=arm_config, \n",
    "    fun_m_lower= lambda m:m,\n",
    "    fun_s_lower=lambda m,s:s[0:2],\n",
    "    fun_s_top=lambda m,s_lower,s:s)\n",
    "\n",
    "dynamic_environment_config = dict(\n",
    "    env_cfg=arm_ball_cfg,\n",
    "    env_cls=HierarchicalEnvironment,\n",
    "    m_mins=[-1.] * 3 * 3, \n",
    "    m_maxs=[1.] * 3 * 3, \n",
    "    s_mins=[-1] * 2,\n",
    "    s_maxs=[1] * 2,\n",
    "    n_bfs=3,\n",
    "    move_steps=50, \n",
    "    n_dynamic_motor_dims=3,\n",
    "    n_dynamic_sensori_dims=2,\n",
    "    sensori_traj_type=\"end_point\",\n",
    "    max_params=1000)\n",
    "\n",
    "environment1 = DynamicEnvironment(**dynamic_environment_config)\n",
    "\n",
    "#environment = ArmBall()"
   ]
  },
  {
   "cell_type": "markdown",
   "metadata": {},
   "source": [
    "Control the arm through the 9 following sliders (and hit \"Run\" button).\n",
    "\n",
    "Try to catch the ball !"
   ]
  },
  {
   "cell_type": "code",
   "execution_count": 3,
   "metadata": {
    "collapsed": false
   },
   "outputs": [
    {
     "data": {
      "text/plain": [
       "<function __main__.movement>"
      ]
     },
     "execution_count": 3,
     "metadata": {},
     "output_type": "execute_result"
    },
    {
     "data": {
      "image/png": "[encoded data removed]",
      "text/plain": [
       "<matplotlib.figure.Figure at 0x7f80b637b2d0>"
      ]
     },
     "metadata": {},
     "output_type": "display_data"
    }
   ],
   "source": [
    "# Had to run 'jupyter nbextension enable --py --sys-prefix widgetsnbextension'\n",
    "fig, ax = plt.subplots()\n",
    "\n",
    "def movement(m1=0., m2=0., m3=0., m4=0., m5=0., m6=0., m7=0., m8=0., m9=0.):\n",
    "    environment1.update(array([m1, m2, m3, m4, m5, m6, m7, m8, m9]))\n",
    "    display(HTML(environment1.plot(fig, ax)))\n",
    "    \n",
    "interact_manual(movement, m1=(-1., 1., 0.01), m2=(-1., 1., 0.01), m3=(-1., 1., 0.01), \n",
    "                          m4=(-1., 1., 0.01), m5=(-1., 1., 0.01), m6=(-1., 1., 0.01), \n",
    "                          m7=(-1., 1., 0.01), m8=(-1., 1., 0.01), m9=(-1., 1., 0.01))\n"
   ]
  },
  {
   "cell_type": "markdown",
   "metadata": {},
   "source": [
    "## II. Random Motor Babbling\n",
    "\n",
    "Let's use a higher dimensional arm."
   ]
  },
  {
   "cell_type": "code",
   "execution_count": 4,
   "metadata": {
    "collapsed": false
   },
   "outputs": [],
   "source": [
    "arm_config = dict(\n",
    "    m_mins=[-1.] * 7,\n",
    "    m_maxs=[1.] * 7, \n",
    "    s_mins=[-1.] * 3,\n",
    "    s_maxs=[1.] * 3, \n",
    "    lengths=[0.3, 0.2, 0.2, 0.1, 0.1, 0.05, 0.05], \n",
    "    angle_shift=0.5,\n",
    "    rest_state=[0.] * 7)\n",
    "\n",
    "ball_config = dict(\n",
    "    m_mins=[-1.] * 2,\n",
    "    m_maxs=[1.] * 2, \n",
    "    s_mins=[-1.] * 2,\n",
    "    s_maxs=[1.] * 2,\n",
    "    size=0.1,\n",
    "    initial_position=[0.6, 0.6],\n",
    "    color=\"b\")\n",
    "\n",
    "arm_ball_cfg = dict(\n",
    "    m_mins=[-1.] * 7,\n",
    "    m_maxs=[1.] * 7,\n",
    "    s_mins=[-1.] * 2,\n",
    "    s_maxs=[1.] * 2,\n",
    "    top_env_cls=Ball, \n",
    "    lower_env_cls=Arm, \n",
    "    top_env_cfg=ball_config, \n",
    "    lower_env_cfg=arm_config, \n",
    "    fun_m_lower= lambda m:m,\n",
    "    fun_s_lower=lambda m,s:s[0:2],\n",
    "    fun_s_top=lambda m,s_lower,s:s)\n",
    "    #fun_s_top=lambda m,s_lower,s:s_lower[0:2] + s)\n",
    "\n",
    "    \n",
    "goal_size = 3.\n",
    "    \n",
    "dynamic_environment_config = dict(\n",
    "    env_cfg=arm_ball_cfg,\n",
    "    env_cls=HierarchicalEnvironment,\n",
    "    m_mins=[-1.] * 3 * 7, \n",
    "    m_maxs=[1.] * 3 * 7, \n",
    "    s_mins=[-goal_size] * 2,\n",
    "    s_maxs=[goal_size] * 2,\n",
    "    n_bfs=3,\n",
    "    move_steps=50, \n",
    "    n_dynamic_motor_dims=7,\n",
    "    n_dynamic_sensori_dims=2, \n",
    "    sensori_traj_type=\"end_point\",\n",
    "    max_params=1000)\n",
    "\n",
    "environment2 = DynamicEnvironment(**dynamic_environment_config)\n"
   ]
  },
  {
   "cell_type": "code",
   "execution_count": 5,
   "metadata": {
    "collapsed": false
   },
   "outputs": [
    {
     "data": {
      "image/png": "[encoded data removed]",
      "text/plain": [
       "<matplotlib.figure.Figure at 0x7f80b595c510>"
      ]
     },
     "metadata": {},
     "output_type": "display_data"
    }
   ],
   "source": [
    "fig, ax = plt.subplots()\n",
    "ax.set_aspect('equal')\n",
    "ax.set_xlim((-goal_size, goal_size))\n",
    "ax.set_ylim((-goal_size, goal_size))\n",
    "ax.plot(0., 0., 'sk', ms=8)\n",
    "explored_s_mb = []\n",
    "\n",
    "for _ in range(1000):\n",
    "    m = environment2.random_motors()[0]\n",
    "    s = environment2.update(m)\n",
    "    if abs(s[-1] - 0.6) > 0.01:\n",
    "        explored_s_mb += [s]\n",
    "        ax.plot(environment2.s_traj[:,0], environment2.s_traj[:,1], lw=2, alpha=0.3)\n",
    "        ax.add_patch(Circle(tuple(environment2.s_traj[-1,:]), ball_config[\"size\"], fc=ball_config[\"color\"], alpha=0.2))\n",
    "        \n",
    "plt.xticks(linspace(-goal_size, goal_size, grid_size + 1))\n",
    "plt.yticks(linspace(-goal_size, goal_size, grid_size + 1))\n",
    "ax.set_xticklabels([])\n",
    "ax.set_yticklabels([])\n",
    "plt.grid()"
   ]
  },
  {
   "cell_type": "markdown",
   "metadata": {},
   "source": [
    "### Exploration measure\n",
    "We compute the number of cells in the above grid where the ball has been placed at the end of the different movements."
   ]
  },
  {
   "cell_type": "code",
   "execution_count": 6,
   "metadata": {
    "collapsed": false
   },
   "outputs": [
    {
     "name": "stdout",
     "output_type": "stream",
     "text": [
      "Number of ball catch: 10\n",
      "Number of reached cells: 8\n"
     ]
    }
   ],
   "source": [
    "print \"Number of ball catch:\", len(explored_s_mb)\n",
    "print \"Number of reached cells:\", int(compute_explo(array(explored_s_mb), array([-goal_size, -goal_size]), array([goal_size, goal_size]), gs=grid_size))"
   ]
  },
  {
   "cell_type": "markdown",
   "metadata": {},
   "source": [
    "## III. Random Goal Babbling\n"
   ]
  },
  {
   "cell_type": "code",
   "execution_count": 7,
   "metadata": {
    "collapsed": false
   },
   "outputs": [
    {
     "data": {
      "image/png": "[encoded data removed]",
      "text/plain": [
       "<matplotlib.figure.Figure at 0x7f80b58ef590>"
      ]
     },
     "metadata": {},
     "output_type": "display_data"
    }
   ],
   "source": [
    "fig, ax = plt.subplots()\n",
    "ax.set_aspect('equal')\n",
    "ax.set_xlim((-goal_size, goal_size))\n",
    "ax.set_ylim((-goal_size, goal_size))\n",
    "ax.plot(0., 0., 'sk', ms=8)\n",
    "explored_s_gb = []\n",
    "\n",
    "sm_model = SensorimotorModel.from_configuration(environment2.conf, 'nearest_neighbor', 'default')\n",
    "sigma_explo_ratio = 0.1\n",
    "\n",
    "# Bootstrap model: 1 random motor babbling\n",
    "m = environment2.random_motors()[0]\n",
    "s = environment2.update(m)\n",
    "sm_model.update(m, s)\n",
    "    \n",
    "for _ in range(1000):\n",
    "    if random() < 0.3:\n",
    "        m = environment2.random_motors()[0]\n",
    "    else:\n",
    "        s_goal = rand_bounds(environment2.conf.s_bounds)[0]\n",
    "        # infer a motor command to reach that goal using the Nearest Neighbor algorithm:\n",
    "        m = sm_model.model.infer_order(tuple(s_goal))\n",
    "        # add exploration noise (of variance sigma) to experiment new motor parameters\n",
    "        m = normal(m, sigma_explo_ratio)\n",
    "        \n",
    "    s = environment2.update(m)\n",
    "    sm_model.update(m, s)\n",
    "    if abs(s[-1] - 0.6) > 0.01:\n",
    "        explored_s_gb += [s]\n",
    "        ax.plot(environment2.s_traj[:,0], environment2.s_traj[:,1], lw=2, alpha=0.3)\n",
    "        ax.add_patch(Circle(tuple(environment2.s_traj[-1,:]), ball_config[\"size\"], fc=ball_config[\"color\"], alpha=0.2))\n",
    "        \n",
    "plt.xticks(linspace(-goal_size, goal_size, grid_size + 1))\n",
    "plt.yticks(linspace(-goal_size, goal_size, grid_size + 1))\n",
    "ax.set_xticklabels([])\n",
    "ax.set_yticklabels([])\n",
    "plt.grid()"
   ]
  },
  {
   "cell_type": "code",
   "execution_count": 8,
   "metadata": {
    "collapsed": false
   },
   "outputs": [
    {
     "name": "stdout",
     "output_type": "stream",
     "text": [
      "Number of ball catch: 227\n",
      "Number of reached cells: 25\n"
     ]
    }
   ],
   "source": [
    "print \"Number of ball catch:\", len(explored_s_gb)\n",
    "print \"Number of reached cells:\", int(compute_explo(array(explored_s_gb), array([-goal_size, -goal_size]), array([goal_size, goal_size]), gs=grid_size))"
   ]
  },
  {
   "cell_type": "markdown",
   "metadata": {},
   "source": [
    "## IV. Active Goal Babbling\n",
    "\n",
    "Active learning can be helpful."
   ]
  },
  {
   "cell_type": "code",
   "execution_count": 15,
   "metadata": {
    "collapsed": false,
    "scrolled": true
   },
   "outputs": [
    {
     "data": {
      "image/png": "[encoded data removed]",
      "text/plain": [
       "<matplotlib.figure.Figure at 0x7f80702d6c90>"
      ]
     },
     "metadata": {},
     "output_type": "display_data"
    }
   ],
   "source": [
    "fig, ax = plt.subplots()\n",
    "ax.set_aspect('equal')\n",
    "ax.set_xlim((-goal_size, goal_size))\n",
    "ax.set_ylim((-goal_size, goal_size))\n",
    "ax.plot(0., 0., 'sk', ms=8)\n",
    "explored_s_agb = []\n",
    "\n",
    "\n",
    "\n",
    "sm_model = SensorimotorModel.from_configuration(environment2.conf, 'nearest_neighbor', 'default')\n",
    "\n",
    "im_n_cells = 10\n",
    "im_model = DiscretizedProgress(environment2.conf, environment2.conf.s_dims, \n",
    "                               **{'x_card': im_n_cells*im_n_cells, \n",
    "                                  'win_size': 20, \n",
    "                                  'measure': competence_dist})\n",
    "\n",
    "# Bootstrap model: 1 random motor babbling\n",
    "m = environment2.random_motors()[0]\n",
    "s = environment2.update(m)\n",
    "sm_model.update(m, s)\n",
    "    \n",
    "for _ in range(1000):\n",
    "    if random() < 0.3:\n",
    "        m = environment2.random_motors()[0]\n",
    "        s = environment2.update(m)\n",
    "        sm_model.update(m, s)\n",
    "    else:\n",
    "        # sample a sensory goal maximizing learning progress using the interest model:\n",
    "        s_goal = im_model.sample()\n",
    "        # infer a motor command to reach that goal using the Nearest Neighbor algorithm:\n",
    "        m = sm_model.model.infer_order(tuple(s_goal))\n",
    "        # add exploration noise (of variance sigma) to experiment new motor parameters\n",
    "        m = normal(m, sigma_explo_ratio)\n",
    "        # execute this command and observe the corresponding sensory effect:\n",
    "        s = environment2.update(m)\n",
    "        # update the sensorimotor model:\n",
    "        sm_model.update(m, s)\n",
    "        # update the interest model:\n",
    "        im_model.update(hstack((m, s_goal)), hstack((m, s)))\n",
    "    # plot the observed sensory effect:\n",
    "    if abs(s[-1] - 0.6) > 0.01:\n",
    "        explored_s_agb += [s]\n",
    "        ax.plot(environment2.s_traj[:,0], environment2.s_traj[:,1], lw=2, alpha=0.3)\n",
    "        ax.add_patch(Circle(tuple(environment2.s_traj[-1,:]), ball_config[\"size\"], fc=ball_config[\"color\"], alpha=0.2))\n",
    "        \n",
    "plt.xticks(linspace(-goal_size, goal_size, grid_size + 1))\n",
    "plt.yticks(linspace(-goal_size, goal_size, grid_size + 1))\n",
    "ax.set_xticklabels([])\n",
    "ax.set_yticklabels([])\n",
    "plt.grid()\n",
    "\n"
   ]
  },
  {
   "cell_type": "code",
   "execution_count": 16,
   "metadata": {
    "collapsed": false
   },
   "outputs": [
    {
     "data": {
      "text/plain": [
       "<matplotlib.colorbar.Colorbar at 0x7f8070b37e50>"
      ]
     },
     "execution_count": 16,
     "metadata": {},
     "output_type": "execute_result"
    },
    {
     "data": {
      "image/png": "[encoded data removed]",
      "text/plain": [
       "<matplotlib.figure.Figure at 0x7f80702be590>"
      ]
     },
     "metadata": {},
     "output_type": "display_data"
    }
   ],
   "source": [
    "progress_flat = abs(im_model.discrete_progress.progress())\n",
    "progress_array = zeros(im_model.space.cardinalities)\n",
    "\n",
    "for idx in range(len(progress_flat)):\n",
    "    progress_array[im_model.space.index2multi(idx)] = progress_flat[idx]\n",
    "    #print \"xy\", im_model.space.index2multi(idx), \"progress\", progress_flat[idx], im_model.discrete_progress.queues[idx]\n",
    "\n",
    "from matplotlib import cm\n",
    "fig, ax = plt.subplots()\n",
    "ax.set_xticklabels([])\n",
    "ax.set_yticklabels([])\n",
    "cax = ax.imshow(transpose(progress_array), origin='lower', cmap=cm.jet, interpolation=\"none\")\n",
    "fig.colorbar(cax)"
   ]
  },
  {
   "cell_type": "code",
   "execution_count": 17,
   "metadata": {
    "collapsed": false
   },
   "outputs": [
    {
     "name": "stdout",
     "output_type": "stream",
     "text": [
      "Number of ball catch: 354\n",
      "Number of reached cells: 23\n"
     ]
    }
   ],
   "source": [
    "print \"Number of ball catch:\", len(explored_s_agb)\n",
    "print \"Number of reached cells:\", int(compute_explo(array(explored_s_agb), array([-goal_size, -goal_size]), array([goal_size, goal_size]), gs=grid_size))"
   ]
  },
  {
   "cell_type": "markdown",
   "metadata": {},
   "source": [
    "## V. More complex environment\n",
    "\n",
    "Test AGB"
   ]
  },
  {
   "cell_type": "markdown",
   "metadata": {},
   "source": [
    "=> Need to change the representation"
   ]
  },
  {
   "cell_type": "markdown",
   "metadata": {},
   "source": [
    "## VI. Model Babbling"
   ]
  }
 ],
 "metadata": {
  "kernelspec": {
   "display_name": "Python 2",
   "language": "python",
   "name": "python2"
  },
  "language_info": {
   "codemirror_mode": {
    "name": "ipython",
    "version": 2
   },
   "file_extension": ".py",
   "mimetype": "text/x-python",
   "name": "python",
   "nbconvert_exporter": "python",
   "pygments_lexer": "ipython2",
   "version": "2.7.11+"
  },
  "widgets": {
   "state": {
    "0013a096308a4598a8bc80e08cd5306d": {
     "views": []
    },
    "00636d1f0ba84644a1fd1895d2d36235": {
     "views": []
    },
    "01287bcdbb4d43ce8ba72a3af673ee5c": {
     "views": []
    },
    "01d262fa638c4fbbb627750abef1678e": {
     "views": []
    },
    "020e206a60834b61838e5dbd891b591a": {
     "views": []
    },
    "02c476cff53c474f858cdf04f34631c4": {
     "views": []
    },
    "02fd3ebec37540f7ab56ca98b008d638": {
     "views": []
    },
    "03b4e7ab932640a98e71a5af0833e941": {
     "views": []
    },
    "047b536345ae42d5b47c1ce9b5ba5e37": {
     "views": []
    },
    "05663e732caa4b139dfef46da142e932": {
     "views": []
    },
    "0618774b7a684f918f240d05d358b665": {
     "views": []
    },
    "06396301fff948cdbfaee67be560cf6d": {
     "views": []
    },
    "065118a9e4a042d78351925944be8254": {
     "views": []
    },
    "066de540556c41bd9ed1e2539dfcad8a": {
     "views": []
    },
    "06fa3774f6a34c4cbe7665319d97838e": {
     "views": []
    },
    "078f1d625b8847d8a0efb55542088dda": {
     "views": []
    },
    "09132223e69b4beeb0766da515367a72": {
     "views": []
    },
    "0ad82d742efe40b29fa6af66ce1231e9": {
     "views": []
    },
    "0af141d9591e4669ab42ca88546ef88c": {
     "views": []
    },
    "0b10a1c9b2874247a2314709e00a8244": {
     "views": []
    },
    "0b25070765104f50873ef30194f8497c": {
     "views": []
    },
    "0bac85db00bb4e2cb639a8e25fcf8a50": {
     "views": []
    },
    "0bb92dd196f7455b994dbb481a0ab6d9": {
     "views": []
    },
    "0bc7ee45743a4960a4e253aa0697ad87": {
     "views": []
    },
    "0c709aa598e64c0e90424c1b29b416d4": {
     "views": []
    },
    "0c8518d70e4b4384a15cecd62f7384d5": {
     "views": []
    },
    "0d62a26acda34af0a282c027ca03380b": {
     "views": []
    },
    "0da44c2098954be2924cc1f268f8bae7": {
     "views": []
    },
    "0db9fdea3ddf4953ac167239d199f7b5": {
     "views": []
    },
    "0de550e61f1d48b59cac0fc2618f3cfc": {
     "views": []
    },
    "0df48cccb262464a9e78e71ccf325cbc": {
     "views": []
    },
    "0f06934e74b0492380b68cab339259de": {
     "views": []
    },
    "0f58fbc5f9534f76ad77147c5c059369": {
     "views": []
    },
    "0fb525657dc94848a6f968418ddd467c": {
     "views": []
    },
    "10cfc47651d147b3ac25d23da81edeeb": {
     "views": []
    },
    "10fd8f30993c4851a4775fcc67befe6b": {
     "views": []
    },
    "11fde11145784ab5812c76efe7ed11eb": {
     "views": []
    },
    "1281ca068ebc4f628372743609e6c63c": {
     "views": []
    },
    "1320400b9c054e46b0cd3e68958a99e1": {
     "views": []
    },
    "13a2f4a6509243f3b3acc13dd1c4462e": {
     "views": []
    },
    "13ce0be8ed0342b18a041265716b88bb": {
     "views": []
    },
    "1411f58ce9e1421c97bd9bebe948dd41": {
     "views": []
    },
    "14177d7bec3c45fdbb0580f9b1b78ae6": {
     "views": []
    },
    "147f511540ab448e97f09421e7c73ef3": {
     "views": []
    },
    "148e8309cdf7499084da92a52da4e6b8": {
     "views": []
    },
    "14cd902c570541eabc6b20f92dc221d4": {
     "views": []
    },
    "14cd9f5c0ca64b6e9a95e7a286ddc862": {
     "views": []
    },
    "14fcd4b365e94f3b92791729de90b140": {
     "views": []
    },
    "1593d48bdacd4ceeae6cc1996af20d5d": {
     "views": []
    },
    "15b852dbee1245b5b93bf1c767205a68": {
     "views": []
    },
    "15d5cedb2abd40dea798f06237d2685a": {
     "views": []
    },
    "161ab8b2ee4743f6a4192d634f79f7e9": {
     "views": []
    },
    "171129c2907940768180c4913a023d90": {
     "views": []
    },
    "17322f4c8e7745909e114fe0ffedae95": {
     "views": []
    },
    "1746a4c9c6ba4c91aae7ab4885b0077f": {
     "views": []
    },
    "17f684f7706548a8b4ff0ca1c2c249f6": {
     "views": []
    },
    "18112da8db714517bdccf4f3d52fae05": {
     "views": []
    },
    "182cd1f596c44f5cab3f4c021ae67d44": {
     "views": []
    },
    "18a2ee69720a4c91827bca2fcb25bf7a": {
     "views": []
    },
    "18c3ae9ff8e84315ab8d03140627d848": {
     "views": []
    },
    "18d27076b7594112823b055273c61adc": {
     "views": []
    },
    "1951299554cb4100bc7ba22e6d2da3ae": {
     "views": []
    },
    "19b3a28d8ab74d068623a244273cc34e": {
     "views": []
    },
    "19e82db634304c8a9edf1b94fc81560a": {
     "views": []
    },
    "1a5bae19382e467ea2d1bc56fd18a1e7": {
     "views": []
    },
    "1b05e3890e7a4f608e40b0aec1780bd2": {
     "views": []
    },
    "1ba1715cc33b45b4aea9c79f7d5b9e4f": {
     "views": []
    },
    "1be4f8d3e87349d28b481c8ed1d67cf0": {
     "views": []
    },
    "1c005eec38c34c559ffd8816c8efd5a0": {
     "views": []
    },
    "1d7100f86f31404989584c43fed6a975": {
     "views": []
    },
    "1d8233d4a0ff4174b29509c91ca9049f": {
     "views": []
    },
    "1e1774ff32524987a24115b107e8a08f": {
     "views": []
    },
    "1e22925724674215a9745d8c797f440e": {
     "views": []
    },
    "1f98d49c2c14472fab4295ff3742e707": {
     "views": []
    },
    "2029087f4e4e4a4d939e125d5bdccdb8": {
     "views": []
    },
    "204546480cd64090a21dc9c62f9bf805": {
     "views": []
    },
    "2045b0140f354b40a005200396285364": {
     "views": []
    },
    "2053302ae76f4af48b56ec6709aa3a84": {
     "views": []
    },
    "2058f9d988ee43faa7593c0a9635a4df": {
     "views": []
    },
    "214144d4e5d04417821ee2bbdff61ba8": {
     "views": []
    },
    "214b6c20790147cca8b6e228400f7577": {
     "views": []
    },
    "2167f7043d4446dd8e6da5eb4eb2eb14": {
     "views": []
    },
    "217ca9a51839480aba14a0b6912211db": {
     "views": []
    },
    "21827ca13a7d4d60ab9f63795b3a6d6d": {
     "views": []
    },
    "21ee0b5db5bd47a090832f59dccdf082": {
     "views": []
    },
    "22284e88554249418a186f049c85b340": {
     "views": []
    },
    "22315c399f214c3ba86b2633d46b031e": {
     "views": []
    },
    "22aa93a653b24cc495a2fbf4210a4534": {
     "views": []
    },
    "22fedad894854816afe96737e3eb3c93": {
     "views": []
    },
    "2379549924194a3aa3ee625c9a2f9534": {
     "views": []
    },
    "237999989f3a491297e9381d2c8508d4": {
     "views": []
    },
    "237cb571baaf450e92e689dfe5dc525a": {
     "views": []
    },
    "23a42c5dd6bd461bbba7c0adf8112411": {
     "views": []
    },
    "23c2269fcf3541aebd990c8e55d12015": {
     "views": []
    },
    "244981028cbe4cbc85083aade7eef9d9": {
     "views": []
    },
    "24b2bf808c6849429cf9af2322067b31": {
     "views": []
    },
    "24d45bd7f03a4a5d92fd31b024715462": {
     "views": []
    },
    "24ea233b5aa847958f4d2106f80f961f": {
     "views": []
    },
    "253dc93c5bf644a09f7cd8acbb3dc247": {
     "views": []
    },
    "257c2e12ac864747a4d57dcd37e469b9": {
     "views": []
    },
    "26402f3d0d3f448a9a4c099afb18f5ad": {
     "views": []
    },
    "267e84c29d1f4eb88372775536b29c2c": {
     "views": []
    },
    "268b3df594c64d80b985b32e2d913a72": {
     "views": []
    },
    "27101e06532c4504bbf71e6d2c46e234": {
     "views": []
    },
    "272e94375b95450cbac0bdf2e6702fd5": {
     "views": []
    },
    "272f25ebedd146e785369caa8152ec77": {
     "views": []
    },
    "27392a71cdbd47d6a9468915e5df00c9": {
     "views": []
    },
    "273a4942885d40f39364e482af65d6f6": {
     "views": []
    },
    "2766e39e414c4512862588f63d4bab0c": {
     "views": []
    },
    "27b309d221404ebc8299fc37854cd3e7": {
     "views": []
    },
    "27b82db20e0c4ffd992061f79256df0a": {
     "views": []
    },
    "286ab38b17334dcab11caa221ed5908e": {
     "views": []
    },
    "28a041412c89440dbb9fb7f0a35e5ba4": {
     "views": []
    },
    "28a5cfb86c4542e6b04a50197a651ae8": {
     "views": []
    },
    "28a8538402114c31b61ac88ab246b0f8": {
     "views": []
    },
    "299e445776514734b6ebfcf4cc3be145": {
     "views": []
    },
    "29c2785e248946b7ac00518d2642f024": {
     "views": []
    },
    "2a362bc606e54823b3bdc43e05393307": {
     "views": []
    },
    "2a56d3db109446a8871c5959d7fee6ec": {
     "views": []
    },
    "2ac21e92f4e04df4a6df80657c72fbaa": {
     "views": []
    },
    "2ba5e0377c9f436ea790193f160a717f": {
     "views": []
    },
    "2c52ef2ff9cd485d92aba56a5263862d": {
     "views": []
    },
    "2d54605ce5a44aa1b8635d8da6372ae0": {
     "views": []
    },
    "2d627d73cc014bddbaaee646c94cf6ee": {
     "views": []
    },
    "2da4381acfc9401a8a5b23edbb9eb207": {
     "views": []
    },
    "2dacba6776f748e8a0e8f4406cd46543": {
     "views": []
    },
    "2dda1ba237d041aea33414cc4d54b3cf": {
     "views": []
    },
    "2df2a043cae54030b8f6fbf24f3f4600": {
     "views": []
    },
    "2e273c1acd36444c8eeb14a71c1dc54a": {
     "views": []
    },
    "2e8ff40ccf924dbab9c8bb37781836e6": {
     "views": []
    },
    "2f02faca31dd492e8a578e7c8710e91c": {
     "views": []
    },
    "2f40203d8d654c688758a1f428ffef42": {
     "views": []
    },
    "2f6b9b07f5f2489eb9661a333a7007ec": {
     "views": []
    },
    "2fbdfc55759b4eb0bbd8d79d136534f4": {
     "views": []
    },
    "302db6ae0db84061b794b1d1a0ce094d": {
     "views": []
    },
    "3032842bb78d4664b863144c1e914734": {
     "views": []
    },
    "307b877c290544c8b8c537787883c1dc": {
     "views": []
    },
    "30b2761062dc4cebbff64ec26a8087f8": {
     "views": []
    },
    "30bdbcbb5a9b4cd0baa3366190286bc4": {
     "views": [
      {
       "cell_index": 5
      }
     ]
    },
    "30c7a93f1ac746a0b20b78529b7dd449": {
     "views": []
    },
    "315b543396ce4a15b599006e4534ec44": {
     "views": []
    },
    "31e9fe5902be418fa293d3aca4979561": {
     "views": []
    },
    "320d8a7977d744eb836bc565b6369cbc": {
     "views": []
    },
    "323eb44524fc4a51a904672503833ef8": {
     "views": []
    },
    "3272e0b74f074ad1ba4a1e463497c7e4": {
     "views": []
    },
    "334036d19f434e3e9b3022f918d942d1": {
     "views": []
    },
    "33d0ea8f7f194aae878414a8974e9f7b": {
     "views": []
    },
    "34ea9459fbbe4c1f9fb6e074e054911c": {
     "views": []
    },
    "35861c5f53694ce5a1472740fc52ea8f": {
     "views": []
    },
    "359fc4539f674971ab11e6841259a59d": {
     "views": []
    },
    "35bd54ef88234611a898b77f93ebaa50": {
     "views": []
    },
    "35c3e038664f4c968a6cc08df17b7f8d": {
     "views": []
    },
    "365d72c1c7184b4fb3518e5a917a7e5f": {
     "views": []
    },
    "366d6e55a7a44b98b0e706f37bbadde1": {
     "views": []
    },
    "367f1740d675451f8255e07b07853186": {
     "views": []
    },
    "36f389cabaa744a98349a48f30ac552f": {
     "views": []
    },
    "37043dc4642242a3a558e5e2d4402251": {
     "views": []
    },
    "3750dcc955f7411ebc75a06d16ec619a": {
     "views": []
    },
    "378f1fce37874b94aba49dd37e6f5ebd": {
     "views": []
    },
    "37bd30f2878b4d57975e879e301c0d44": {
     "views": []
    },
    "3890339a47f94a64a1d17430cb32f8fc": {
     "views": []
    },
    "390e0e9a3d624d8da3dfebe2139e9dec": {
     "views": []
    },
    "39154d6671c64b358830ae5202a081ec": {
     "views": []
    },
    "393a14cf5e3d4a3ebd84f1f77b18d637": {
     "views": []
    },
    "39b030f0b0c04b4cbb9d634ce99d5b32": {
     "views": []
    },
    "3b0475cb75984dedbb4c258e25e9ecb9": {
     "views": []
    },
    "3b55d6df09d54e0793ebf5d784ae464c": {
     "views": []
    },
    "3b67a5d36f4647dcb01ea40aa011c2af": {
     "views": []
    },
    "3b7fcc161efb46c58b996d3c0868833c": {
     "views": []
    },
    "3c793982db3e49118bb735c8faf53483": {
     "views": []
    },
    "3d0acfbc33fb45459adfc90b1a762d90": {
     "views": []
    },
    "3d8a77edf7f34c709fc13d4bbbb64452": {
     "views": []
    },
    "3dbf86ee84ea40478bfd95b3e1236c7d": {
     "views": []
    },
    "3dd4a8eeb168472ca635c011474dfbf5": {
     "views": []
    },
    "3e3c7496ec094528834af3a7a6185058": {
     "views": []
    },
    "3eb3f15a32744cd3b1f2078ede2f0f16": {
     "views": []
    },
    "3efbc400f0364fb398da2ba1e2c14bdc": {
     "views": []
    },
    "3f2fd4052b8846d1806c251cf6626480": {
     "views": []
    },
    "3f35d37c1a99415d86e23c9f9cd7fbaf": {
     "views": []
    },
    "40b55873a33d4c9e9766fb4198ef571d": {
     "views": []
    },
    "415ba02e878a45fcbe6bacd31c544bf3": {
     "views": []
    },
    "4166c9b046814e83803ce3b899b17713": {
     "views": []
    },
    "41c2f21104724933b8dc6f06bb9f4f8a": {
     "views": []
    },
    "430b410e934e452dba59032b4fafac2e": {
     "views": []
    },
    "44e5b75e72654bb19a26a8818c3b71dd": {
     "views": []
    },
    "456885e58ed54cc0aff78b1cf3ac8da3": {
     "views": []
    },
    "458fd2b0c463408c91e8c206fbb183cf": {
     "views": []
    },
    "46db1981961c4f56a6e0005f1886c627": {
     "views": []
    },
    "47604debef304c35b7643552c5b0a67d": {
     "views": []
    },
    "4767ee9d47eb4954bb8022b4d5059970": {
     "views": []
    },
    "47c33f0e03964e9597a6fbab36e73730": {
     "views": []
    },
    "481429d4a2a54c0a89e15418e4a60358": {
     "views": []
    },
    "49beebc7c6874777a714ce41a7b88378": {
     "views": []
    },
    "4b51433b7e544674807ad9588499e7e3": {
     "views": []
    },
    "4bc7e22383144849bca03355a086bc96": {
     "views": []
    },
    "4be3be3744fd44ab8557ff158cf78701": {
     "views": []
    },
    "4be8a236f03641ecbe34dddc32538781": {
     "views": []
    },
    "4d0ae532dcb84dcbb409a922204b8d42": {
     "views": []
    },
    "4d294074defe41e5bb21fd365da979be": {
     "views": []
    },
    "4d7241b94f9744439fc9663e2ffaa0d7": {
     "views": []
    },
    "4d920a59b22249078a01e3efc5d3446e": {
     "views": []
    },
    "4dc628c395a74a6ba8838aadae25e3a9": {
     "views": []
    },
    "4e1f6586245b4d7e9231ce1148bf4d4f": {
     "views": []
    },
    "4e293d294aaa48f8a3cea4c35a6ed7c5": {
     "views": []
    },
    "4e29adbfdc874fb19ab309edd3d2f0fb": {
     "views": []
    },
    "4ebc2ba02a3042eb8d526d3a2234c962": {
     "views": []
    },
    "4f0acfadbd9044b981d8a65b77a28f6c": {
     "views": []
    },
    "4f99ce568954481e949f727afe863821": {
     "views": []
    },
    "4f9fd3c2aac441c6bf9f9a5478cf3e71": {
     "views": []
    },
    "4fe4c4cd8ecd4b3b97df2bcad9af1a02": {
     "views": []
    },
    "4febc24736964dc3990211fd2b87f721": {
     "views": []
    },
    "5007f420f3a14b53a35ffb8fa256157e": {
     "views": []
    },
    "503a32f236b24a0ca6e8c7ffec89176a": {
     "views": []
    },
    "509eb095149a41bf9ed3cb84e411a341": {
     "views": []
    },
    "50dc7a5de4f242edada0eef02a4717e6": {
     "views": []
    },
    "51067f2b31c54548bc1f2f5eb863ed1c": {
     "views": []
    },
    "5258eb57e7e94cec89c9ac985993c620": {
     "views": []
    },
    "5342c76713c34335ab4b35df69741a6e": {
     "views": []
    },
    "535add684e2242398c135e93738865c3": {
     "views": []
    },
    "53603a5860214edc8e27ed2ae15af771": {
     "views": []
    },
    "54502ae511164a0c8f713b095b6c2f4a": {
     "views": []
    },
    "54ad3a63d52e49818fe109e2f617c2dd": {
     "views": []
    },
    "54be3f192d484e578d580804c628674c": {
     "views": []
    },
    "562be187008c4120b5022de53b06be66": {
     "views": []
    },
    "56f598dee82144f596812e212546cbb9": {
     "views": []
    },
    "570c46d4722d468c8225a0e8b6c4da5e": {
     "views": []
    },
    "579be765cd8f4f9dae524c6683701a80": {
     "views": []
    },
    "58894d13446b4576ac0085b08bd203a9": {
     "views": []
    },
    "58a82a72d50b4341adb41cd58e32a4d0": {
     "views": []
    },
    "59251114012641d09dfb5fb8ada92445": {
     "views": []
    },
    "5ac22a9563014e47ad974bcb2380a69f": {
     "views": []
    },
    "5b51d69294ee46ae955c7dfd973fe4e7": {
     "views": []
    },
    "5c7f052033fc470fb2d1588cbaa780a6": {
     "views": []
    },
    "5cbec4596f0e4ce19e34ed468f7b2ec5": {
     "views": []
    },
    "5cf3990d59ca4c9fa0ae38eae97f2e45": {
     "views": []
    },
    "5d8fe8ba83ea4e0ebd606e14d87611c5": {
     "views": []
    },
    "5e90f35261d74423be7f8ea207c31600": {
     "views": []
    },
    "5ef82dbd4b724a1d93e30a0aa74d5576": {
     "views": []
    },
    "5fc1f64a35b04404a9e1600004659fd5": {
     "views": []
    },
    "5fe732fd6444420da46b52ffe8ec8825": {
     "views": []
    },
    "601f2fe4d1404e18a485ab436120aa77": {
     "views": []
    },
    "605aeef173f5408f8b37261100c5c7d9": {
     "views": []
    },
    "60ac9d5da39f4c3ebad53697228e486c": {
     "views": []
    },
    "60cc235eef2441a990377d567b0753ef": {
     "views": []
    },
    "60dc73fc5136485a9fada58f23e72aa3": {
     "views": []
    },
    "613482eb95e44d9a894007dde26a0385": {
     "views": []
    },
    "614cf8d1518b4ef0847279af71284c35": {
     "views": []
    },
    "61c32c6923f24bb9be6ac4b830cf2390": {
     "views": []
    },
    "6202a446d7904c62bb6a923d34220088": {
     "views": []
    },
    "6221fde0345742478f47ac8c11ecd0b1": {
     "views": []
    },
    "62519ee8b22f4b1d8fcd4e9eb9a3be6c": {
     "views": []
    },
    "625277f29a514d58bcad276b22ef191c": {
     "views": []
    },
    "6261faabbb8a4d669a86ba5a8bddc8ed": {
     "views": []
    },
    "6306d0cb846a4bf981da04273d2bff40": {
     "views": []
    },
    "63158de9bd084501a6f1f75e3d5a78cb": {
     "views": []
    },
    "6352d1e3c14b4d318ebe6fac0254aaa3": {
     "views": []
    },
    "6378b73fb5e1473396da1aed5843d320": {
     "views": []
    },
    "63ae255e44ce44ceae3c9066fd18ed13": {
     "views": []
    },
    "64d4575e67834f1382271a1115a9937e": {
     "views": []
    },
    "64de730ee85548cfa429fabc2077a2a5": {
     "views": []
    },
    "65259b49649c48c7a9b8ad423cf834c9": {
     "views": []
    },
    "65441100aaba43d9844fc21f151e17ab": {
     "views": []
    },
    "65d902ee739c4a31aa0c29e3065d9233": {
     "views": []
    },
    "66869e93d752440caa303ebd0862d34d": {
     "views": []
    },
    "673b4142db424dfbaa61f35e94a9e74a": {
     "views": []
    },
    "674719a39a214b9a91dd87103ffd1c5c": {
     "views": []
    },
    "67479525850a410990ac2f3b44641860": {
     "views": []
    },
    "6789da096d2d4dac9d36e4c58e3a07ea": {
     "views": []
    },
    "686556d6b87544adb92af392bc567aa3": {
     "views": []
    },
    "68bf6cfc68524b3cb8342eddf22a40c2": {
     "views": []
    },
    "6901d377fff947e185b08aa695ca7191": {
     "views": []
    },
    "695474e320ce4096a09d4a937e705536": {
     "views": []
    },
    "69a8eab28c7b47c99b5027decfa7df7b": {
     "views": []
    },
    "6a0f8526ff77414daa37d1a1cd3b2eb9": {
     "views": []
    },
    "6a106c776d664e0d9a04e35c248df49a": {
     "views": []
    },
    "6aa8cc39e0bc46cd922e7af4643a1de5": {
     "views": []
    },
    "6b0ac461fba04ba5841b8f5ca49ae323": {
     "views": []
    },
    "6b3b63338f08430e80c45983e50da057": {
     "views": []
    },
    "6b48245c5f2c4baf902ff64bb3347cc2": {
     "views": []
    },
    "6b6d1eafa5f94ac09b29fb262bef9a9b": {
     "views": []
    },
    "6b6ea05477b64fa3870402514bcabb67": {
     "views": []
    },
    "6ba1ab5cd43041678dc6ba7e4385b3f8": {
     "views": []
    },
    "6bbb0cdaac4d4071bfabe6a13e87d25d": {
     "views": []
    },
    "6bbb5fa236854908a78f725ea1c76f00": {
     "views": []
    },
    "6bdb214714ef4d048c7dcc1fcc41ae8e": {
     "views": []
    },
    "6c0c34d16e704fb29406be42cb2c0cb4": {
     "views": []
    },
    "6c22bf9674684c32a424bee012a4fe3b": {
     "views": []
    },
    "6c76bfba72e04c1eb80982e52b5af651": {
     "views": []
    },
    "6c9cd2a74307416da08c0691254130cb": {
     "views": []
    },
    "6cd1155e57d544929f049a79bab3ae0e": {
     "views": []
    },
    "6dcf3fd1902446a19861a1d31457b109": {
     "views": []
    },
    "6e3959b69f6247fca63b6860a0ddae04": {
     "views": []
    },
    "6ede6ded661d445f80cfa077fd18a2bc": {
     "views": []
    },
    "6f6b9b8c39274253a7e5a5050381208d": {
     "views": []
    },
    "702c404c7bb7443abbc37fff33fb0551": {
     "views": []
    },
    "70b7c8165d074e9a9e85b8c903d37b3a": {
     "views": []
    },
    "70cb5377a6d94a55a28eadf2acc58c58": {
     "views": []
    },
    "714509b660fb44c1a8d047ea262cade5": {
     "views": []
    },
    "7184320470974b49b1e37b42a6d81c90": {
     "views": []
    },
    "71a25021b2ef4f0fb36184ab31e40a0a": {
     "views": []
    },
    "71a6b93409704933b5acb7f6c1fe3d06": {
     "views": []
    },
    "720ba28fcf884f009cf7cb81ea815d61": {
     "views": []
    },
    "7221b6d3915d4b5bb67818ec239f9852": {
     "views": []
    },
    "72813367f09a48229777413f13f28795": {
     "views": []
    },
    "728fb84f5ed549e0a9f1894d1f6419a4": {
     "views": []
    },
    "7326f1959b81449288b999b4709b6f8f": {
     "views": []
    },
    "732db158182048449044348233c6dfad": {
     "views": []
    },
    "7347937bca124cd5b85a6b1d720dc366": {
     "views": []
    },
    "738a9bdfc45949e5bdd901c2f7f1f3ea": {
     "views": []
    },
    "73aaa564ee6e490b8a7bae622d683312": {
     "views": []
    },
    "73aad4d6f62643c9b26fc78654f76c07": {
     "views": []
    },
    "7446226105e14f7fa4491067465d0b7c": {
     "views": []
    },
    "7456f12d60d1448d9e1eeaa368d0f680": {
     "views": []
    },
    "748573894fad4a7cab499afa91d88ea3": {
     "views": []
    },
    "75787ecd3a3b4a32aab9066ebba9ebe9": {
     "views": []
    },
    "75bb20327ac045c2b3a5f2a4e132fb3a": {
     "views": []
    },
    "75da48a22d3243fc97d37e7457d2ddca": {
     "views": []
    },
    "767cd7809b5c4313a3ebb9df81fd3cba": {
     "views": []
    },
    "76e45554af504ddeb385f96fcde665ab": {
     "views": []
    },
    "771fc70df7694fb2879c5d9b31c07c5c": {
     "views": []
    },
    "778be1afa63d413b944700711ec801ba": {
     "views": []
    },
    "77eadeab65e74de0957bd08532ddf095": {
     "views": []
    },
    "780c618c004346b786c13a3ea03820d6": {
     "views": []
    },
    "7897fa2051a04ad7af571cbc5aa8dc13": {
     "views": []
    },
    "7914e8d1902447ca848757905bfc73a5": {
     "views": []
    },
    "7931671717d6474487df44f403f98a79": {
     "views": []
    },
    "796fb93304304b1cb851a34db6b4076e": {
     "views": []
    },
    "79947ec0da1a444eacab359687457297": {
     "views": []
    },
    "79b92476512b4837891f224a102d63ce": {
     "views": []
    },
    "7a121765da1e4b178e285d3eeddd05c9": {
     "views": []
    },
    "7a42b2e93e8445489cb2b9718c71bbf5": {
     "views": []
    },
    "7a69ce0d22f84c3091e4f4be627ced51": {
     "views": []
    },
    "7a9a5cb5776e40c7b8a3f9d2dcd4cb70": {
     "views": []
    },
    "7ab268266c8547599f6e02b9a15ea2c2": {
     "views": []
    },
    "7b90ea79abc84d8b93639168294550bc": {
     "views": []
    },
    "7b9cab8ce9754474bf8b2d7084eb3417": {
     "views": []
    },
    "7c851503c5e04552b4e237320b1177b9": {
     "views": []
    },
    "7cb83c539f6f434eab0e5f21e60b045d": {
     "views": []
    },
    "7d00ba0500ef402aa9ca5ca628a9a20a": {
     "views": []
    },
    "7d062ca943994e0f88bb13487c1c64b0": {
     "views": []
    },
    "7da15e65a33841489618d1ac9cb1317e": {
     "views": []
    },
    "7dbc6a3932634a79968d03707182fea5": {
     "views": []
    },
    "7e14e708981b4411b838f36aeafd3cf4": {
     "views": []
    },
    "7e755f057081447f8d7012ebda4b5079": {
     "views": []
    },
    "7e81c071a259463b9386a0b6a902eb00": {
     "views": []
    },
    "7eabafba5b1441b69a131642a7e7fe3a": {
     "views": []
    },
    "7ed22cecd8564e57b1ee17c4f4c23d6f": {
     "views": []
    },
    "7f5b9e2620e24f8c867b83693e1e7a4a": {
     "views": []
    },
    "7fa8f74f8a0e4a2baeade1672ca4fe2e": {
     "views": []
    },
    "80860af0f9eb4e3c80a29b6a782d7517": {
     "views": []
    },
    "80d92a8699c744d39bc37b0dbe73b8d9": {
     "views": []
    },
    "816dc5521cc3459094f249b3f997c669": {
     "views": []
    },
    "8289f2ff1dcc4708a5f281d2b500e12c": {
     "views": []
    },
    "828d01849aea41e5b08e5ecfcb3610ff": {
     "views": []
    },
    "829b606f29d847bebe261b4ec49fa0f7": {
     "views": []
    },
    "829f878d122e464083db313cdc2dce6a": {
     "views": []
    },
    "82dd2b1862e9493fb3fda00e685815f7": {
     "views": []
    },
    "837043e65d78441cb8107c459a4092bb": {
     "views": []
    },
    "838499d663bd4c24b2925351222078c4": {
     "views": []
    },
    "83ab649c2ff14c1f910f1eca8888cf1c": {
     "views": []
    },
    "83b20d2aea2c407d8ac759fba64ee3ac": {
     "views": []
    },
    "83e22d9624ef447dbc1ac61eba8e1e79": {
     "views": []
    },
    "83f9d29740dd4b5896cfaf9f0394857c": {
     "views": []
    },
    "8432c830344f4f05b2b7df61ac1c8949": {
     "views": []
    },
    "84f35901769b4b3f91aeee5e6507a219": {
     "views": []
    },
    "856fee13efcb45a4b0b8bdb26d218406": {
     "views": []
    },
    "85a083b78e9c47809dfe08e313ac4af2": {
     "views": []
    },
    "85e8a239952a4fb1af242b63b6a2ea32": {
     "views": []
    },
    "8631dcf0ce334b869bbff1f5905c9d2a": {
     "views": []
    },
    "8675e054e01c45b5963d41e9e804e075": {
     "views": []
    },
    "873110cc178c439dbd095c7c1f523265": {
     "views": []
    },
    "876afb2e87a346fc8c38c39f10134803": {
     "views": []
    },
    "877d4921da7d404c98df13354537476f": {
     "views": []
    },
    "8821749dfc4344669828a08d538c3108": {
     "views": []
    },
    "8972c909b0cb415d946c77dd8065d00d": {
     "views": []
    },
    "8980672274e947a0a4b2ae9eeb68c8a8": {
     "views": []
    },
    "8a1331360ce34230b7a720d63e640bdd": {
     "views": []
    },
    "8a3db2182f8b446e9d262af11df8673a": {
     "views": []
    },
    "8a5911bb4efe4798996278ac0410b8b6": {
     "views": []
    },
    "8b21a30bed6943f7b9af558a67ccb004": {
     "views": []
    },
    "8c262113bf3044498fac5540f6879521": {
     "views": []
    },
    "8c407c492739435282099c9a659ea176": {
     "views": []
    },
    "8c7995c8fa724fab8f00ee37ae91618c": {
     "views": []
    },
    "8ccdf8514633471e86af02d6d710c87e": {
     "views": []
    },
    "8de3b628073d463f88a5d27212ba2cd9": {
     "views": []
    },
    "8fecd88b374a4af08af1cc4279d296a4": {
     "views": []
    },
    "900cb56ea40643b08f0d62cd5ade397d": {
     "views": []
    },
    "90553564840e4b00849534c33f956b7a": {
     "views": []
    },
    "91029ca4e2bc47469d9349c052a15f01": {
     "views": []
    },
    "911a6f1ebc784d4ea777154b567ba6cf": {
     "views": []
    },
    "9125b3d8b15b4197baca732cc23f943c": {
     "views": []
    },
    "9165a738656e4214a2fc0bb35154b7bb": {
     "views": []
    },
    "91a6a73a93474f26a92e5082d9599ad0": {
     "views": []
    },
    "91c0ffe87d564fc08560f55df3a413ed": {
     "views": []
    },
    "93402eb4e62e4d5b8df1ce439f0599bf": {
     "views": []
    },
    "934d3080fa2d4dfa94c67904dc60da08": {
     "views": []
    },
    "937a5fe8fe95491bb7f670699d16d73a": {
     "views": []
    },
    "93daef0a8ff1443cbebb1a98ddb3d271": {
     "views": []
    },
    "948402ef5d6f4b4a9daf701195bcc259": {
     "views": []
    },
    "9560cb2e5805485a8e41b5177da47d0b": {
     "views": []
    },
    "95a67896044a407fbff67c5aaa947113": {
     "views": []
    },
    "95dfbe46c25045d580c63a5717cf7a2c": {
     "views": []
    },
    "96cc354f04964bf5ba0f53a2567eb3cf": {
     "views": []
    },
    "9772cd7a240c4afb81ad675fd55ca520": {
     "views": []
    },
    "979c4084ebc9407aadae8a8be98938e5": {
     "views": []
    },
    "98023ca5c40d46d7941b9344888db306": {
     "views": []
    },
    "98849c05fe0e44e386e2c992bfdde576": {
     "views": []
    },
    "992e98ace86c40b9b8ee83759b5deff6": {
     "views": []
    },
    "99b0061500dd4368a1ceb73c611aab27": {
     "views": []
    },
    "99b0d6bc0be04a48a1677abe425451b2": {
     "views": []
    },
    "9a1601d247f64f259d0fd0916cd87a8d": {
     "views": []
    },
    "9a1b7b2869d248b683702a689fc066e2": {
     "views": []
    },
    "9a2e0127d0b747aa848314f946de141e": {
     "views": []
    },
    "9a4bf274484544698084bebf7beee606": {
     "views": []
    },
    "9ad11e8efe2f498ea06cead83f6d4fbb": {
     "views": []
    },
    "9b08dd9a35fa421f82663763ad4f15ab": {
     "views": []
    },
    "9b2105e3bd5b4b64a38f6f477c417aa4": {
     "views": []
    },
    "9b324afb841f4740bd9a469d03ca5df9": {
     "views": []
    },
    "9bad464dc5e14b3eb537d6288a828934": {
     "views": []
    },
    "9bf26a1bbf1c4238b2d71aed258379fe": {
     "views": []
    },
    "9bf83097ed7e4d6db50ae974247554db": {
     "views": []
    },
    "9c44fada4edc490e9d8dd2482f659b67": {
     "views": []
    },
    "9c8dfe725f2e41a288b241ff8a5cfb79": {
     "views": []
    },
    "9cde3c09c0d645bcab3d084d7e3b9f0f": {
     "views": []
    },
    "9d0a12509c704d769df7c24fe1d8e6b5": {
     "views": []
    },
    "9d333ca0dca44ad3b7c44511176ad5ef": {
     "views": []
    },
    "9e3b99c98fcc4d6682fe92e417402419": {
     "views": []
    },
    "9f97cb52ea0a40c0bbdc75422585b7a8": {
     "views": []
    },
    "9fcbc6c57435472189c80153c649645a": {
     "views": []
    },
    "a03a8d63563e4e96bd6554f59bee6aa2": {
     "views": []
    },
    "a0b75a70908c4677a897e6ec616b6547": {
     "views": []
    },
    "a0eef84340294064a7bb2d11c1622733": {
     "views": []
    },
    "a13a62d167fd45ff89fe2aca94d24451": {
     "views": []
    },
    "a1c3134be0be4ab598de6da28d1d3c13": {
     "views": []
    },
    "a2406d5e827d458caee3d522a9e7945f": {
     "views": []
    },
    "a27441a0f7914d12bf47ce6d78268614": {
     "views": []
    },
    "a2b2d37b393945f9a9c12ee4ad228976": {
     "views": []
    },
    "a343ca9c4b444eaca11e93aba97c032e": {
     "views": []
    },
    "a35ce91db02b4f018b2b5d11a08f7340": {
     "views": []
    },
    "a3977bb2ce164a8b946e4cf2245bf97e": {
     "views": []
    },
    "a3df0b7a398a435ba3e1f099a44ddc7a": {
     "views": []
    },
    "a412067cd82a4c49b476e5b615d5ad4a": {
     "views": []
    },
    "a4331fac886746c6b233e0223c07c0b5": {
     "views": []
    },
    "a48df2d7ed6a4ccd96aea205de29e772": {
     "views": []
    },
    "a49cd872f1784db29efe6804d721ccfd": {
     "views": []
    },
    "a4e4b751f6394ae1ad9ccf398516b402": {
     "views": []
    },
    "a52703765df748cf944400aa43cc9249": {
     "views": []
    },
    "a5cae5512aa84205b4016d2f34dd258a": {
     "views": []
    },
    "a687ac2de21a4273b70d13f966306409": {
     "views": []
    },
    "a68a061817264a55b93a57eda28af01f": {
     "views": []
    },
    "a778414bd9134eb6a710b4535a2d1948": {
     "views": []
    },
    "a83bcaa1ff504950b3dd0598644e1636": {
     "views": []
    },
    "a8791de4bd03446f9a9f136321edbd03": {
     "views": []
    },
    "a90cfc97f7dc4d30b21a5d86dbed6e0a": {
     "views": []
    },
    "a9e20703b6734c55bdcafdfc7732029a": {
     "views": []
    },
    "aa661fece73145919a0e33f37e8f3a7b": {
     "views": []
    },
    "aa87745a6cd6455c9d898a58d5ec854f": {
     "views": []
    },
    "abdbba6ea87a451699d8a0394dcb282a": {
     "views": []
    },
    "abe1733372a743b2bafea6d41b3a98cf": {
     "views": []
    },
    "acbdcb89c3a74c2ea0bbae93b957be38": {
     "views": []
    },
    "acdfa7bb4a3440edb39c8a2041e0b348": {
     "views": []
    },
    "ad47d747f77643b5a4db9b1d5feab8cc": {
     "views": []
    },
    "ad5361c9f3fe45baa25a88bd970053fb": {
     "views": []
    },
    "adfad890d3e74fd7949fc2a89b65cddc": {
     "views": []
    },
    "ae042ab756ed4dcea9646338eb3bce0a": {
     "views": []
    },
    "ae57adc8b72e496d9c4a051cbbb7fea1": {
     "views": []
    },
    "aeaeb36a18e34d559b0831d022566c94": {
     "views": []
    },
    "af49115b9b8c44c9b0d6f627a0b8cd5d": {
     "views": []
    },
    "b06e1aa08cf24358b904336049062e26": {
     "views": []
    },
    "b082fe9fb62647e88a3564b08fdbe31f": {
     "views": []
    },
    "b0b5c7c02805472588e600c67c2b68e4": {
     "views": []
    },
    "b0da7144506840d5a288cb2bd783f9bf": {
     "views": []
    },
    "b10d7208bfec4bdc9e5c841a9534c15a": {
     "views": []
    },
    "b125745f72cf4fb69dbe7164420ae5b3": {
     "views": []
    },
    "b1876a5e78d14dd08816b07f342c34d0": {
     "views": []
    },
    "b2501b4b21a64e1d91078a9b08ce50bc": {
     "views": []
    },
    "b2585ce114ce4eaaa1cb55b4c367ddbe": {
     "views": []
    },
    "b2d0f73f92fb4fa1b4eeae915767af7e": {
     "views": []
    },
    "b380cd1f8ec84d3d96af271c1629e7b5": {
     "views": []
    },
    "b3e47af428bb46b18239187c19a94e1d": {
     "views": []
    },
    "b4c9d85e65e44690b21429cf92f52886": {
     "views": []
    },
    "b53d8205e52d41afafe6d2fe80e2584e": {
     "views": []
    },
    "b5d47abf1f8749f78c4ec2967810a1da": {
     "views": []
    },
    "b5f4db0a44d34d3c9afe4835367529b0": {
     "views": []
    },
    "b5f65dd5d47444e7bbb0da2aa6e42cb0": {
     "views": []
    },
    "b5fd354d117f437d8e95c9a17173c465": {
     "views": []
    },
    "b62fea9b0d194ed1be9a1694a3fc2b23": {
     "views": []
    },
    "b640f919f26c41f4878fb62ac61913f0": {
     "views": []
    },
    "b7171fd132f1405d92e599d3536e941a": {
     "views": []
    },
    "b805ac33d6f346ea9038c129f529c2bc": {
     "views": []
    },
    "b8d706278942493b943813111ed5557f": {
     "views": []
    },
    "b917e709f8c54a92bce7ec7c6548913c": {
     "views": []
    },
    "ba77264abaf74f349171209ff62840a8": {
     "views": []
    },
    "ba8d2da845764c04a281eb0017f9b52b": {
     "views": []
    },
    "bb279c3e162840598b4474bdc38ef0e2": {
     "views": []
    },
    "bb330bb81f2f410da215671fc99846fa": {
     "views": []
    },
    "bb4eadd9e79d4ad2a0c1526db7f7bdda": {
     "views": []
    },
    "bb5a75b9338046b98554e867d360cbc0": {
     "views": []
    },
    "bc25d32c5c134db0bbf0bec29e514f8d": {
     "views": []
    },
    "bc67d35abc0c4132b9f2264ce917fdd7": {
     "views": []
    },
    "bc7c4bb6c89143d88524a61c9cd51c8e": {
     "views": []
    },
    "bcac132bbacd4ba884022acc2ab27bc9": {
     "views": []
    },
    "bd318377862d4a61afcdfdb0337bcc3f": {
     "views": []
    },
    "bd40dea1a36c4b2fbd4872e274e4bd47": {
     "views": []
    },
    "bd967af9878b490ea29e4de4b6430d12": {
     "views": []
    },
    "bdd505bbc6c74718af8cb4799f012ccb": {
     "views": []
    },
    "bdfa45c4b78d443d9129ec443fc403ff": {
     "views": []
    },
    "be1e72a3a5624fb1acccf03365ced5e3": {
     "views": []
    },
    "be55579fd97c44a9b876144203d2b310": {
     "views": []
    },
    "beafe8be9ecf454cb1aa3568d5aae76d": {
     "views": []
    },
    "bf01376c3112426cad39b5da90ea8820": {
     "views": []
    },
    "bf5326d6f3f24194a9cd350b50ceaf5d": {
     "views": []
    },
    "bf9dc9b99e034f46a68f511c184edec5": {
     "views": []
    },
    "bfa6c93e56a9467a99ce444b0ccc0ba0": {
     "views": []
    },
    "bfdf5a93dfa14dbfa93b674fd3ebb608": {
     "views": []
    },
    "c18f06e8e9804352890211fa4715b3d3": {
     "views": []
    },
    "c20b3e16aa4f4f7eb6738c6d3f4185df": {
     "views": []
    },
    "c23ebd298c834cac9c0265437662344f": {
     "views": []
    },
    "c2e28447ae014f6f85aa4a9f29fd82f1": {
     "views": []
    },
    "c3cdcd5adec44635a53354d9cfa2b90e": {
     "views": []
    },
    "c3d3a596a5a347cf8fed3eeadbf1b3b5": {
     "views": []
    },
    "c46ba6d922924899a669b354f6fbb8ae": {
     "views": []
    },
    "c571c7e802ac45d896292f29a7eea00c": {
     "views": []
    },
    "c5d212ec2eb34280801f71ea4348a31a": {
     "views": []
    },
    "c70b2892632a4f8d967519fd4c2fc5d5": {
     "views": []
    },
    "c7d42e18aabe4fcdb6667c0bda107e4a": {
     "views": []
    },
    "c884b1a789de458fb54cf4ddb2ecaedc": {
     "views": []
    },
    "c8b1749b1aeb444a84784ba8636c5a83": {
     "views": []
    },
    "c8ca15f58c4a47fda90c4928c6a9815f": {
     "views": []
    },
    "c8ed61e1a7934e578d65e5179ded6829": {
     "views": []
    },
    "c8f8637f35c7470891dd1a7f10c02ea4": {
     "views": []
    },
    "c9167c164c754d22b741dda07248eff3": {
     "views": []
    },
    "c9ab3edbaec24062a540bfbfd11b41dc": {
     "views": []
    },
    "c9bd08e04c4e465796a19657cdf3d14c": {
     "views": []
    },
    "cae8bf8e51ae414da40855eb54dbddb7": {
     "views": []
    },
    "cb993008f8f84e1b8c2eea38c1d22de6": {
     "views": []
    },
    "cc25fd554fe14f05ad2c9f2b1fa1bf42": {
     "views": []
    },
    "cc5bcff8095347daa49212a4a24f22f8": {
     "views": []
    },
    "cce5aec07bc24d1088d58d60e54adfa9": {
     "views": []
    },
    "ce1aefc7f293426b85301d18fcb32b9f": {
     "views": []
    },
    "ce240071bb2747d0acbb530637e18036": {
     "views": []
    },
    "cf6148aa7505407f8d0889bf73395142": {
     "views": []
    },
    "cfdb0cdf44ba4a6184d8d22cd076c6ec": {
     "views": []
    },
    "d0da65499a864a3cb1ac39f0ae6bbb8b": {
     "views": []
    },
    "d147e962d97c4744b718776a57037d87": {
     "views": []
    },
    "d14e03e93f604d398d8e2aa3aa6ee095": {
     "views": []
    },
    "d3397bda0dc540faa9c3daa24856af89": {
     "views": []
    },
    "d33c6d269faf4a398eca94b1a8b9fd82": {
     "views": []
    },
    "d345b8c159974503a80e70bbefbeed23": {
     "views": []
    },
    "d3698a8c28a3457fb6eeb1a8b5b2c035": {
     "views": []
    },
    "d3a545be5f7149d9a031bb67e1b97921": {
     "views": []
    },
    "d3fb991c06ec4d21b6806385d465a7c9": {
     "views": []
    },
    "d4b59c188a59415cbe9514d1b965d002": {
     "views": []
    },
    "d4e740249f2f4fb39bd385276c2c8657": {
     "views": []
    },
    "d4f864f84c7146a6acf8322ace58b0c2": {
     "views": []
    },
    "d52d9884d19b4f27b78ff5b07f2bc093": {
     "views": []
    },
    "d55a3b40353a4488a5d9e5cb78b93909": {
     "views": []
    },
    "d67c51c6e145427fa33860f46d3a519b": {
     "views": []
    },
    "d6910cfb8636411e8fab62540a513129": {
     "views": []
    },
    "d694b914d751472ba3127462878ffdf0": {
     "views": []
    },
    "d6d3a8a443a74086ae1706eef29f84c5": {
     "views": []
    },
    "d733bbd8e2bb468386a19ff9c03e67da": {
     "views": []
    },
    "d77a4bc88c734e83b21c0fd6190ec7ba": {
     "views": []
    },
    "d77c75f76798493abd488b3b86c3f5c3": {
     "views": []
    },
    "d793d564eb3644278a842f6a4559af2e": {
     "views": []
    },
    "d80371db32634fa8a6697c4b35069eb8": {
     "views": []
    },
    "d81b7e380ead49f687ca5a00e18504f2": {
     "views": []
    },
    "d822ed058607465085906e839daca40a": {
     "views": []
    },
    "d8514ae250a244ee84e72ee23fb3afb3": {
     "views": []
    },
    "d85b0ef5ede44f61bd9509763ba8a453": {
     "views": []
    },
    "d8c57ca9145b46eba0f74c534a6f04fb": {
     "views": []
    },
    "d8e5afc5a41943c390d22170430557e1": {
     "views": []
    },
    "d9dd298ed1a042c28f2e90a233b113c0": {
     "views": []
    },
    "daef6a6af2aa4d4e9a3cc6885cd9892a": {
     "views": []
    },
    "db1014ccfda04d32b4604cf450c3eb47": {
     "views": []
    },
    "db7e7ae3f71a4cb28649d04bf5427fe3": {
     "views": []
    },
    "dcc914c5b7324400b2bd03e0e0303c1a": {
     "views": []
    },
    "dce2379c68cf44598583f5dc887286b2": {
     "views": []
    },
    "dda486ae386049d794571fa13abb2cb7": {
     "views": []
    },
    "de2a0809850b4b1b99d54d157882abe6": {
     "views": []
    },
    "dee16b3972834c43bab79c0b2e4bf02e": {
     "views": []
    },
    "deee899d0fe44b78803258add578cb00": {
     "views": []
    },
    "def96794cb7f4f518cc04868f8fd59f9": {
     "views": []
    },
    "df10a59bbb81458ead59faa92f378b4d": {
     "views": []
    },
    "df7f838ff5584d99ad73c0ae82947c52": {
     "views": []
    },
    "dfb61470b8024c53a822916211a3119a": {
     "views": []
    },
    "e137a77db0fc4c40922e38151a392e80": {
     "views": []
    },
    "e15460e1217444289ec3b2c09395ffbb": {
     "views": []
    },
    "e1af6f94ad15497ca6073f5c33a4bcf8": {
     "views": []
    },
    "e23c7286f82946539ecd359c13aeb2ce": {
     "views": []
    },
    "e29397ef9589467b8bab2d3786195948": {
     "views": []
    },
    "e38818032a8a43e19d79c448671833e0": {
     "views": []
    },
    "e403ed6a62d540fb8f07ff3b4167872f": {
     "views": []
    },
    "e44a2e9c50064d9a9586aa543bd86fbb": {
     "views": []
    },
    "e4b22664ce974b3881d27b1535d458f8": {
     "views": []
    },
    "e5026179c08e41aaba5bfc8167133679": {
     "views": []
    },
    "e53e9607048948cd9461d5c907c03e91": {
     "views": []
    },
    "e5a6cacd4b0c4300aa66d83ae782f073": {
     "views": []
    },
    "e7e66398746f4c919764a9248d06bdcc": {
     "views": []
    },
    "e90f3ca91fb547089a92ac8d3a525bb1": {
     "views": []
    },
    "e9436848252e48c0bbf65fd0183cbbb4": {
     "views": []
    },
    "e9b752454f2b4eebaea347544ae35c38": {
     "views": []
    },
    "e9e3330bfa324fc0ad850c31c3fbbce2": {
     "views": []
    },
    "ea6da5fc161e4b4dae1e5d1b58705913": {
     "views": []
    },
    "ea76e6915ca14c3f969db5f0de1fec78": {
     "views": []
    },
    "eacd1c008d73492d9b1122439c453415": {
     "views": []
    },
    "eae7a10fe6e146b7a3962e4d77fe2656": {
     "views": []
    },
    "ebb31c74645f42ddbfe2d0aca6539d46": {
     "views": []
    },
    "ec314f96c6cd4166b24873be8b1c049e": {
     "views": []
    },
    "ec41586fe9434c7db994fe41b80764fd": {
     "views": []
    },
    "eca2d52a0fbb42acbb50cfbacee6a5a3": {
     "views": []
    },
    "ecb6fd09b0e84263beb2c2378e8230c7": {
     "views": []
    },
    "eeb5801210374888a392a1fa3d69ce63": {
     "views": []
    },
    "eeea3274c2be4d1098dd62e7b9f70c52": {
     "views": []
    },
    "eef57019edec46d88dd697add4864e6d": {
     "views": []
    },
    "eefd30ac372448a3869e20d157af7ab9": {
     "views": []
    },
    "efb2713c903b4346bf8cdceecbe9aeee": {
     "views": []
    },
    "f03b689197184a2e9e1cd7ef3d20cfd2": {
     "views": []
    },
    "f048143ad24a48bea9b769b06b9c24c4": {
     "views": []
    },
    "f0b08274ce7a4e02b856b10a6d424d32": {
     "views": []
    },
    "f0d1b7cfc90a42bd87c1b5f6ef7641d9": {
     "views": []
    },
    "f0dfa2374da24f2e9f1ab06334ead206": {
     "views": []
    },
    "f1a0c38271c543729e304fc184fb538f": {
     "views": []
    },
    "f26cb3865ef24049a367edebf727da5f": {
     "views": []
    },
    "f28d20f0e79e46ceb9554dca3556d1ef": {
     "views": []
    },
    "f31aa2a5d00f420eb44864394ed2bf22": {
     "views": []
    },
    "f35f301aeeb04b15aec692896595487e": {
     "views": []
    },
    "f474a7e093b54e019962d1f305af294a": {
     "views": []
    },
    "f48a08f1c970457982387798c516e6bb": {
     "views": []
    },
    "f4c7e5abd24a41e1a38a688b428305d2": {
     "views": []
    },
    "f5703996722a46aab18b7f776dc4c777": {
     "views": []
    },
    "f5880c2eb5c74740a87257e9171ed755": {
     "views": []
    },
    "f62ce3030e0f4c1498108d7ee8b18f0d": {
     "views": []
    },
    "f632340e117744b19e029a976302c86d": {
     "views": []
    },
    "f67320802665457b84fdada2fc2a77e9": {
     "views": []
    },
    "f678118732a143a7a277ad9f99286737": {
     "views": []
    },
    "f6ecd53c4bfe4ff88404da263d800d39": {
     "views": []
    },
    "f79391fb75b7411a9723e7ff461a0ccf": {
     "views": []
    },
    "f7db0f4b23974c348a86791a84534130": {
     "views": []
    },
    "f830bba3cf974e20a67894018cbdb366": {
     "views": []
    },
    "f83440b03f70495bbffeefc0d4d87c14": {
     "views": []
    },
    "f837f859189b46858ea729fe3dd7d5ff": {
     "views": []
    },
    "f83ab9f9177045009b4c0133ca9960de": {
     "views": []
    },
    "f8f1fa8d1155487381171d1137af21b9": {
     "views": []
    },
    "f96f90f35fb24add8e1ed460097606d2": {
     "views": []
    },
    "fa2d7ebf523841d89aa1781424297845": {
     "views": []
    },
    "fa5c01503df343088d3d48fcdd832a09": {
     "views": []
    },
    "fab7f7ccfd3b408bba920fcb53522cab": {
     "views": []
    },
    "fac1b7defed94e3eaf9452fb98ed3628": {
     "views": []
    },
    "fae3611b27564d058e4f828985a9c280": {
     "views": []
    },
    "fb1e9e6a2d804792a797281ea474b1e2": {
     "views": []
    },
    "fca98d0226874d5faf27742ef4d8149c": {
     "views": []
    },
    "fd5e03689f3e4ec982dc0cae86b49e13": {
     "views": []
    },
    "fd6b2028a2c64bbcaf588081b2a1c7ca": {
     "views": []
    },
    "fd7c5bc2ca7d484c8b328bec7e5ef051": {
     "views": []
    },
    "fed44ad739a04ae6bf0bec6705b3de7b": {
     "views": []
    },
    "ff4d64f524d54ea7979baeff6ca71d21": {
     "views": []
    },
    "ff736e8f3cf84163b33b44a445fbccb9": {
     "views": []
    },
    "ffaeac0cb3bc4949915bb3a3123077e7": {
     "views": []
    },
    "fff95c3ff5a040778c4cfba7776eff86": {
     "views": []
    }
   },
   "version": "1.1.2"
  }
 },
 "nbformat": 4,
 "nbformat_minor": 0
}
