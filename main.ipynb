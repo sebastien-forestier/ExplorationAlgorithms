{
 "cells": [
  {
   "cell_type": "markdown",
   "metadata": {},
   "source": [
    "# Journey through some Exploration Algorithms\n",
    "\n",
    "### Introduction: \n",
    "    Exploration is cool\n",
    "\n",
    "### Requirements:\n",
    "- [Jupyter](http://jupyter.readthedocs.io/en/latest/install.html)\n",
    "- [Explauto](https://github.com/flowersteam/explauto)\n",
    "\n",
    "Might need to run 'jupyter nbextension enable --py --sys-prefix widgetsnbextension'\n",
    "\n",
    "and upgrade traitlets to 4.2.1\n",
    "\n",
    "To run this notebook:\n",
    "\n",
    "    jupyter notebook main.ipynb"
   ]
  },
  {
   "cell_type": "code",
   "execution_count": 1,
   "metadata": {
    "collapsed": false
   },
   "outputs": [],
   "source": [
    "%matplotlib inline\n",
    "\n",
    "import matplotlib\n",
    "import matplotlib.pyplot as plt\n",
    "from matplotlib.patches import Circle\n",
    "matplotlib.rcParams['figure.figsize'] = (6.0, 6.0)\n",
    "\n",
    "from numpy import pi, array, linspace, hstack, zeros, transpose\n",
    "from matplotlib import animation\n",
    "from IPython.display import HTML, display\n",
    "from ipywidgets import interact_manual\n",
    "from numpy.random import random, normal\n",
    "\n",
    "from environment import Arm, Ball, ArmBall\n",
    "from explauto import SensorimotorModel\n",
    "from explauto.sensorimotor_model.non_parametric import NonParametric\n",
    "from explauto import InterestModel\n",
    "from explauto.interest_model.discrete_progress import DiscretizedProgress\n",
    "from explauto.utils import rand_bounds\n",
    "from explauto.environment.dynamic_environment import DynamicEnvironment\n",
    "from explauto.interest_model.competences import competence_exp, competence_dist\n",
    "from modular_environment import HierarchicalEnvironment\n",
    "from utils import compute_explo\n",
    "\n",
    "grid_size = 10"
   ]
  },
  {
   "cell_type": "markdown",
   "metadata": {},
   "source": [
    "## I. Exploring the movements of a robotic arm\n",
    "\n",
    "Configuration of a dynamic environment with an arm and a ball to catch.\n",
    "\n",
    "The 3 joints are controlled through DMPs with 3 basis functions (9 motor parameters in total).\n",
    "\n",
    "The environments can be instantiated either with the following configuration, or directly with 'ArmBall()'."
   ]
  },
  {
   "cell_type": "code",
   "execution_count": 2,
   "metadata": {
    "collapsed": false
   },
   "outputs": [],
   "source": [
    "arm_config = dict(\n",
    "    m_mins=[-1.] * 3,\n",
    "    m_maxs=[1.] * 3, \n",
    "    s_mins=[-1.] * 3,\n",
    "    s_maxs=[1.] * 3, \n",
    "    lengths=[0.5, 0.3, 0.2], \n",
    "    angle_shift=0.5,\n",
    "    rest_state=[0.] * 3)\n",
    "\n",
    "ball_config = dict(\n",
    "    m_mins=[-1.] * 2,\n",
    "    m_maxs=[1.] * 2, \n",
    "    s_mins=[-1.] * 2,\n",
    "    s_maxs=[1.] * 2,\n",
    "    size=0.1,\n",
    "    initial_position=[0.6, 0.6],\n",
    "    color=\"b\")\n",
    "\n",
    "arm_ball_cfg = dict(\n",
    "    m_mins=[-1.] * 3,\n",
    "    m_maxs=[1.] * 3,\n",
    "    s_mins=[-1.] * 2,\n",
    "    s_maxs=[1.] * 2,\n",
    "    top_env_cls=Ball, \n",
    "    lower_env_cls=Arm, \n",
    "    top_env_cfg=ball_config, \n",
    "    lower_env_cfg=arm_config, \n",
    "    fun_m_lower= lambda m:m,\n",
    "    fun_s_lower=lambda m,s:s[0:2],\n",
    "    fun_s_top=lambda m,s_lower,s:s)\n",
    "\n",
    "dynamic_environment_config = dict(\n",
    "    env_cfg=arm_ball_cfg,\n",
    "    env_cls=HierarchicalEnvironment,\n",
    "    m_mins=[-1.] * 3 * 3, \n",
    "    m_maxs=[1.] * 3 * 3, \n",
    "    s_mins=[-1] * 2,\n",
    "    s_maxs=[1] * 2,\n",
    "    n_bfs=3,\n",
    "    move_steps=50, \n",
    "    n_dynamic_motor_dims=3,\n",
    "    n_dynamic_sensori_dims=2,\n",
    "    sensori_traj_type=\"end_point\",\n",
    "    max_params=1000)\n",
    "\n",
    "environment1 = DynamicEnvironment(**dynamic_environment_config)\n",
    "\n",
    "#environment = ArmBall()"
   ]
  },
  {
   "cell_type": "markdown",
   "metadata": {},
   "source": [
    "Control the arm through the 9 following sliders (and hit \"Run\" button).\n",
    "\n",
    "Try to catch the ball !"
   ]
  },
  {
   "cell_type": "code",
   "execution_count": 3,
   "metadata": {
    "collapsed": false
   },
   "outputs": [
    {
     "data": {
      "text/plain": [
       "<function __main__.movement>"
      ]
     },
     "execution_count": 3,
     "metadata": {},
     "output_type": "execute_result"
    },
    {
     "data": {
      "image/png": "[encoded data removed]",
      "text/plain": [
       "<matplotlib.figure.Figure at 0x7f9fd2844310>"
      ]
     },
     "metadata": {},
     "output_type": "display_data"
    }
   ],
   "source": [
    "# Had to run 'jupyter nbextension enable --py --sys-prefix widgetsnbextension'\n",
    "fig, ax = plt.subplots()\n",
    "\n",
    "def movement(m1=0., m2=0., m3=0., m4=0., m5=0., m6=0., m7=0., m8=0., m9=0.):\n",
    "    environment1.update(array([m1, m2, m3, m4, m5, m6, m7, m8, m9]))\n",
    "    display(HTML(environment1.plot(fig, ax)))\n",
    "    \n",
    "interact_manual(movement, m1=(-1., 1., 0.01), m2=(-1., 1., 0.01), m3=(-1., 1., 0.01), \n",
    "                          m4=(-1., 1., 0.01), m5=(-1., 1., 0.01), m6=(-1., 1., 0.01), \n",
    "                          m7=(-1., 1., 0.01), m8=(-1., 1., 0.01), m9=(-1., 1., 0.01))\n"
   ]
  },
  {
   "cell_type": "markdown",
   "metadata": {},
   "source": [
    "## II. Random Motor Babbling\n",
    "\n",
    "Let's use a higher dimensional arm."
   ]
  },
  {
   "cell_type": "code",
   "execution_count": 4,
   "metadata": {
    "collapsed": false
   },
   "outputs": [],
   "source": [
    "arm_config = dict(\n",
    "    m_mins=[-1.] * 7,\n",
    "    m_maxs=[1.] * 7, \n",
    "    s_mins=[-1.] * 3,\n",
    "    s_maxs=[1.] * 3, \n",
    "    lengths=[0.3, 0.2, 0.2, 0.1, 0.1, 0.05, 0.05], \n",
    "    angle_shift=0.5,\n",
    "    rest_state=[0.] * 7)\n",
    "\n",
    "ball_config = dict(\n",
    "    m_mins=[-1.] * 2,\n",
    "    m_maxs=[1.] * 2, \n",
    "    s_mins=[-1.] * 2,\n",
    "    s_maxs=[1.] * 2,\n",
    "    size=0.1,\n",
    "    initial_position=[0.6, 0.6],\n",
    "    color=\"b\")\n",
    "\n",
    "arm_ball_cfg = dict(\n",
    "    m_mins=[-1.] * 7,\n",
    "    m_maxs=[1.] * 7,\n",
    "    s_mins=[-1.] * 2,\n",
    "    s_maxs=[1.] * 2,\n",
    "    top_env_cls=Ball, \n",
    "    lower_env_cls=Arm, \n",
    "    top_env_cfg=ball_config, \n",
    "    lower_env_cfg=arm_config, \n",
    "    fun_m_lower= lambda m:m,\n",
    "    fun_s_lower=lambda m,s:s[0:2],\n",
    "    fun_s_top=lambda m,s_lower,s:s)\n",
    "    #fun_s_top=lambda m,s_lower,s:s_lower[0:2] + s)\n",
    "\n",
    "    \n",
    "goal_size = 10.\n",
    "    \n",
    "dynamic_environment_config = dict(\n",
    "    env_cfg=arm_ball_cfg,\n",
    "    env_cls=HierarchicalEnvironment,\n",
    "    m_mins=[-1.] * 3 * 7, \n",
    "    m_maxs=[1.] * 3 * 7, \n",
    "    s_mins=[-goal_size] * 2,\n",
    "    s_maxs=[goal_size] * 2,\n",
    "    n_bfs=3,\n",
    "    move_steps=50, \n",
    "    n_dynamic_motor_dims=7,\n",
    "    n_dynamic_sensori_dims=2, \n",
    "    sensori_traj_type=\"end_point\",\n",
    "    max_params=1000)\n",
    "\n",
    "environment2 = DynamicEnvironment(**dynamic_environment_config)\n"
   ]
  },
  {
   "cell_type": "code",
   "execution_count": 5,
   "metadata": {
    "collapsed": false
   },
   "outputs": [
    {
     "data": {
      "image/png": "[encoded data removed]",
      "text/plain": [
       "<matplotlib.figure.Figure at 0x7fa0002bf690>"
      ]
     },
     "metadata": {},
     "output_type": "display_data"
    }
   ],
   "source": [
    "fig, ax = plt.subplots()\n",
    "ax.set_aspect('equal')\n",
    "ax.set_xlim((-1., 1.))\n",
    "ax.set_ylim((-1., 1.))\n",
    "ax.plot(0., 0., 'sk', ms=8)\n",
    "explored_s_mb = []\n",
    "\n",
    "for _ in range(1000):\n",
    "    m = environment2.random_motors()[0]\n",
    "    s = environment2.update(m)\n",
    "    if abs(s[-1] - 0.6) > 0.001:\n",
    "        explored_s_mb += [s]\n",
    "        ax.plot(environment2.s_traj[:,0], environment2.s_traj[:,1], lw=2, alpha=0.3)\n",
    "        ax.add_patch(Circle(tuple(environment2.s_traj[-1,:]), ball_config[\"size\"], fc=ball_config[\"color\"], alpha=0.2))\n",
    "        \n",
    "plt.xticks(linspace(-1., 1., grid_size + 1))\n",
    "plt.yticks(linspace(-1., 1., grid_size + 1))\n",
    "ax.set_xticklabels([])\n",
    "ax.set_yticklabels([])\n",
    "plt.grid()"
   ]
  },
  {
   "cell_type": "markdown",
   "metadata": {},
   "source": [
    "### Exploration measure\n",
    "We compute the number of cells in the above grid where the ball has been placed at the end of the different movements."
   ]
  },
  {
   "cell_type": "code",
   "execution_count": 6,
   "metadata": {
    "collapsed": false
   },
   "outputs": [
    {
     "name": "stdout",
     "output_type": "stream",
     "text": [
      "Number of ball catch: 22\n",
      "Number of reached cells: 13\n"
     ]
    }
   ],
   "source": [
    "print \"Number of ball catch:\", len(explored_s_mb)\n",
    "print \"Number of reached cells:\", int(compute_explo(array(explored_s_mb), array([-1., -1.]), array([1., 1.]), gs=grid_size))"
   ]
  },
  {
   "cell_type": "markdown",
   "metadata": {},
   "source": [
    "## III. Random Goal Babbling\n"
   ]
  },
  {
   "cell_type": "code",
   "execution_count": 36,
   "metadata": {
    "collapsed": false
   },
   "outputs": [
    {
     "name": "stdout",
     "output_type": "stream",
     "text": [
      "Number of ball catch: 715\n",
      "Number of reached cells: 44\n"
     ]
    },
    {
     "data": {
      "image/png": "[encoded data removed]",
      "text/plain": [
       "<matplotlib.figure.Figure at 0x7f9fcf1e2fd0>"
      ]
     },
     "metadata": {},
     "output_type": "display_data"
    }
   ],
   "source": [
    "fig, ax = plt.subplots()\n",
    "ax.set_aspect('equal')\n",
    "ax.set_xlim((-2., 2.))\n",
    "ax.set_ylim((-2., 2.))\n",
    "ax.plot(0., 0., 'sk', ms=8)\n",
    "explored_s_gb = []\n",
    "\n",
    "sm_model = SensorimotorModel.from_configuration(environment2.conf, 'nearest_neighbor', 'default')\n",
    "sigma_explo_ratio = 0.05\n",
    "\n",
    "# Bootstrap model: 1 random motor babbling\n",
    "m = environment2.random_motors()[0]\n",
    "s = environment2.update(m)\n",
    "sm_model.update(m, s)\n",
    "    \n",
    "for _ in range(2000):\n",
    "    if (not sm_model.bootstrapped_s) or random() < 0.2:\n",
    "        m = environment2.random_motors()[0]\n",
    "    else:\n",
    "        s_goal = rand_bounds(environment2.conf.s_bounds)[0]\n",
    "        # infer a motor command to reach that goal using the Nearest Neighbor algorithm:\n",
    "        m = sm_model.model.infer_order(tuple(s_goal))\n",
    "        # add exploration noise (of variance sigma) to experiment new motor parameters\n",
    "        m = normal(m, sigma_explo_ratio)\n",
    "        #Plot the goal\n",
    "        ax.plot([s_goal[0]], [s_goal[1]], 'or', alpha=0.1)\n",
    "        \n",
    "    s = environment2.update(m)\n",
    "    sm_model.update(m, s)\n",
    "    if abs(s[-1] - 0.6) > 0.001:\n",
    "        explored_s_gb += [s]\n",
    "        ax.plot(environment2.s_traj[:,0], environment2.s_traj[:,1], lw=2, alpha=0.1)\n",
    "        ax.add_patch(Circle(tuple(environment2.s_traj[-1,:]), ball_config[\"size\"], fc=ball_config[\"color\"], alpha=0.2))\n",
    "        \n",
    "print \"Number of ball catch:\", len(explored_s_gb)\n",
    "print \"Number of reached cells:\", int(compute_explo(array(explored_s_gb), array([-1., -1.]), array([1., 1.]), gs=grid_size))"
   ]
  },
  {
   "cell_type": "markdown",
   "metadata": {},
   "source": [
    "## IV. Active Goal Babbling\n",
    "\n",
    "Active learning can be helpful."
   ]
  },
  {
   "cell_type": "code",
   "execution_count": 37,
   "metadata": {
    "collapsed": false
   },
   "outputs": [
    {
     "name": "stdout",
     "output_type": "stream",
     "text": [
      "Number of ball catch: 689\n",
      "Number of reached cells: 46\n"
     ]
    },
    {
     "data": {
      "image/png": "[encoded data removed]",
      "text/plain": [
       "<matplotlib.figure.Figure at 0x7f9fc608aed0>"
      ]
     },
     "metadata": {},
     "output_type": "display_data"
    }
   ],
   "source": [
    "fig, ax = plt.subplots()\n",
    "ax.set_aspect('equal')\n",
    "ax.set_xlim((-2, 2.))\n",
    "ax.set_ylim((-2., 2.))\n",
    "ax.plot(0., 0., 'sk', ms=8)\n",
    "explored_s_agb = []\n",
    "\n",
    "\n",
    "sm_model = SensorimotorModel.from_configuration(environment2.conf, 'nearest_neighbor', 'default')\n",
    "sigma_explo_ratio = 0.05\n",
    "\n",
    "im_n_cells = 20\n",
    "im_model = DiscretizedProgress(environment2.conf, environment2.conf.s_dims, \n",
    "                               **{'x_card': im_n_cells*im_n_cells, \n",
    "                                  'win_size': 20, \n",
    "                                  'eps_random': 0.2,\n",
    "                                  'measure': competence_dist})\n",
    "\n",
    "# Bootstrap model: 1 random motor babbling\n",
    "m = environment2.random_motors()[0]\n",
    "s = environment2.update(m)\n",
    "sm_model.update(m, s)\n",
    "    \n",
    "for _ in range(2000):\n",
    "    if (not sm_model.bootstrapped_s) or random() < 0.2:\n",
    "        m = environment2.random_motors()[0]\n",
    "        s = environment2.update(m)\n",
    "        sm_model.update(m, s)\n",
    "    else:\n",
    "        # sample a sensory goal maximizing learning progress using the interest model:\n",
    "        s_goal = im_model.sample()\n",
    "        # infer a motor command to reach that goal using the Nearest Neighbor algorithm:\n",
    "        m = sm_model.model.infer_order(tuple(s_goal))\n",
    "        # add exploration noise (of variance sigma) to experiment new motor parameters\n",
    "        m = normal(m, sigma_explo_ratio)\n",
    "        # execute this command and observe the corresponding sensory effect:\n",
    "        s = environment2.update(m)\n",
    "        # update the sensorimotor model:\n",
    "        sm_model.update(m, s)\n",
    "        # update the interest model:\n",
    "        im_model.update(hstack((m, s_goal)), hstack((m, s)))\n",
    "        #Plot the goal\n",
    "        ax.plot([s_goal[0]], [s_goal[1]], 'or', alpha=0.1)\n",
    "    # plot the observed sensory effect:\n",
    "    if abs(s[-1] - 0.6) > 0.001:\n",
    "        explored_s_agb += [s]\n",
    "        ax.plot(environment2.s_traj[:,0], environment2.s_traj[:,1], lw=2, alpha=0.1)\n",
    "        ax.add_patch(Circle(tuple(environment2.s_traj[-1,:]), ball_config[\"size\"], fc=ball_config[\"color\"], alpha=0.2))\n",
    "\n",
    "print \"Number of ball catch:\", len(explored_s_agb)\n",
    "print \"Number of reached cells:\", int(compute_explo(array(explored_s_agb), array([-1., -1.]), array([1., 1.]), gs=grid_size))"
   ]
  },
  {
   "cell_type": "code",
   "execution_count": 38,
   "metadata": {
    "collapsed": false
   },
   "outputs": [
    {
     "data": {
      "text/plain": [
       "<matplotlib.colorbar.Colorbar at 0x7f9fcf2e0b50>"
      ]
     },
     "execution_count": 38,
     "metadata": {},
     "output_type": "execute_result"
    },
    {
     "data": {
      "image/png": "[encoded data removed]",
      "text/plain": [
       "<matplotlib.figure.Figure at 0x7f9fccbc8a90>"
      ]
     },
     "metadata": {},
     "output_type": "display_data"
    }
   ],
   "source": [
    "progress_flat = abs(im_model.discrete_progress.progress())\n",
    "progress_array = zeros(im_model.space.cardinalities)\n",
    "\n",
    "for idx in range(len(progress_flat)):\n",
    "    progress_array[im_model.space.index2multi(idx)] = progress_flat[idx]\n",
    "    #print \"xy\", im_model.space.index2multi(idx), \"progress\", progress_flat[idx], im_model.discrete_progress.queues[idx]\n",
    "\n",
    "from matplotlib import cm\n",
    "fig, ax = plt.subplots()\n",
    "ax.set_xticklabels([])\n",
    "ax.set_yticklabels([])\n",
    "cax = ax.imshow(transpose(progress_array), origin='lower', cmap=cm.jet, interpolation=\"none\")\n",
    "fig.colorbar(cax)\n"
   ]
  },
  {
   "cell_type": "markdown",
   "metadata": {
    "collapsed": false
   },
   "source": [
    "AGB seems as good as RGB. \n",
    "\n",
    "Intuition: normally RGB explores more the frontier and has trouble to reach the inside, but here it could be that from a point reaching the frontier, the random exploration noise easily allows to reach the inside (it is sufficient to change only one of 14 parameters, or even combinations of them)."
   ]
  },
  {
   "cell_type": "markdown",
   "metadata": {},
   "source": [
    "## V. More complex environment\n",
    "\n",
    "Test AGB"
   ]
  },
  {
   "cell_type": "markdown",
   "metadata": {},
   "source": [
    "=> Need to change the representation"
   ]
  },
  {
   "cell_type": "markdown",
   "metadata": {},
   "source": [
    "## VI. Model Babbling"
   ]
  }
 ],
 "metadata": {
  "kernelspec": {
   "display_name": "Python 2",
   "language": "python",
   "name": "python2"
  },
  "language_info": {
   "codemirror_mode": {
    "name": "ipython",
    "version": 2
   },
   "file_extension": ".py",
   "mimetype": "text/x-python",
   "name": "python",
   "nbconvert_exporter": "python",
   "pygments_lexer": "ipython2",
   "version": "2.7.11+"
  },
  "widgets": {
   "state": {
    "0399e97d7f0848daa90383c332c19c94": {
     "views": []
    },
    "0403890b8a7e453c87f697ed3477e5a7": {
     "views": []
    },
    "048e651a1518421e83c1dade178afb72": {
     "views": []
    },
    "067beb5dd02f4382a0ac8ad6695d50a1": {
     "views": []
    },
    "069e4bf232c04656ba2e4c6a4e3a60c8": {
     "views": []
    },
    "07d099af7d2a4553972245e177b52e2f": {
     "views": []
    },
    "085e00e4bcb748138b2c53bc95f9beea": {
     "views": []
    },
    "0963626b9c02489f8e39a1612ded2bfe": {
     "views": []
    },
    "09bc2cddcf7d48c4ac03c29260610177": {
     "views": []
    },
    "0cf8f575f66344b9a32d7f3a4a2df667": {
     "views": []
    },
    "0dcc52e7931e4a4b8aab551d0798bae9": {
     "views": []
    },
    "0e3c31d4f4dc467ab03ce4f0da294160": {
     "views": []
    },
    "0e476b7f90424205a6790963b01321c4": {
     "views": []
    },
    "0ef12cac8756444fa93af4a208b77321": {
     "views": []
    },
    "0f2f1c645f4041fc91dd08cd8f04c58b": {
     "views": []
    },
    "139e9821fb0740508798502e6f430953": {
     "views": []
    },
    "141ec02d0801450ea0e6ae2564b804ed": {
     "views": []
    },
    "142610b492e8478188886e03d9107c23": {
     "views": []
    },
    "1496cfb674564fa595620f099caef89e": {
     "views": []
    },
    "14dfc6559941482985e7c0e97b94432f": {
     "views": []
    },
    "1598373b01a04325a0ca94e5d1fa5ca3": {
     "views": []
    },
    "18836d6d3fce437bac940849b08aec24": {
     "views": []
    },
    "18c69ad7672c4285bc236fe3830818e3": {
     "views": []
    },
    "194f48c4261c48729a76838812c6cdba": {
     "views": []
    },
    "19966ac835f941ad97d3af9fc24aaed8": {
     "views": []
    },
    "1af0cc88d3954cfaa9f42c37f426d3ce": {
     "views": [
      {
       "cell_index": 5
      }
     ]
    },
    "1cc57767f47c4e2ba28f8fca99fbb74c": {
     "views": []
    },
    "1d59bc32bc574887ba7baf151be132da": {
     "views": []
    },
    "1e348583fe6a459e8dce0cc05f373206": {
     "views": []
    },
    "1e7a5c92599e4c928a3751af591c8f1c": {
     "views": []
    },
    "1e8b2f7c6889472f94aa6cf324a3cb1b": {
     "views": []
    },
    "20d95de9475a403ebcf7e8a3c9eaf2c1": {
     "views": []
    },
    "218710a6ee2e4797a9db57d872275597": {
     "views": []
    },
    "223b93b3607344b699a76cc59da000c8": {
     "views": []
    },
    "2267c58fab6e4e67b3cc42722a4ce2d1": {
     "views": []
    },
    "23206beac6924f318a43f5953f71f8a7": {
     "views": []
    },
    "232e634fe5354dd8a041bfd1de591389": {
     "views": []
    },
    "232f5d02d1e040118da3c97694ada161": {
     "views": []
    },
    "24369b858a1c46b197e963dd3663f20b": {
     "views": []
    },
    "27c1be02df6146dc870af6f66c1f5394": {
     "views": []
    },
    "29ffabfcb4544808b23500479da3cfbb": {
     "views": []
    },
    "2bebe539bcd1404caa930c7c15d06a09": {
     "views": []
    },
    "2d76004eba8542d6b942f2fc63ae747f": {
     "views": []
    },
    "2d9fad2047df4206a6c4c516e22c146f": {
     "views": []
    },
    "2e1aabfcc77f4cd394666e15a5a96d5d": {
     "views": []
    },
    "2eaf809248e44cfab570964be80150d5": {
     "views": []
    },
    "3096d058862f4ad5bff9a238769d6728": {
     "views": []
    },
    "3153be343d8f4e11a19b04fc5fceb18a": {
     "views": []
    },
    "3182a337698349868d2ec7dfe5e046f6": {
     "views": []
    },
    "32cd5eb913bb4dc5b0de4c13dcbc58cc": {
     "views": []
    },
    "32f9d295711740fcb9c76b8c0c0ef826": {
     "views": []
    },
    "330579f6503a4e0584974cb3efef1f74": {
     "views": []
    },
    "3333057a79364cf5837edb7fe44ed884": {
     "views": []
    },
    "3394f87ebd444855a2518a3c435e8401": {
     "views": []
    },
    "33ffe2ff3b60406ba573b8d2c39ba38e": {
     "views": []
    },
    "342304eb6fed4a98ad69a6fd03f6b66f": {
     "views": []
    },
    "346a8195d7b24c8fb37675184d4b01d2": {
     "views": []
    },
    "35533d2f1ee1456e90234f9c74899553": {
     "views": []
    },
    "35cc81bc176843c7a7625cb5f5e5e16c": {
     "views": []
    },
    "3679a0c4e502479d873f5f9cd185b966": {
     "views": []
    },
    "389fe6f2111a4f41af84efabeeec1c69": {
     "views": []
    },
    "397f47d39aeb4d7185dbe4098761aeb3": {
     "views": []
    },
    "3cfcd0515e894f93bd6627a192746d58": {
     "views": []
    },
    "3eec581738704014af31535b5b316490": {
     "views": []
    },
    "40f2e043aa324901a72fade8220ba785": {
     "views": []
    },
    "42cd1b7532f2426f813bf8168d8d2c40": {
     "views": []
    },
    "438ce56dc73943398d548a4f536f11b9": {
     "views": []
    },
    "4428d6f02b9e42dc8c72274747e0a0b2": {
     "views": []
    },
    "442ed62e366d47e483ceb439060d912a": {
     "views": []
    },
    "4431c4f72d1d46a09ce9f1ecea47c9b1": {
     "views": []
    },
    "4465c2c9ab114323b45c160830055cca": {
     "views": []
    },
    "4563f94efdb2440a98bd68b00d35ab09": {
     "views": []
    },
    "462b4eb281df4971906f9f1d65408083": {
     "views": []
    },
    "47099a7e0fa64b018285caec8cb4b38f": {
     "views": []
    },
    "47200bfd75d642bc8cd51275e69f98e6": {
     "views": []
    },
    "485b98ac4b2e4494ac15ff12192f25d1": {
     "views": []
    },
    "48df9c0382ec49f6ab9600855e08edda": {
     "views": []
    },
    "490bfcea44814932ba0d703caf6fe1ba": {
     "views": []
    },
    "493f1ed62721462995c02ed5d12005ae": {
     "views": []
    },
    "4966f61c4bca421dbabd9d07b0a55d16": {
     "views": []
    },
    "4972d627ef204037a0a024b2b9dcee5d": {
     "views": []
    },
    "4a78404210c440c5bfeae97c45266aad": {
     "views": []
    },
    "4aa7e5713f4140f386ea55a234c9b444": {
     "views": []
    },
    "4d51bbe29c2746c0803180a453c62a87": {
     "views": []
    },
    "4fc2b0aa950f40489660755d6369d750": {
     "views": []
    },
    "50551514fa174d5d9abf4197d6d127a7": {
     "views": []
    },
    "507581f911c3462592814bbb60cbf782": {
     "views": []
    },
    "511586a149b544649a50527318f70955": {
     "views": []
    },
    "52930498f37e4acdbc4a498a277c657d": {
     "views": []
    },
    "52dd7ce398ef4ab2b23ae8b421f64b2a": {
     "views": []
    },
    "539186b861d842efa3d97383bfa3cb10": {
     "views": []
    },
    "5462dd46cd884be5a330d22a6a7f598e": {
     "views": []
    },
    "54e3f868bc3f4c09b55de6f130a87758": {
     "views": []
    },
    "5518dcf5d68d406387a1b943fd55de08": {
     "views": []
    },
    "55a99b9760c54e46815a84447252c98b": {
     "views": []
    },
    "5608a10318974169a9c79e9d841b8b9d": {
     "views": []
    },
    "5620c3c91c354bff8f3daefe1bc5dd44": {
     "views": []
    },
    "56cbfb4ab73e426394692976251a0803": {
     "views": []
    },
    "56da2f98297a4fcdb014ed6d76ca1f46": {
     "views": []
    },
    "570af0b0aa3348bba927402d9a289029": {
     "views": []
    },
    "581689fe46da4a75af24e06dfd5e2772": {
     "views": []
    },
    "598cbec3f5424402bbf7b9b186bf678f": {
     "views": []
    },
    "5a5b8f9216ee49f5aaa24fee7d746ef0": {
     "views": []
    },
    "5a638c5c57d94e7e9c061c2515949285": {
     "views": []
    },
    "5decfdb13b654b0aa64671a409262bd2": {
     "views": []
    },
    "5f0808b179324c9cb4ef3ec8fe275767": {
     "views": []
    },
    "5fa840913ded4d67bd36c122423c2450": {
     "views": []
    },
    "5ff7ce0997004999b4a3545dd1a48b4a": {
     "views": []
    },
    "620e7f70c40744c4a8c1ac9247bcf225": {
     "views": []
    },
    "621dbb06b3b147ffb6f27b93edfa21df": {
     "views": []
    },
    "6240ae6bc7f94f09a64add575291529b": {
     "views": []
    },
    "625b73e3f5be46b79e3f803d74e9020d": {
     "views": []
    },
    "64b44c2789474ac5a65585437b040d7b": {
     "views": []
    },
    "65ae5a33e04446c181193cb1121288a6": {
     "views": []
    },
    "675d81dd05c64b7ea9bfb769c26c17ab": {
     "views": []
    },
    "67d697924af4438d98fe28a92bd65a28": {
     "views": []
    },
    "68c1c02a3cac412e8e4590a6345796cc": {
     "views": []
    },
    "695056a16e4140f6889b74902cdc3250": {
     "views": []
    },
    "6a522af25fa243aea02704716f7f1743": {
     "views": []
    },
    "6a6d009a34564f5a90443e360f20e244": {
     "views": []
    },
    "6ae0ecf0fc804304a449b0152c064d41": {
     "views": []
    },
    "6beafdf737a54071947120887a04a20c": {
     "views": []
    },
    "6dbf97a7a1a6459a8c0dadafd58f30dd": {
     "views": []
    },
    "6e56c0d44392413b952b7d5603343863": {
     "views": []
    },
    "6f26394355754fc2b8f7160ef090922f": {
     "views": []
    },
    "6f406e17260743c8954d114aab363028": {
     "views": []
    },
    "6feadee2270c416884722533920cd757": {
     "views": []
    },
    "70eb1b377ab04155af2e5e5d5f5297b2": {
     "views": []
    },
    "7140681f63ff4b52bbe6e74e431a9111": {
     "views": []
    },
    "734d3f1f35ef4f74aa6c3d65e5de3bef": {
     "views": []
    },
    "748a465b4a494a3c9099a17fb6db8341": {
     "views": []
    },
    "756f6fe6e14a4d74949e2f0c3fed86aa": {
     "views": []
    },
    "776233c91720420aa45cf95a81aa24e5": {
     "views": []
    },
    "79b32bff41a54df2a8b400868bcbc249": {
     "views": []
    },
    "7c352b69ceba4d65b65d9e7c12556353": {
     "views": []
    },
    "7c92a31429ed4dcaa175d48bafa419b9": {
     "views": []
    },
    "7c9541808e624a46aee13e79785ce7ad": {
     "views": []
    },
    "7d02b89a69944d80a9e90064115ddc1d": {
     "views": []
    },
    "7ef4e30456324ae5ba982611e1722852": {
     "views": []
    },
    "7f328a72c8d546268e0df649c23eac6f": {
     "views": []
    },
    "81023ae453514f2b85d917d637bf2b7c": {
     "views": []
    },
    "8213562b5211416ca1951e06a7c27835": {
     "views": []
    },
    "844cd2caef1e4718bed847305011dc6f": {
     "views": []
    },
    "85326482f94e452c969ab80ab6912bca": {
     "views": []
    },
    "857b3086221d4696a13015b2ba0ac1cc": {
     "views": []
    },
    "866007e9f947407494d6740ce1447ff0": {
     "views": []
    },
    "875eb0299b1e4380b23dfc40be5febe9": {
     "views": []
    },
    "8821b964b28d43c384bd00aedf9c9221": {
     "views": []
    },
    "8864a38a997d4d8fb414d5a5c609fb95": {
     "views": []
    },
    "88b9f339ee4e4025914ea51eac5f14e7": {
     "views": []
    },
    "89a84547ca684d2395665a0a833428f3": {
     "views": []
    },
    "8a9ceb60e5b74ceb86e16d8b0439ab84": {
     "views": []
    },
    "8aee7e44d9d44d7a80ad2c6130323b8a": {
     "views": []
    },
    "8aefa3ee5b614cf8ae8cf262cde1291c": {
     "views": []
    },
    "8b15b016d0ff40d0b3c3033ec4c21982": {
     "views": []
    },
    "8c2438792023413fbbf0c33f267f9841": {
     "views": []
    },
    "8c751dd7d17e4f1aabd23e98ce3e23c9": {
     "views": []
    },
    "8dcac032ebdd426ba407f61e69a79d3c": {
     "views": []
    },
    "8e966602788e4c548bd9dbcd1988bb20": {
     "views": []
    },
    "8eb18b7d42d24c9db6a9b081e155c583": {
     "views": []
    },
    "8fc831a9e01b4a96aab12dcd4413e26d": {
     "views": []
    },
    "8fea0e67737841bf9537fcd754f79244": {
     "views": []
    },
    "900d22eb3e9e4bea89b38e0881a8b35d": {
     "views": []
    },
    "90e28529a3124e70a2ead5bcb4d208a1": {
     "views": []
    },
    "91114fd965164d2fb91dda3e8be6214e": {
     "views": []
    },
    "9817dea4360d48608d40ee5246ec1f2f": {
     "views": []
    },
    "9975607ff2ce46bfa97b4321c3d5b531": {
     "views": []
    },
    "9a8a17c548f54c49b9a1cd37288aa882": {
     "views": []
    },
    "9b9045520d5e46ea971523b99a09b4e1": {
     "views": []
    },
    "9ba349bd3316495e8370a0e492ebb480": {
     "views": []
    },
    "9f110c42415749ce82cbfc73a0f69f42": {
     "views": []
    },
    "9fc8f5a4e4974b3297181e8783689e30": {
     "views": []
    },
    "a25a1ff56486459ba7234a1ebabadc27": {
     "views": []
    },
    "a2a2ccec54e44f9680e1db2f22a286d4": {
     "views": []
    },
    "a2af54f513bf47d28a331e5a72d3aab4": {
     "views": []
    },
    "a44522994c3d4e6e86b56316699a8f3c": {
     "views": []
    },
    "a4a2be79bfa34ea796d23592a4f43546": {
     "views": []
    },
    "a51e31ef4ed1479d801379eec1ab5623": {
     "views": []
    },
    "aad3e482b50c46e59b8b83c5b57b910e": {
     "views": []
    },
    "acb141d7d5aa4e369038c4a99e833e17": {
     "views": []
    },
    "ad7bf3b73425440486df455ad88a57b2": {
     "views": []
    },
    "adb389d10e204e8a9d7e0caa21e83bac": {
     "views": []
    },
    "adefd67a8e414ac5bb387abe7735f3fd": {
     "views": []
    },
    "af08483ef72c4feca22f0bdd289c8171": {
     "views": []
    },
    "b11c7757fa594fb28ffa7ee71cd5f435": {
     "views": []
    },
    "b11d671598284ef5a1251bcfb38a024d": {
     "views": []
    },
    "b20c612dd20e4f7f8a8e9638fbae2373": {
     "views": []
    },
    "b2b3a117d4cb4b098004d247861d2c80": {
     "views": []
    },
    "b2bd0ccc634f4b608346ac5ee8f8d916": {
     "views": []
    },
    "b50a5b941850426c9e9a23c260b97a41": {
     "views": []
    },
    "b5c021b803ab449881bc56d86e2e49d8": {
     "views": []
    },
    "b70f56f356c2423b822596e4f33744cb": {
     "views": []
    },
    "b75100990449431f8b86e6f4bb72bd6a": {
     "views": []
    },
    "b79e61c8855d4aa882ad932a4dc7fe3d": {
     "views": []
    },
    "b80b9ecaad114c82a0533ea1d35dddae": {
     "views": []
    },
    "b85c3025ffdb42be91099ea97d2550a6": {
     "views": []
    },
    "b94558a3b3794bd7a61c2915ac07da23": {
     "views": []
    },
    "b95819fa73044e08b12f99de56fe965e": {
     "views": []
    },
    "bae9796837ad47c790c562d3e39de980": {
     "views": []
    },
    "bce91184e44f4300a0a112a350f1c122": {
     "views": []
    },
    "bd9ad5a3ee3647249ad5a5e05e2bcbb0": {
     "views": []
    },
    "bdeda1aa0c9d49b28b9f04704dcebc85": {
     "views": []
    },
    "be82d97215a5437fbff8e03671dc455b": {
     "views": []
    },
    "c04a60a2db98415ea6cbe89733e55555": {
     "views": []
    },
    "c06836a351d445f7939e71f7987c7223": {
     "views": []
    },
    "c087504f86624d028ef62665ed056fef": {
     "views": []
    },
    "c35c6d96a52d4bf6acbed3adfab368ce": {
     "views": []
    },
    "c483448d1cbe4dfda03806da6522066e": {
     "views": []
    },
    "c5060f79f1974a689190386441f7dcc9": {
     "views": []
    },
    "c62d7e1fb969417eab792f96faa9229b": {
     "views": []
    },
    "c68124531bfb42fba01025fb65a23b40": {
     "views": []
    },
    "c84fdbc04b8547cc9fc3aff1ee7700c1": {
     "views": []
    },
    "c93c71ceb2ba4e8e9de3de141049219c": {
     "views": []
    },
    "ca079dec0a564ec58127952cfa79c1cb": {
     "views": []
    },
    "cdbabe85f1294f6e86327cbdca6332b3": {
     "views": []
    },
    "cf6866ac2e834bd08d31eb4514cdad4d": {
     "views": []
    },
    "cf9f7f7fbfe54bfa95791b615e3e93b9": {
     "views": []
    },
    "cfac5a5655f0462394c563977f60fc8f": {
     "views": []
    },
    "d13b6b56e7ae4c31bb2e109a38ac75d0": {
     "views": []
    },
    "d2f897e9f0144bb9b2efad98e85879d7": {
     "views": []
    },
    "d5a4b078909e4b26832c0766540f5630": {
     "views": []
    },
    "d69f64f899a148d3a30a5c7b6e1e85f7": {
     "views": []
    },
    "d719f56099b94e44bee140e38ba0da5f": {
     "views": []
    },
    "dbacdcabdc8644359ad56237c095222a": {
     "views": []
    },
    "dbed5d37395640948e539709988592fa": {
     "views": []
    },
    "dce1b46cf56f4e5aa921d54f474dadff": {
     "views": []
    },
    "dd84e51474fe4218b6152990ab33cdc1": {
     "views": []
    },
    "df0f2af7258043cca55c0aa8e7bf0472": {
     "views": []
    },
    "df71d31f24114725ba4034bbf5d5b709": {
     "views": []
    },
    "e0aabfa516114a459ad2dd9cc0162543": {
     "views": []
    },
    "e1d81183bc06429fbc6694bf7f187545": {
     "views": []
    },
    "e2ca3ae76f82417983856b70c143f6d6": {
     "views": []
    },
    "e43971fdb256480cad874c80f4ecdb88": {
     "views": []
    },
    "e477d469569c49388ed951a5d3074126": {
     "views": []
    },
    "e48941b11f8d42f1bb9b56957bdd60d3": {
     "views": []
    },
    "e5f60175b3d44adc8ceb82745d920571": {
     "views": []
    },
    "e63ca8081022449690b4e2edbcd8c319": {
     "views": []
    },
    "e6dfb839ef3444618a5bf1f3c018951a": {
     "views": []
    },
    "e6fd6f44079a45ffbe2d34a60b1b29b3": {
     "views": []
    },
    "e72c047346a44fdead1b551e53d59ea9": {
     "views": []
    },
    "e836b08d4d954b198080c40eaab44885": {
     "views": []
    },
    "eaaa33188e2d4bcb8ca5047fd23db50d": {
     "views": []
    },
    "eb6e186703cc4d5e8cb5bb0fa0e4d54b": {
     "views": []
    },
    "eccaed40d50f4367840801b91c69d417": {
     "views": []
    },
    "ede35c92aba443e385c094ab575d2d15": {
     "views": []
    },
    "ee1f9b97a0b84c3e9c15ea7b29ad87cf": {
     "views": []
    },
    "f03dce4c00b24282ae739b3e296ccfe8": {
     "views": []
    },
    "f19181ecc3c1401eb7123f9a5aacd106": {
     "views": []
    },
    "f1e116df90a3488e890da19225706de2": {
     "views": []
    },
    "f25579aea96a406aa2d925fda85a656c": {
     "views": []
    },
    "f2ab7740e5e64193b3e8a313c3069bd0": {
     "views": []
    },
    "f2c8085645794f4aaa5a33e4cdc2f764": {
     "views": []
    },
    "f4a32646ba204bb49a46646230166cb1": {
     "views": []
    },
    "f6bb93ff45ff43eeaeeffe91ead0fd62": {
     "views": []
    },
    "f6ff9159f34c4c4789c524327f9b951a": {
     "views": []
    },
    "f777412668d444c5a76cfc43cc99366c": {
     "views": []
    },
    "f8ae5841cde44598bd72e0886553baaa": {
     "views": []
    },
    "f9060cfd9a26478b8a63d0b56965d5fe": {
     "views": []
    },
    "f9b0b4ea11644e57846730829ecda90f": {
     "views": []
    },
    "fabfe76f855e4535a308fe8e02889f04": {
     "views": []
    },
    "fe23ac73e95f4b9b9a89c41e68628c1e": {
     "views": []
    },
    "fed3fb070ce244b18ae8706037b7104e": {
     "views": []
    },
    "fee814a7fffc452a908995f0d00d2411": {
     "views": []
    },
    "fff0559359304d92a72ca535638d1f91": {
     "views": []
    }
   },
   "version": "1.1.2"
  }
 },
 "nbformat": 4,
 "nbformat_minor": 0
}
