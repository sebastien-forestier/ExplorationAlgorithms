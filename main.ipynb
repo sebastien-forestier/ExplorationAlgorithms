{
 "cells": [
  {
   "cell_type": "markdown",
   "metadata": {},
   "source": [
    "# Journey through some Exploration Algorithms\n",
    "\n",
    "### Introduction: \n",
    "    Exploration is cool\n",
    "\n",
    "### Requirements:\n",
    "- [Jupyter](http://jupyter.readthedocs.io/en/latest/install.html)\n",
    "- [Explauto](https://github.com/flowersteam/explauto)\n",
    "\n",
    "Might need to run 'jupyter nbextension enable --py --sys-prefix widgetsnbextension'\n",
    "\n",
    "To run this notebook:\n",
    "\n",
    "    jupyter notebook main.ipynb"
   ]
  },
  {
   "cell_type": "code",
   "execution_count": 1,
   "metadata": {
    "collapsed": false
   },
   "outputs": [],
   "source": [
    "%matplotlib inline\n",
    "\n",
    "import matplotlib\n",
    "import matplotlib.pyplot as plt\n",
    "from matplotlib.patches import Circle\n",
    "matplotlib.rcParams['figure.figsize'] = (6.0, 6.0)\n",
    "\n",
    "from numpy import pi, array, linspace, hstack\n",
    "from matplotlib import animation\n",
    "from IPython.display import HTML, display\n",
    "from ipywidgets import interact_manual\n",
    "from numpy.random import random\n",
    "\n",
    "\n",
    "from environment import Arm, Ball, ArmBall\n",
    "from explauto import SensorimotorModel\n",
    "from explauto import InterestModel\n",
    "from explauto.sensorimotor_model.non_parametric import NonParametric\n",
    "from explauto.utils import rand_bounds\n",
    "from explauto.environment.dynamic_environment import DynamicEnvironment\n",
    "from modular_environment import HierarchicalEnvironment\n",
    "from utils import compute_explo\n",
    "\n",
    "grid_size = 20"
   ]
  },
  {
   "cell_type": "markdown",
   "metadata": {},
   "source": [
    "## I. Exploring the movements of a robotic arm\n",
    "\n",
    "Configuration of a dynamic environment with an arm and a ball to catch.\n",
    "\n",
    "The 3 joints are controlled through DMPs with 3 basis functions (9 motor parameters in total).\n",
    "\n",
    "The environments can be instantiated either with the following configuration, or directly with 'ArmBall()'."
   ]
  },
  {
   "cell_type": "code",
   "execution_count": 2,
   "metadata": {
    "collapsed": false
   },
   "outputs": [],
   "source": [
    "arm_config = dict(\n",
    "    m_mins=[-1.] * 3,\n",
    "    m_maxs=[1.] * 3, \n",
    "    s_mins=[-1.] * 3,\n",
    "    s_maxs=[1.] * 3, \n",
    "    lengths=[0.5, 0.3, 0.2], \n",
    "    angle_shift=0.5,\n",
    "    rest_state=[0.] * 3)\n",
    "\n",
    "ball_config = dict(\n",
    "    m_mins=[-1.] * 2,\n",
    "    m_maxs=[1.] * 2, \n",
    "    s_mins=[-1.] * 2,\n",
    "    s_maxs=[1.] * 2,\n",
    "    size=0.1,\n",
    "    initial_position=[0.6, 0.6],\n",
    "    color=\"b\")\n",
    "\n",
    "arm_ball_cfg = dict(\n",
    "    m_mins=[-1.] * 3,\n",
    "    m_maxs=[1.] * 3,\n",
    "    s_mins=[-1.] * 2,\n",
    "    s_maxs=[1.] * 2,\n",
    "    top_env_cls=Ball, \n",
    "    lower_env_cls=Arm, \n",
    "    top_env_cfg=ball_config, \n",
    "    lower_env_cfg=arm_config, \n",
    "    fun_m_lower= lambda m:m,\n",
    "    fun_s_lower=lambda m,s:s[0:2],\n",
    "    fun_s_top=lambda m,s_lower,s:s)\n",
    "\n",
    "dynamic_environment_config = dict(\n",
    "    env_cfg=arm_ball_cfg,\n",
    "    env_cls=HierarchicalEnvironment,\n",
    "    m_mins=[-1.] * 3 * 3, \n",
    "    m_maxs=[1.] * 3 * 3, \n",
    "    s_mins=[-1] * 3 * 2,\n",
    "    s_maxs=[1] * 3 * 2,\n",
    "    n_bfs=3,\n",
    "    move_steps=50, \n",
    "    n_dynamic_motor_dims=3,\n",
    "    n_dynamic_sensori_dims=2, \n",
    "    max_params=1000)\n",
    "\n",
    "environment1 = DynamicEnvironment(**dynamic_environment_config)\n",
    "\n",
    "#environment = ArmBall()"
   ]
  },
  {
   "cell_type": "markdown",
   "metadata": {},
   "source": [
    "Control the arm through the 9 following sliders (and hit \"Run\" button).\n",
    "\n",
    "Try to catch the ball !"
   ]
  },
  {
   "cell_type": "code",
   "execution_count": 3,
   "metadata": {
    "collapsed": false
   },
   "outputs": [
    {
     "data": {
      "text/plain": [
       "<function __main__.movement>"
      ]
     },
     "execution_count": 3,
     "metadata": {},
     "output_type": "execute_result"
    },
    {
     "data": {
      "image/png": "[encoded data removed]",
      "text/plain": [
       "<matplotlib.figure.Figure at 0x7f2d65b89450>"
      ]
     },
     "metadata": {},
     "output_type": "display_data"
    }
   ],
   "source": [
    "# Had to run 'jupyter nbextension enable --py --sys-prefix widgetsnbextension'\n",
    "fig, ax = plt.subplots()\n",
    "\n",
    "def movement(m1=0., m2=0., m3=0., m4=0., m5=0., m6=0., m7=0., m8=0., m9=0.):\n",
    "    environment1.update(array([m1, m2, m3, m4, m5, m6, m7, m8, m9]))\n",
    "    display(HTML(environment1.plot(fig, ax)))\n",
    "    \n",
    "interact_manual(movement, m1=(-1., 1., 0.01), m2=(-1., 1., 0.01), m3=(-1., 1., 0.01), \n",
    "                          m4=(-1., 1., 0.01), m5=(-1., 1., 0.01), m6=(-1., 1., 0.01), \n",
    "                          m7=(-1., 1., 0.01), m8=(-1., 1., 0.01), m9=(-1., 1., 0.01))\n"
   ]
  },
  {
   "cell_type": "markdown",
   "metadata": {},
   "source": [
    "## II. Random Motor Babbling\n",
    "\n",
    "Let's use a higher dimensional arm."
   ]
  },
  {
   "cell_type": "code",
   "execution_count": 4,
   "metadata": {
    "collapsed": true
   },
   "outputs": [],
   "source": [
    "arm_config = dict(\n",
    "    m_mins=[-1.] * 7,\n",
    "    m_maxs=[1.] * 7, \n",
    "    s_mins=[-1.] * 3,\n",
    "    s_maxs=[1.] * 3, \n",
    "    lengths=[0.3, 0.2, 0.2, 0.1, 0.1, 0.05, 0.05], \n",
    "    angle_shift=0.5,\n",
    "    rest_state=[0.] * 7)\n",
    "\n",
    "ball_config = dict(\n",
    "    m_mins=[-1.] * 2,\n",
    "    m_maxs=[1.] * 2, \n",
    "    s_mins=[-1.] * 2,\n",
    "    s_maxs=[1.] * 2,\n",
    "    size=0.1,\n",
    "    initial_position=[0.6, 0.6],\n",
    "    color=\"b\")\n",
    "\n",
    "arm_ball_cfg = dict(\n",
    "    m_mins=[-1.] * 7,\n",
    "    m_maxs=[1.] * 7,\n",
    "    s_mins=[-1.] * 2,\n",
    "    s_maxs=[1.] * 2,\n",
    "    top_env_cls=Ball, \n",
    "    lower_env_cls=Arm, \n",
    "    top_env_cfg=ball_config, \n",
    "    lower_env_cfg=arm_config, \n",
    "    fun_m_lower= lambda m:m,\n",
    "    fun_s_lower=lambda m,s:s[0:2],\n",
    "    fun_s_top=lambda m,s_lower,s:s)\n",
    "    #fun_s_top=lambda m,s_lower,s:s_lower[0:2] + s)\n",
    "\n",
    "dynamic_environment_config = dict(\n",
    "    env_cfg=arm_ball_cfg,\n",
    "    env_cls=HierarchicalEnvironment,\n",
    "    m_mins=[-1.] * 3 * 7, \n",
    "    m_maxs=[1.] * 3 * 7, \n",
    "    s_mins=[-1] * 3 * 2,\n",
    "    s_maxs=[1] * 3 * 2,\n",
    "    n_bfs=3,\n",
    "    move_steps=50, \n",
    "    n_dynamic_motor_dims=7,\n",
    "    n_dynamic_sensori_dims=2, \n",
    "    max_params=1000)\n",
    "\n",
    "environment2 = DynamicEnvironment(**dynamic_environment_config)\n"
   ]
  },
  {
   "cell_type": "code",
   "execution_count": 5,
   "metadata": {
    "collapsed": false
   },
   "outputs": [
    {
     "data": {
      "image/png": "[encoded data removed]",
      "text/plain": [
       "<matplotlib.figure.Figure at 0x7f2d651774d0>"
      ]
     },
     "metadata": {},
     "output_type": "display_data"
    }
   ],
   "source": [
    "fig, ax = plt.subplots()\n",
    "ax.set_aspect('equal')\n",
    "ax.set_xlim((-1.5, 1.5))\n",
    "ax.set_ylim((-1.5, 1.5))\n",
    "ax.plot(0., 0., 'sk', ms=8)\n",
    "explored_s_mb = []\n",
    "\n",
    "for _ in range(1000):\n",
    "    m = environment2.random_motors()[0]\n",
    "    s = environment2.update(m)\n",
    "    if abs(s[-1] - s[-3]) > 0.01:\n",
    "        explored_s_mb += [s]\n",
    "        ax.plot(environment2.s_traj[:,0], environment2.s_traj[:,1], lw=2, alpha=0.3)\n",
    "        ax.add_patch(Circle(tuple(environment2.s_traj[-1,:]), ball_config[\"size\"], fc=ball_config[\"color\"], alpha=0.2))\n",
    "        \n",
    "plt.xticks(linspace(-1.5, 1.5, grid_size + 1))\n",
    "plt.yticks(linspace(-1.5, 1.5, grid_size + 1))\n",
    "ax.set_xticklabels([])\n",
    "ax.set_yticklabels([])\n",
    "plt.grid()"
   ]
  },
  {
   "cell_type": "markdown",
   "metadata": {},
   "source": [
    "### Exploration measure\n",
    "We compute the number of cells in the above grid where the ball has been placed at the end of the different movements."
   ]
  },
  {
   "cell_type": "code",
   "execution_count": 6,
   "metadata": {
    "collapsed": false
   },
   "outputs": [
    {
     "name": "stdout",
     "output_type": "stream",
     "text": [
      "Number of ball catch: 13\n",
      "Number of reached cells: 7\n"
     ]
    }
   ],
   "source": [
    "print \"Number of ball catch:\", len(explored_s_mb)\n",
    "print \"Number of reached cells:\", int(compute_explo(array(explored_s_mb)[:,[2,5]], array([-1.5, -1.5]), array([1.5, 1.5]), gs=grid_size))"
   ]
  },
  {
   "cell_type": "markdown",
   "metadata": {},
   "source": [
    "## III. Random Goal Babbling\n"
   ]
  },
  {
   "cell_type": "code",
   "execution_count": 7,
   "metadata": {
    "collapsed": false
   },
   "outputs": [
    {
     "data": {
      "image/png": "[encoded data removed]",
      "text/plain": [
       "<matplotlib.figure.Figure at 0x7f2d651153d0>"
      ]
     },
     "metadata": {},
     "output_type": "display_data"
    }
   ],
   "source": [
    "fig, ax = plt.subplots()\n",
    "ax.set_aspect('equal')\n",
    "ax.set_xlim((-1.5, 1.5))\n",
    "ax.set_ylim((-1.5, 1.5))\n",
    "ax.plot(0., 0., 'sk', ms=8)\n",
    "explored_s_gb = []\n",
    "\n",
    "sm_model = SensorimotorModel.from_configuration(environment2.conf, 'nearest_neighbor', 'default')\n",
    "#model = NonParametric(environment.conf, **{'fwd': 'NN', 'inv': 'NN', 'sigma_explo_ratio':0.1})\n",
    "\n",
    "# Bootstrap model: 1 random motor babbling\n",
    "m = environment2.random_motors()[0]\n",
    "s = environment2.update(m)\n",
    "sm_model.update(m, s)\n",
    "    \n",
    "for _ in range(1000):\n",
    "    if random() < 0.3:\n",
    "        m = environment2.random_motors()[0]\n",
    "    else:\n",
    "        s_goal = rand_bounds(environment2.conf.s_bounds)[0]\n",
    "        m = sm_model.inverse_prediction(s_goal)\n",
    "    s = environment2.update(m)\n",
    "    sm_model.update(m, s)\n",
    "    if abs(s[-1] - s[-3]) > 0.01:\n",
    "        explored_s_gb += [s]\n",
    "        ax.plot(environment2.s_traj[:,0], environment2.s_traj[:,1], lw=2, alpha=0.1)\n",
    "        ax.add_patch(Circle(tuple(environment2.s_traj[-1,:]), ball_config[\"size\"], fc=ball_config[\"color\"], alpha=0.2))\n",
    "        \n",
    "plt.xticks(linspace(-1.5, 1.5, grid_size + 1))\n",
    "plt.yticks(linspace(-1.5, 1.5, grid_size + 1))\n",
    "ax.set_xticklabels([])\n",
    "ax.set_yticklabels([])\n",
    "plt.grid()"
   ]
  },
  {
   "cell_type": "code",
   "execution_count": 8,
   "metadata": {
    "collapsed": false
   },
   "outputs": [
    {
     "name": "stdout",
     "output_type": "stream",
     "text": [
      "Number of ball catch: 120\n",
      "Number of reached cells: 41\n"
     ]
    }
   ],
   "source": [
    "print \"Number of ball catch:\", len(explored_s_gb)\n",
    "print \"Number of reached cells:\", int(compute_explo(array(explored_s_gb)[:,[2,5]], array([-1.5, -1.5]), array([1.5, 1.5]), gs=grid_size))"
   ]
  },
  {
   "cell_type": "markdown",
   "metadata": {},
   "source": [
    "## IV. Active Goal Babbling\n",
    "\n",
    "Active learning can be helpful."
   ]
  },
  {
   "cell_type": "code",
   "execution_count": 9,
   "metadata": {
    "collapsed": false
   },
   "outputs": [
    {
     "data": {
      "image/png": "[encoded data removed]",
      "text/plain": [
       "<matplotlib.figure.Figure at 0x7f2d2b726cd0>"
      ]
     },
     "metadata": {},
     "output_type": "display_data"
    }
   ],
   "source": [
    "fig, ax = plt.subplots()\n",
    "ax.set_aspect('equal')\n",
    "ax.set_xlim((-1.5, 1.5))\n",
    "ax.set_ylim((-1.5, 1.5))\n",
    "ax.plot(0., 0., 'sk', ms=8)\n",
    "explored_s_agb = []\n",
    "\n",
    "sm_model = SensorimotorModel.from_configuration(environment2.conf, 'nearest_neighbor', 'default')\n",
    "im_model = InterestModel.from_configuration(environment2.conf, environment2.conf.s_dims, 'tree')\n",
    "\n",
    "\n",
    "# Bootstrap model: 1 random motor babbling\n",
    "m = environment2.random_motors()[0]\n",
    "s = environment2.update(m)\n",
    "sm_model.update(m, s)\n",
    "    \n",
    "for _ in range(1000):\n",
    "    if random() < 0.3:\n",
    "        m = environment2.random_motors()[0]\n",
    "        s = environment2.update(m)\n",
    "        sm_model.update(m, s)\n",
    "    else:\n",
    "        # sample a sensory goal maximizing learning progress using the interest model:\n",
    "        s_goal = im_model.sample()\n",
    "        # infer a motor command to reach that goal using the sensorimotor model:\n",
    "        m = sm_model.inverse_prediction(s_goal)\n",
    "        # execute this command and observe the corresponding sensory effect:\n",
    "        s = environment2.update(m)\n",
    "        # update the sensorimotor model:\n",
    "        sm_model.update(m, s)\n",
    "        # update the interest model:\n",
    "        im_model.update(hstack((m, s)), hstack((m, s_goal)))\n",
    "    # plot the observed sensory effect:\n",
    "    if abs(s[-1] - s[-3]) > 0.01:\n",
    "        explored_s_agb += [s]\n",
    "        ax.plot(environment2.s_traj[:,0], environment2.s_traj[:,1], lw=2, alpha=0.1)\n",
    "        ax.add_patch(Circle(tuple(environment2.s_traj[-1,:]), ball_config[\"size\"], fc=ball_config[\"color\"], alpha=0.2))\n",
    "        \n",
    "plt.xticks(linspace(-1.5, 1.5, grid_size + 1))\n",
    "plt.yticks(linspace(-1.5, 1.5, grid_size + 1))\n",
    "ax.set_xticklabels([])\n",
    "ax.set_yticklabels([])\n",
    "plt.grid()"
   ]
  },
  {
   "cell_type": "code",
   "execution_count": 10,
   "metadata": {
    "collapsed": false
   },
   "outputs": [
    {
     "name": "stdout",
     "output_type": "stream",
     "text": [
      "Number of ball catch: 118\n",
      "Number of reached cells: 42\n"
     ]
    }
   ],
   "source": [
    "print \"Number of ball catch:\", len(explored_s_agb)\n",
    "print \"Number of reached cells:\", int(compute_explo(array(explored_s_agb)[:,[2,5]], array([-1.5, -1.5]), array([1.5, 1.5]), gs=grid_size))"
   ]
  },
  {
   "cell_type": "markdown",
   "metadata": {},
   "source": [
    "## V. More complex environment\n",
    "\n",
    "Test AGB"
   ]
  },
  {
   "cell_type": "markdown",
   "metadata": {},
   "source": [
    "=> Need to change the representation"
   ]
  },
  {
   "cell_type": "markdown",
   "metadata": {},
   "source": [
    "## VI. Model Babbling"
   ]
  }
 ],
 "metadata": {
  "kernelspec": {
   "display_name": "Python 2",
   "language": "python",
   "name": "python2"
  },
  "language_info": {
   "codemirror_mode": {
    "name": "ipython",
    "version": 2
   },
   "file_extension": ".py",
   "mimetype": "text/x-python",
   "name": "python",
   "nbconvert_exporter": "python",
   "pygments_lexer": "ipython2",
   "version": "2.7.11+"
  },
  "widgets": {
   "state": {
    "001c3254b82a42ea93097bed173c10d2": {
     "views": []
    },
    "001de7ae4f5c4d2aad8e6aeb647b3cd7": {
     "views": []
    },
    "0023d87a290e4ab2bdee482afe565064": {
     "views": []
    },
    "00536a789be340aebaacbeaab032906f": {
     "views": []
    },
    "0058750c490d4b15abe15062c9820c95": {
     "views": []
    },
    "005b99aca7214d3192d76ac0a4a75ccf": {
     "views": []
    },
    "0065b9ac60f14e24be845be0efbb3916": {
     "views": []
    },
    "007dbd0373054c9db88913356cd7fb27": {
     "views": []
    },
    "009095512caa4ee9b5eb285a77f68ec0": {
     "views": []
    },
    "009ea4344f3443be94fa36aaefe0e472": {
     "views": []
    },
    "00cd3259b3844df7b159ca57f8bf7372": {
     "views": []
    },
    "00e3b1c60f4346cb8799ff98949931fb": {
     "views": []
    },
    "00fa34c2ddbb42fc96cb3c2a7eebc9e1": {
     "views": []
    },
    "0136cc0700404839938a10c88b0e917c": {
     "views": []
    },
    "01a94b052c964f63aaddaff328159370": {
     "views": []
    },
    "01c718e0a21f4dc8969a61938aa275b6": {
     "views": []
    },
    "01f9d6f65e2e466ea098fe99b9f25c50": {
     "views": []
    },
    "0241745f6746463d8efeee67c6e66e33": {
     "views": []
    },
    "025d85332866407483091de9bfd061b1": {
     "views": []
    },
    "026bf97a2e574b46be8130ca9943406a": {
     "views": []
    },
    "0368779eb0224904b74b747c794e412d": {
     "views": []
    },
    "03818dbf2b8840d599c7206cee2805bc": {
     "views": []
    },
    "03a09a1b0c744fcfb8feefabbc5d5289": {
     "views": []
    },
    "03f96cb804e9436ba23bd4d92c8da635": {
     "views": []
    },
    "0462bef4903e44c294e14ac3b144d0e5": {
     "views": []
    },
    "04795d6c42964e659a2716068e25eafd": {
     "views": []
    },
    "04842e4c34b3448fbf48072a2724c1f1": {
     "views": []
    },
    "056b7fa763f142c9b4c31deb1f827225": {
     "views": []
    },
    "05aee340c48d412592409a1366905a90": {
     "views": []
    },
    "05c1bf2fb4a84b679b3f5b6bf06ee1ce": {
     "views": []
    },
    "05da834d44bf4da99fc4b7e4a0308844": {
     "views": []
    },
    "06230614cc1b43ea95d64e1ede0d9e1d": {
     "views": []
    },
    "06b3e4584f80473d9c67acbed205353f": {
     "views": []
    },
    "06faae36e24c447f85965d802d983576": {
     "views": []
    },
    "070f3a8ce25b48feb978d351c74694db": {
     "views": []
    },
    "0720dc7a2fb549c5844677c780e14074": {
     "views": []
    },
    "07304a59720a4b4588edb1c4f5733651": {
     "views": []
    },
    "0746ed7f11b8421280b44e3d9a1ebadb": {
     "views": []
    },
    "077aaf247cb84ecbb9c73e31dfc33e84": {
     "views": []
    },
    "07d64db950ed419da93ed8803bf60611": {
     "views": []
    },
    "07db47ebc6be41bb84ab05c620f6950f": {
     "views": []
    },
    "08843e024c9c48119139a68b9161c5e0": {
     "views": []
    },
    "088d814d89ce47f29d0ed4d706537571": {
     "views": []
    },
    "0897b428f3764787bbe526cb93084a66": {
     "views": []
    },
    "08bd77f5127d45e9852b2b5b5b9ae2cb": {
     "views": []
    },
    "08f92d4011f4468584060c1e54c83872": {
     "views": []
    },
    "0903ee76221846ea8b3033040fb1a9fd": {
     "views": []
    },
    "0910f939ba17480888687d7232586e41": {
     "views": []
    },
    "0914fd28bcd242b6a7e59970b26a4800": {
     "views": []
    },
    "09237270840b4321a3e4e658b4b6f9a2": {
     "views": []
    },
    "0951255fcd214578a2e5dc2250214d2a": {
     "views": []
    },
    "09804ece718244ae90afab1a9461bfd3": {
     "views": []
    },
    "09d09308238843b6abc2d8ed957ec29f": {
     "views": []
    },
    "09e5d47847134f2a8ab71af09fffc73f": {
     "views": []
    },
    "0a050cc91e914c3cbcc789be23fc7d87": {
     "views": []
    },
    "0a893f2771464ee7befd5ee8781c81d7": {
     "views": []
    },
    "0a9737c24cbf4e5fb7fafc87cc47a71f": {
     "views": []
    },
    "0aecbac25f94475fb3133cd645a9f0df": {
     "views": []
    },
    "0b1fb3ee9a2d466cbf8ef22642087494": {
     "views": []
    },
    "0b454bb2d05e4b13b6e759ad9d904e0c": {
     "views": []
    },
    "0b6029bde8e9420199da0dd2718e791c": {
     "views": []
    },
    "0bfe62b904594ff1917b32c078a9c0b9": {
     "views": []
    },
    "0c055499f8454d13a88999993edd82b4": {
     "views": []
    },
    "0c1e814fd4574b50812cddd425b7258b": {
     "views": []
    },
    "0c70563acf0e46a995e0d94dd4bc5ed4": {
     "views": []
    },
    "0d9e27f1c7c1492fb857ba47a7ecd3c3": {
     "views": []
    },
    "0dd5d18c31c4411c9f721e4396f15480": {
     "views": []
    },
    "0de97e70b5604a50a3936bed5fe32489": {
     "views": []
    },
    "0deeebb26cee4e1d95a0b2f85aa0b3a0": {
     "views": []
    },
    "0e741ca01b7f484e8ff0c53c6cee6657": {
     "views": []
    },
    "0e9e2d113dd74c0d8bc22d4a9db12990": {
     "views": []
    },
    "0ecd4c48cbdd40f180954e58e713d5bb": {
     "views": []
    },
    "0ef5f11989234b72ac9dede43c2b98ac": {
     "views": []
    },
    "0f206e7994d54965a98ca57df86093e8": {
     "views": []
    },
    "0f7d71546ecf4226bad1a60e0865ca98": {
     "views": []
    },
    "0f7fd8beb6104290b34366065acec3ae": {
     "views": []
    },
    "0f8fe74c7edd4a5589889875c8aa5a47": {
     "views": []
    },
    "0fb2d279514a422c9d5c6ce81e230d81": {
     "views": []
    },
    "10a6bd71ec274657ae3b4f44ba0e7393": {
     "views": []
    },
    "11246695e3fd4164b608aa674b246d2c": {
     "views": []
    },
    "11416d0b60754736a683dbca27537aef": {
     "views": []
    },
    "11f8d114341d41f0b0d6b1a6cdb1eeaa": {
     "views": []
    },
    "12598659abec426ea3458da6a9fa99c0": {
     "views": []
    },
    "126939f7592844329c6bb28ee05dee53": {
     "views": []
    },
    "12770dc25b3e401b8f30950c83db464e": {
     "views": []
    },
    "127749ea517a4350bdc879178465aab2": {
     "views": []
    },
    "129e0a7c85114c4f9af3b3e4b6c41710": {
     "views": []
    },
    "12c310c3d4294f1496bffa16b3f1b813": {
     "views": []
    },
    "131b7c030fbe402595cf62789dab5947": {
     "views": []
    },
    "1328764c953e4a97851e90e5f014a38b": {
     "views": []
    },
    "13311f9bbf5f4ca288312f16ce9d33c0": {
     "views": []
    },
    "13a718d4f1c9427f8848396dee5241e6": {
     "views": []
    },
    "13b9657691204558bacd1037820c0616": {
     "views": []
    },
    "13e4a17b4e1f42bfbef043d19d683e9d": {
     "views": []
    },
    "144eef5ee07e4549bcf7c9373ebf3fe7": {
     "views": []
    },
    "14aa7ed3f6a04c47ba8f4827ee361a5a": {
     "views": []
    },
    "152ea598c617455e8ee66c05bcc03f6e": {
     "views": []
    },
    "16669f30dfba4e668b84ef198f9ba33a": {
     "views": []
    },
    "1682ee954a4947c393d635951f558f19": {
     "views": []
    },
    "16873d67810142e89ff7fd19f1118d7d": {
     "views": []
    },
    "169f44fe97204b57a999eff57fca1404": {
     "views": []
    },
    "16e137f11c83481abad089075c42f275": {
     "views": []
    },
    "1708c6e9d55f4fbeb94e6697f91bc801": {
     "views": []
    },
    "172ddfe5e65e40a48a853a6e2d94e5d7": {
     "views": []
    },
    "17cea1268ed24121bf184950fe29c7ba": {
     "views": []
    },
    "17e2c6c3454a44cc83f461afec503877": {
     "views": []
    },
    "180665f8109448d0b5472d26c1f89c2d": {
     "views": []
    },
    "184a5a4a43a84d97accfa9ba6edfdeb6": {
     "views": []
    },
    "18fa94cff2f042aaa40fa307f001cf65": {
     "views": []
    },
    "190f477cb04d4232830f163be86829ef": {
     "views": []
    },
    "1947538560344af3b21f3d45a517a12d": {
     "views": []
    },
    "197dd7594af84b40a938a5955db15657": {
     "views": []
    },
    "19a9017c85ca4962956d42ffbd58af83": {
     "views": []
    },
    "19cfbb7d3b014d9ca251aaf1e734a713": {
     "views": []
    },
    "1a5b8285791f4745a9151d407f907024": {
     "views": []
    },
    "1a80003483ff494181c327008a285133": {
     "views": []
    },
    "1a80afe6c1494628ae3c24e81f41b752": {
     "views": []
    },
    "1ae14cde394a4c2d81156e677ef096b0": {
     "views": []
    },
    "1b427d2fcb4f4e4b8d70de60ef84ca80": {
     "views": []
    },
    "1bc6403718cd4a26a43ca7880c60d7e9": {
     "views": []
    },
    "1be896218b624fc991c5bd82a0eea53b": {
     "views": []
    },
    "1c2673f8e13042a69bdc3fbf8ade3d39": {
     "views": []
    },
    "1c7ca16952da41b9bc20028e92cb5873": {
     "views": []
    },
    "1cc30136ac6049868442cc6d0ebddd36": {
     "views": []
    },
    "1cf52b84ed1e4b8f9a966ae6a82d500e": {
     "views": []
    },
    "1d17b20d4f41455cb7d3e36a26ac2ee7": {
     "views": []
    },
    "1d1edb0885e044c3b3826efd58f491e7": {
     "views": []
    },
    "1d42c31202a44ceb82e126c2c0a608ef": {
     "views": []
    },
    "1d67d2a39d734a858fdb1d29b3371232": {
     "views": []
    },
    "1d7b80d2f93e4bed9bcde9c9f18d43e9": {
     "views": []
    },
    "1da57a175a854303a6813e3e5c6f6ed5": {
     "views": []
    },
    "1dc63979271c4925abe7dc9ea0db2f47": {
     "views": []
    },
    "1e0bae8eef164808a542b74e76c699c0": {
     "views": []
    },
    "1e7107b275464dc7834c24796cdbcb42": {
     "views": []
    },
    "1edb2d47687e4ef6b7597a1d95734360": {
     "views": []
    },
    "1edef06d45364e94abbd4778ef1d6245": {
     "views": []
    },
    "1ee3b9fafa2746658def687b78f424be": {
     "views": []
    },
    "1f7134538e604bd4a45ac43de60a5d04": {
     "views": []
    },
    "20a442c4dba64bbfac01ffdbb792cebd": {
     "views": []
    },
    "2195a04cec6544948baa6ca4e72b6f79": {
     "views": []
    },
    "21beac0ea1cc46d896657198bb4fcf3e": {
     "views": []
    },
    "21c1bd7ba2f2402fa69db53bbd37be99": {
     "views": []
    },
    "21d60803e403410e9791784567d03d67": {
     "views": []
    },
    "21dade03af634a5f80c6f2738e74f782": {
     "views": []
    },
    "21ef6486adca4ab498cc45e7930c5c29": {
     "views": []
    },
    "22910e9c4f6448a982f6a4a95ce9e612": {
     "views": []
    },
    "22c1764b63654f4da5f21ea4add0e39f": {
     "views": []
    },
    "22f46769859e4324a372fbd305960987": {
     "views": []
    },
    "2306668b73e545cb92a16be496cb1b7e": {
     "views": []
    },
    "236c6a1f99ef464cab1d23a5033a85fa": {
     "views": []
    },
    "23fa78f159bb43dcbfed1f662d80f219": {
     "views": []
    },
    "240971d3bafb45df9acc2d63cbb975bd": {
     "views": []
    },
    "246780db02ec4428bd9d0c7fdf8a6e06": {
     "views": []
    },
    "24d25b9640d74c8d93ba1474e1b2c3cf": {
     "views": []
    },
    "24f8b0884eb74adca8a7d529b42dc043": {
     "views": []
    },
    "2501be1011964062ac105bb97d108f54": {
     "views": []
    },
    "2524080016bf4004819e837a25db7bfe": {
     "views": []
    },
    "25295a3000e245e3bbb2b0967a275a3c": {
     "views": []
    },
    "25bd1928489b4b3fbb966b78a2041b81": {
     "views": []
    },
    "25bef450523241f7b290f40be36ae849": {
     "views": []
    },
    "25c33a40d73e40259c83cf868bbafc7c": {
     "views": []
    },
    "260192dbbf444d73893b5e4bdfb5904d": {
     "views": []
    },
    "2606158c8ff84d5091600c727fb15956": {
     "views": []
    },
    "264c12e463a3465fbd09762de882540e": {
     "views": []
    },
    "267fd018261848e7bba34dad965a9fce": {
     "views": []
    },
    "26a7bbaeb26f40da83cac50f2d8beaa8": {
     "views": []
    },
    "27b85f59888448d480a1b64a51ed9801": {
     "views": []
    },
    "27cb171333024b17b9cfcc9e7a4ebce5": {
     "views": []
    },
    "282c8e39e35f4d2883d813c0017a7770": {
     "views": []
    },
    "28a5d637a5654ad69e3ce09707d74dd8": {
     "views": []
    },
    "28cb7356c1014a00964194024c23aeb5": {
     "views": []
    },
    "28ffb7b7734e4758825db3062e946db9": {
     "views": []
    },
    "294306f5174a4de68ad318a3fe8c2a50": {
     "views": []
    },
    "2960a565d247474c8a7c26c8bc059686": {
     "views": []
    },
    "29acc5391e184feb9f8f70290ded599b": {
     "views": []
    },
    "29b24293f96c4df99c7fc67eacaeadd2": {
     "views": []
    },
    "29ccf4dc9fc54e0b8b63f26c163c7a38": {
     "views": []
    },
    "29d41ef572f04f998e4ba1a87f8394a8": {
     "views": []
    },
    "29f1327d3d5940fbadc463ef4ef1e5ad": {
     "views": []
    },
    "2a6cf979737b48759a8bd13b316b1051": {
     "views": []
    },
    "2a879245f4f84557a8497fc38d9a7d3c": {
     "views": []
    },
    "2aa8c1f3743a445dbf8506310b572588": {
     "views": []
    },
    "2ab734dfeabf4305a6eadf2803724f24": {
     "views": []
    },
    "2ad12129beaf4e2782fc0268383bcbe4": {
     "views": []
    },
    "2adb5c38f62e49e6ad8135b17bbda3eb": {
     "views": []
    },
    "2aee768e3b3943a1b623934d29d727ab": {
     "views": []
    },
    "2b3eb582bada407387e8c94b07c91504": {
     "views": []
    },
    "2be503a86cd54eb68bb3879f6de06aaf": {
     "views": []
    },
    "2c220631afc54e2a820976a5abe5cb2e": {
     "views": []
    },
    "2c36825ec72f4dcb8ff5006ecf82319b": {
     "views": []
    },
    "2ceaec9948a54952bef3121bd48d1603": {
     "views": []
    },
    "2d18a8399d7240c1a49981ea7654cd59": {
     "views": []
    },
    "2d1d76c7676245b59673375f0e009bc3": {
     "views": []
    },
    "2d385288bf934afb9067b52531729650": {
     "views": []
    },
    "2d5ce573e8b64acf80ff700747bc6901": {
     "views": []
    },
    "2da7cd4e46f1490b8ce258f2b3b54b58": {
     "views": []
    },
    "2da9802171ad4021a0001a0fe82f1acd": {
     "views": []
    },
    "2e5b7ec92d8645a69a7a7dd627eff196": {
     "views": []
    },
    "2e9c6da3d34847de92681908c65d1f0f": {
     "views": []
    },
    "2ecbaae7eb4f41eebf74b5a1377bcec1": {
     "views": []
    },
    "2f172a3145e54f09a9769c5fe8d5a178": {
     "views": []
    },
    "2f20025e78ff42f0958db04abb479c8d": {
     "views": []
    },
    "2f586971eab145c08ef8eaf1b735ab7d": {
     "views": []
    },
    "2fb34be6357d49648504d31e4af91b7f": {
     "views": []
    },
    "2fc6465e05e04e0aac6c69ae5772a27f": {
     "views": []
    },
    "2fceb07d768b46d2bdae5cfaae6e9907": {
     "views": []
    },
    "2fd2f9fbd7ed4e27b19a478d5e74cd8e": {
     "views": []
    },
    "2fef58105b8e4a7b843ee75ca901d243": {
     "views": []
    },
    "3000f1119d4a48b5807473f0723ec3f3": {
     "views": []
    },
    "3018653aa7d5497c98bffcd73094be37": {
     "views": []
    },
    "3070e0eea96c4aa6a50b5d028a912f66": {
     "views": []
    },
    "309484cab4454c3f97116eb4500505b6": {
     "views": []
    },
    "30d0302f41c34226ad3bdbcc06b1875f": {
     "views": []
    },
    "31421599298b4f7598660619daeeb9ef": {
     "views": []
    },
    "314574ab3a214ff2b4ffd06a976012b1": {
     "views": []
    },
    "31546369aca34d2d9751079719b35234": {
     "views": []
    },
    "319ba248789846fc9cb6887d97499e93": {
     "views": []
    },
    "32b4c019f68141e0b5c6bbb85b00d335": {
     "views": []
    },
    "32c0798fbff041aaa48b618f252615e5": {
     "views": []
    },
    "334a9c4a5e104b6b81a366ecd8158cfa": {
     "views": []
    },
    "3394d05a2cbf461d97301a3ce43a0c67": {
     "views": []
    },
    "34254ab2e59847e5ae282ae059197031": {
     "views": []
    },
    "345e8f1b15ad47908b7fc18d374810c1": {
     "views": []
    },
    "3472a56b4205435698415ce61dcf5c7d": {
     "views": []
    },
    "3490f0538c864b228fb37a5226346bb5": {
     "views": []
    },
    "3514908040b34f50a962ac8d44c7efb9": {
     "views": []
    },
    "3529862ca0a14daab7fbdd5e21047557": {
     "views": []
    },
    "358847e0a2e34dae8c3cc23354523825": {
     "views": []
    },
    "35aad771895c491caff8662fe6c165f6": {
     "views": []
    },
    "35e558bb58ff4dd08bed3dc5f13759d5": {
     "views": []
    },
    "3620ee0db5024fbebedd063beff2b68a": {
     "views": []
    },
    "36bd8ca0ea344bb499d01e9baac712d6": {
     "views": []
    },
    "36e6f0dc097043c1ae288565fe3bc574": {
     "views": []
    },
    "3743026c9d084fdca8b7bf981d23cac7": {
     "views": []
    },
    "37450b8e3942410ba84590c6676a029d": {
     "views": []
    },
    "37722235e6dc4613a98a7a20ae9e4aab": {
     "views": []
    },
    "377d090e14c84a03af20972dafb5d166": {
     "views": []
    },
    "3889ea3231824d43a318262bd6fd16a3": {
     "views": []
    },
    "39e992688365456d8995f72675150dc3": {
     "views": []
    },
    "3a27bdbfaae34448a49eea9b12f292ee": {
     "views": []
    },
    "3a5923e1a99d4a439d0922ec493e5649": {
     "views": []
    },
    "3a674281a6344310a79c04c1f14e853a": {
     "views": []
    },
    "3a89c7bafef849129c2d36e6d565f25d": {
     "views": []
    },
    "3a8b699bff604dba8e9c659f8e574720": {
     "views": []
    },
    "3aa080583e234a0a967eb18fce2f48ea": {
     "views": []
    },
    "3b0cebb3fca24af39a6a4ce94c2d7628": {
     "views": []
    },
    "3b4d0a03a1334b2da5c66180360cdec4": {
     "views": []
    },
    "3b963bf489fe492dbbc721969564bbef": {
     "views": []
    },
    "3bbad26904d0438aac1323bfbd0fe79c": {
     "views": []
    },
    "3be23dea82f04a57952609ad887e7866": {
     "views": []
    },
    "3c159be391a349a38b48210a12fa668b": {
     "views": []
    },
    "3c5aeb25e820489cb8641d37aceb5a78": {
     "views": []
    },
    "3db4fc181db046d39f17a820ef15fad2": {
     "views": []
    },
    "3db8de000879445482f15146afee3e6d": {
     "views": []
    },
    "3dc94c0f2e364ee7882900e25c8d6c4c": {
     "views": []
    },
    "3df570d0abdf44c5867ca978ba9b47f9": {
     "views": []
    },
    "3e055c621e604ee68a2bbbe93cb9db86": {
     "views": []
    },
    "3e24ea1c251749ba96de1733de819bc7": {
     "views": []
    },
    "3e322f4d519d4b709238d90679801281": {
     "views": []
    },
    "3e472a6addea48188d7b129848078556": {
     "views": []
    },
    "3e586817a29c47c98f0c0e2eb95c56b4": {
     "views": []
    },
    "3ea40869b0ee4905b468f1e911935ef9": {
     "views": []
    },
    "3ed32d137bdb45b3b207e556a0097741": {
     "views": []
    },
    "3ef8ff76270c4989be9b6786e993fca7": {
     "views": []
    },
    "3f2beb3687ac41d68f53fc2a9591bdf8": {
     "views": []
    },
    "3f6908d75e534f048f7614be61107991": {
     "views": []
    },
    "3f9e027828fc4417b632a1acef633f1c": {
     "views": []
    },
    "40748a1983284266ba12dae6204a4c1d": {
     "views": []
    },
    "409fea7019be4e11883ed1fb2c53bb8c": {
     "views": []
    },
    "40bbdf8610704051abfaace15d880c93": {
     "views": []
    },
    "41a9f5251a57444e99d5825992f3247b": {
     "views": []
    },
    "41b8bc84d0bc4ea19bea024223bf9aaf": {
     "views": []
    },
    "41be35bf14d840ebbd57cbb89cb75017": {
     "views": []
    },
    "41d75df2fd5848569da07513b5d6bb0a": {
     "views": []
    },
    "4259ad4b62d4474db101f8a3ff79d427": {
     "views": []
    },
    "4266d55b13dd44eaab2f8cd8371ed358": {
     "views": []
    },
    "428606dd6e8e4e5d89fbd1e6da05366e": {
     "views": []
    },
    "42920bebeb274dc5bed13ede83a6cdc9": {
     "views": []
    },
    "43489c8a393f4a3ca490b1327b438372": {
     "views": []
    },
    "4385badb8b2b4d24bd8fae14d45ded3f": {
     "views": []
    },
    "438a1c1f9a294fde93b54939aed46ab9": {
     "views": []
    },
    "43f44f6c428b4e3eb11ee6874f47f83e": {
     "views": []
    },
    "4408b362dfb44bb0879771327df6bde1": {
     "views": []
    },
    "4459f7335dbe47de9486b4aaf7cbe43a": {
     "views": []
    },
    "44735c3ebc69479f973c8c4a8bce4524": {
     "views": []
    },
    "44af298c92c6404c9a33015070b88e11": {
     "views": []
    },
    "4536c35b8c174cdda468bc2f27ae13db": {
     "views": []
    },
    "4540dd127da84bdebae25b68f6ed080a": {
     "views": []
    },
    "45440a0545c148adbf12e7c79fb611a0": {
     "views": []
    },
    "458e555a8dc54fec88b131c0f94ae7d8": {
     "views": []
    },
    "45d9aab374204a8fa004b2ce6a3714e1": {
     "views": []
    },
    "45ea20e1710f4fa3bafe3b4aacd11b48": {
     "views": []
    },
    "45faf57ae70d46c9a3dd73dfb827b681": {
     "views": []
    },
    "472beaa9c3b04a0c8bd4cf925bb9a26f": {
     "views": []
    },
    "47574db33e124ed6a25437c417e37234": {
     "views": []
    },
    "4807faa256f84d59aeca65dbb95fd8a5": {
     "views": []
    },
    "484d6f1970c947e49ab5467a42c21d7d": {
     "views": []
    },
    "48b358c6fa5a46a29e5cac200cbddf2b": {
     "views": []
    },
    "48ca5fec6c0a4a86814958970f14a3e1": {
     "views": []
    },
    "48ff0ab1b03b4f08935738720452dced": {
     "views": []
    },
    "4974e755834246c2a1070f7b064032ab": {
     "views": []
    },
    "49a9c1c6924842a2afb40773c7e9ebf8": {
     "views": []
    },
    "49ad70c7e13746efa23ac2de7e7e6d73": {
     "views": []
    },
    "4a62c5f0fe464df5a9a96572bdbbf921": {
     "views": []
    },
    "4b487729b9bc443694b2b7fd3d5c13fb": {
     "views": []
    },
    "4b58b8af643b43eea55832246763082e": {
     "views": []
    },
    "4bd001cb6e36486887c6c58cf1376bee": {
     "views": []
    },
    "4be31477dd66438a97e55e0a7523ff1b": {
     "views": []
    },
    "4bf6f3e74b724bdaba084cfb363c329c": {
     "views": []
    },
    "4bfeb3242b7141e09a323761eab03960": {
     "views": []
    },
    "4c3218f827ae4c79a64294c9714b3e56": {
     "views": []
    },
    "4c6356f64645482f91c06689e264b7c7": {
     "views": []
    },
    "4c9eba0eb6054f2c9005e7c766c0264e": {
     "views": []
    },
    "4ca72eac42374af783c8fd7b23e76772": {
     "views": []
    },
    "4cab57bb7683489a9a46332de39625f1": {
     "views": []
    },
    "4cdb828beedc4cce8890583a833384ff": {
     "views": []
    },
    "4cf9a398da624e7a9b56f0b9c4e0f117": {
     "views": []
    },
    "4d0e26ed8ae141cf91666c1ca40b53e0": {
     "views": []
    },
    "4d348d868ffa42f786d19483106277d8": {
     "views": []
    },
    "4db54ab9d9bd4983aaa71ed3b2339326": {
     "views": []
    },
    "4e58dd1e2f4349a597524348da4fe868": {
     "views": []
    },
    "4e5aa933cd5047388c0370ead986581c": {
     "views": []
    },
    "4e713845c26e4175967f2356ece613ae": {
     "views": []
    },
    "4f0543646d224b20a996af4cf4765d0e": {
     "views": []
    },
    "4f52d463dd5741e7ac4b2a4b43523f8a": {
     "views": []
    },
    "4f70af9fee7a4a15a6fe76d74daf6e23": {
     "views": []
    },
    "4fd44ff2c81d4adebc03e936b454eed1": {
     "views": []
    },
    "507bd8702e1d41979e5671236904eab9": {
     "views": []
    },
    "50ef967a3db041d29bc500655cae4f72": {
     "views": []
    },
    "50f9b5ea9f3b453aa16fc18428c47ff7": {
     "views": []
    },
    "5107a16f62f84302a9ad74b58be52b3a": {
     "views": []
    },
    "51323016dd1d4793acd123e33b3e4968": {
     "views": []
    },
    "514ce4a94adb48b09eeeeaf3938cb04b": {
     "views": []
    },
    "51cef664fa27457582564c43dec00668": {
     "views": []
    },
    "51fb93de8a4940739d2874989f331629": {
     "views": []
    },
    "52228379ac9b4888b05cca656050bb23": {
     "views": []
    },
    "52579a36cfd14a7e96cf28838ef43b4c": {
     "views": []
    },
    "526f32e730724074acbca9376c74af20": {
     "views": []
    },
    "5289fbaec33b4326b189e0e36b7a1aa6": {
     "views": []
    },
    "52a50892775141f4864a9678977de5ba": {
     "views": []
    },
    "5334a0cf690a42a5873a75b90717cad9": {
     "views": []
    },
    "5336df2d0ce24b5cbf4d620c4a1e3863": {
     "views": []
    },
    "535cc0e117764d4e8a9124e3d48a79d6": {
     "views": []
    },
    "53afcd02a33b41af83f07db70764c512": {
     "views": []
    },
    "5453306a00da4951aa9c1e11efd968ac": {
     "views": []
    },
    "547c9809f3cd412cb06e89a1e971f440": {
     "views": []
    },
    "54f296387b1e469aa889b74dc788526d": {
     "views": []
    },
    "561213aebe8e4cd5894a058475457fd0": {
     "views": []
    },
    "562e783e9c5d496d8ee5f1c8503162f2": {
     "views": []
    },
    "564f1a08b42745898d24207d007ad532": {
     "views": []
    },
    "56764b7506f9446ab6a379ee1924cbde": {
     "views": []
    },
    "56802aa1f6cf4124bb8803eaf89aeda2": {
     "views": []
    },
    "56a6dd4a75234797981a348b2e68aa54": {
     "views": []
    },
    "56ac7e0088c04b2ea380deb881e85479": {
     "views": []
    },
    "570d180c4251415386556a1cf3b07c0e": {
     "views": []
    },
    "577e6856d0f94f2bbb5c2f96d3063743": {
     "views": []
    },
    "57f1fa87c7584df989ed641382861ebf": {
     "views": []
    },
    "5820f023d8014b5c85f4e1e7ce6992c5": {
     "views": []
    },
    "5857c055ecc347db8e2dfcc1ac0002e1": {
     "views": []
    },
    "5875777c71e54bbfbd8a9a9b5fa99caa": {
     "views": []
    },
    "588e15fc3d5e40138d4157fcf56690c4": {
     "views": []
    },
    "5904ef64cd0a4946b9296ff3b75e77fd": {
     "views": []
    },
    "59f495dc062645848e699717a643b9cf": {
     "views": []
    },
    "5b131d557287449eac6ac702efb69ad7": {
     "views": []
    },
    "5b50f8dd1a5449009a50e37a33030181": {
     "views": []
    },
    "5b566e074e4d47d2b7ec073f1b998060": {
     "views": []
    },
    "5b5a2d950a5f4ec0a4ea70034481e515": {
     "views": []
    },
    "5b85061957cf45dc988558e07e5f0290": {
     "views": []
    },
    "5b9e27e0f4a9407ca613bf82bc81828f": {
     "views": []
    },
    "5ba27da32c5944c2b0422385852d42d9": {
     "views": []
    },
    "5bd80e3353574d64a588521f44ec2a0a": {
     "views": []
    },
    "5bd9356703714dbeafdd27aec9350b4e": {
     "views": []
    },
    "5c10a94de1694b60b14689a99b998967": {
     "views": []
    },
    "5c51b85cda6642f4865b2a8531ccb607": {
     "views": []
    },
    "5d015bea48a0491fa1684d9961d4428d": {
     "views": []
    },
    "5d62f27c9f7840fcae93eafef0d2eee6": {
     "views": []
    },
    "5ddd4e27fdee4ebeb38d01096aa9c608": {
     "views": []
    },
    "5e1260ece0c04d4ea1683e5452a4d675": {
     "views": []
    },
    "5e1756b500344d6d85ef1019e0d7893f": {
     "views": []
    },
    "5e9c102b5870400cbffd6188c2a2ea9c": {
     "views": []
    },
    "5efe44d75c9842dc8ed137913d16d0bf": {
     "views": []
    },
    "5fb68cac76f64206bdc0ef7399f2de55": {
     "views": []
    },
    "600fe756eb204041aeb2703e679cb601": {
     "views": []
    },
    "6037322a93024e6f8334196ea951284b": {
     "views": []
    },
    "60555e1974d8437fb1ee01da513e4b69": {
     "views": []
    },
    "60797e4588a94ef993344be18698cdaa": {
     "views": []
    },
    "60c4a0203e4b409bb5f3e4d173b7e1b5": {
     "views": []
    },
    "60e94431130840beb2afd52e9f8b6693": {
     "views": []
    },
    "61431776b0c74ac6bb60a846114f3464": {
     "views": []
    },
    "621ed23d2588410abd5e8bcb6bd18dcf": {
     "views": []
    },
    "6235e68e6c214295bd3bd4b8d0184303": {
     "views": []
    },
    "6254e33a024a4d02b632db8c2849f623": {
     "views": []
    },
    "625bb64b8c6f498c85743c8e1a25f20c": {
     "views": []
    },
    "627c1817a8084ad69ddb95c369e97803": {
     "views": []
    },
    "634a7b587a9c4a46b2d65ac2bcbeb138": {
     "views": []
    },
    "6383bcb0d2034492ad244dc5ee2cb913": {
     "views": []
    },
    "64d4c984acc54b8fb41e5a19080b7c7b": {
     "views": []
    },
    "6502a4a78cd94fd3a39c4c9135aa42c7": {
     "views": []
    },
    "66039551020f487bbd9797b3da9d688d": {
     "views": []
    },
    "665333361a814a84a999b5dd854fef6a": {
     "views": []
    },
    "665bf830a3c4448a8f97e5c115a07f06": {
     "views": []
    },
    "66d9996938444af48518fb5dacc39154": {
     "views": []
    },
    "66f80618c22447798659c5410edce733": {
     "views": []
    },
    "672dc86eb23c459d8e3a910ad595c775": {
     "views": []
    },
    "67ba3c7e674a40578aa87a0ac2b96dc3": {
     "views": []
    },
    "68a9786f451a4552a6c71fce9ce0581e": {
     "views": []
    },
    "69013802b5cf4fed9b7c926fa7c098fd": {
     "views": []
    },
    "69c33121d8d24ce084f933adc51430e2": {
     "views": []
    },
    "69cbb54e25ad4a4198d621f4ee92968d": {
     "views": []
    },
    "6a008b4e1a0f49c78b2b6196ef80850a": {
     "views": []
    },
    "6a687e51436a4db5a190ee0149878129": {
     "views": []
    },
    "6adda3d7e4fd45fea30002f1b6503728": {
     "views": []
    },
    "6ae951a753644174a79ac1a8ce6e147d": {
     "views": []
    },
    "6b31ae430b4f41719e06f5e518bd26ce": {
     "views": []
    },
    "6b86871831f34597ac12125063fcfdb0": {
     "views": []
    },
    "6b90e132c6694884a41e307a00643e31": {
     "views": []
    },
    "6ca14c48380b42b1b53877a8fd263a25": {
     "views": []
    },
    "6cb8ea4bb90747bea502bcc8f8ffc63f": {
     "views": []
    },
    "6ccd253283814b1888ca85719c6c5422": {
     "views": []
    },
    "6d3052b006d64a83a3412ec3d37e83ee": {
     "views": []
    },
    "6d48cdacc345475db05321bf29dfdcb7": {
     "views": []
    },
    "6d72b409a751406fb3248dce66b41053": {
     "views": []
    },
    "6dd1fa266f8d4817a048545821a28393": {
     "views": []
    },
    "6dfdc56121924d26ad53f7cd3a6e56a8": {
     "views": []
    },
    "6dfe42cd614f47d8bebfbb088a4275fa": {
     "views": []
    },
    "6e130491c72f4a89b75defac7e6ed11f": {
     "views": []
    },
    "6e2409f60a5e40ec970c7b00e4099d17": {
     "views": []
    },
    "6e4a07d130f94dabaeb2032fd25e7872": {
     "views": []
    },
    "6e7bc5d53bf14cfcaefb9d18258f70c6": {
     "views": []
    },
    "6f448da442c04d558797176069a7c14a": {
     "views": []
    },
    "6f50980eb36e4af1b09c0c6e5fd3c831": {
     "views": []
    },
    "6fc3da53012744259bba1a33c53fbddf": {
     "views": []
    },
    "6fe69c4a583d480a8f73bd55282f5364": {
     "views": []
    },
    "7061d468702649919d8cfe44c6d5926e": {
     "views": []
    },
    "70e2e3f408154248a79ef4998a41b3bc": {
     "views": []
    },
    "70fbd275e5cd4a8a8c9a5f7b37edfebe": {
     "views": []
    },
    "71e87e0bec7d4866a26b159d520f1607": {
     "views": []
    },
    "71f95997900f4fdd9c19e9b624557afc": {
     "views": []
    },
    "71ffdeecc8c34f7fade2729820c227f0": {
     "views": []
    },
    "725058899b054a7099eb3aecef47c040": {
     "views": []
    },
    "727334fbbfd34e3ab07f496064f579e5": {
     "views": []
    },
    "728393f813194969babe91bc1f853d37": {
     "views": []
    },
    "72c3534a8ea34bef8ae71488a173fc2f": {
     "views": []
    },
    "72c3a9fa935f4d9e89968637d718d37a": {
     "views": []
    },
    "73299edd002741fdb815f48f22e33a1a": {
     "views": []
    },
    "73f2ae6143c34eb081e67ac553d81798": {
     "views": []
    },
    "73fe31c4b3324f18bd9ba2e5ab3e361b": {
     "views": []
    },
    "7424ea4b036d449bb254c5abfe6b3adc": {
     "views": []
    },
    "747d7708a1164e3a8ab1f56c204c5cb8": {
     "views": []
    },
    "749393bc34334a07b08f60b6af34b9b8": {
     "views": []
    },
    "7521c1c165f84e51ac8fdb8fc6a78bb3": {
     "views": []
    },
    "7524bcc929da436cb4ecce970e1a310a": {
     "views": []
    },
    "7540d44d144a47cfa830e8177f3b3a4b": {
     "views": []
    },
    "7571d96531ce4718805ba469e52fb47a": {
     "views": []
    },
    "7586fabbcdc149448e36c4bf23d039a9": {
     "views": []
    },
    "75cd06bd41a54935a35a19decfd16088": {
     "views": []
    },
    "762114205aec4b3198d72dd0229b1cdb": {
     "views": []
    },
    "76455494fd144f968eb9c43cffdaf44c": {
     "views": []
    },
    "76660f5e56634042b7bf478097b45ae6": {
     "views": []
    },
    "766aa9406bf84a9c91f73039b0239a29": {
     "views": []
    },
    "76a73e82d9234441ab71fbbdaf8f97de": {
     "views": []
    },
    "76ae839bdb2745948246a46bf48c069d": {
     "views": []
    },
    "76fa40656a7b47e39dfd942fdf94943b": {
     "views": []
    },
    "770f219ec2314db3906f2ab11af20b84": {
     "views": []
    },
    "77e40080cecf4467bf373b89e1b38d61": {
     "views": []
    },
    "783ba1e177ed4326833b26cd1c07abda": {
     "views": []
    },
    "78b00e168d894e77b71906d6429c9b20": {
     "views": []
    },
    "78df5bb1c54f4d3699fb277e8699a926": {
     "views": []
    },
    "78f0f431f9a54c5f8b9b2542cad296b0": {
     "views": []
    },
    "78f63df45c3146e0b4baef58971e81f1": {
     "views": []
    },
    "7963c68c4a024cd0bc8ac97d66be2159": {
     "views": []
    },
    "799471c7af32412190e5b8a3cc0e4d8e": {
     "views": []
    },
    "79c2e06e825e4a93858dc0183ada2946": {
     "views": []
    },
    "79e28da5d3894c4db1de799478c67a31": {
     "views": []
    },
    "79f2819378b24af58768b96a362b3ebb": {
     "views": []
    },
    "7a2ec2c578214050bd100807de737ee2": {
     "views": []
    },
    "7a4fc2058879454eb07abdccfd1c3737": {
     "views": []
    },
    "7a8f734bdf9b4de1b53d81922cd1047a": {
     "views": []
    },
    "7b1c5e3dcf2b4e3a806247772f1dec2c": {
     "views": []
    },
    "7b6af1959b6d47a8ba4da1ed5064f99c": {
     "views": []
    },
    "7b8d565a3de04e0db9f55ea33c7d7cba": {
     "views": []
    },
    "7baf9d39c2f14bea9e0a4b6beb98c0e4": {
     "views": []
    },
    "7bd0e48f36a149af8610af61c18de4ad": {
     "views": []
    },
    "7c0c0e8f8e634adebe815e7e92c5474e": {
     "views": []
    },
    "7c84b6e558dc4c8ebf5a2971e365b70b": {
     "views": []
    },
    "7ccdc3666d3b463fb648194943fb301e": {
     "views": []
    },
    "7ce44506c26742f3ba2c6dc0a1886452": {
     "views": []
    },
    "7cf08f43ee5e4bc8b88aa4fbe079ca94": {
     "views": []
    },
    "7d198570651241aa99a1a26ff4bf4fc0": {
     "views": []
    },
    "7d38c09db2e846bb979477e93f0eb2bd": {
     "views": []
    },
    "7d643299f5614c8198b0a3f0c355fa74": {
     "views": []
    },
    "7d81939631ad461b843127561a81f880": {
     "views": []
    },
    "7db0c65ae53842b380b9e4f6e239459d": {
     "views": []
    },
    "7e7ed6435c434453919b81abf4061d25": {
     "views": []
    },
    "7ed936cc490446daa4101b6d3c45fe67": {
     "views": []
    },
    "7eee4302a26541679b92f331978d676e": {
     "views": []
    },
    "7effa36ca4e4454eb7c05260fb08eb45": {
     "views": []
    },
    "7f3a5ec4dc164acdacd8873154101883": {
     "views": []
    },
    "7fc479a169cd4c4f85eb576502f23d24": {
     "views": []
    },
    "8008f1f92832433b973773414deaa5ec": {
     "views": []
    },
    "802ab3fda6344123817e53d630e2c7d0": {
     "views": []
    },
    "802f8a9273ba4fafb79a1d4fe84faeec": {
     "views": []
    },
    "808ec142a0184cc4aa6cfc2cd46b3d57": {
     "views": []
    },
    "8093ae386a554701b775e26365c2b101": {
     "views": []
    },
    "80a199894289485f83e46f29666c7220": {
     "views": []
    },
    "81ff24bc393f481eafe0a5c3fcba6a12": {
     "views": []
    },
    "8236aec7cfbd42908c39ba0a6e9093cc": {
     "views": []
    },
    "82ceb7bd580346908258afd8b688036d": {
     "views": []
    },
    "83001ba3181340b880a41a85dca52aa6": {
     "views": []
    },
    "8384202b1f0b4578a00aac0161b8fb60": {
     "views": []
    },
    "83fd24bc47c94ed8ac35e85b780ce2ca": {
     "views": []
    },
    "840594a65cff4a2981cf1ff0e092b01e": {
     "views": []
    },
    "84272ac066aa44a18ebf400591bd16f0": {
     "views": []
    },
    "8477916faaec4da8b64c42baa786fa11": {
     "views": []
    },
    "8482cd67f45146bda3cdad7af5062cf0": {
     "views": []
    },
    "848a1b626b00409d96b63fd6c419aedb": {
     "views": []
    },
    "84d870d43c244459b3d59621282ef6a6": {
     "views": []
    },
    "84dd2c83ac924e55b7f4a83d52082027": {
     "views": []
    },
    "84e35842e1a84fd386ceb79ee8f873eb": {
     "views": []
    },
    "85aba2562aa84c38aaaf3788cec24f9a": {
     "views": []
    },
    "8638a5d7c455429c9f5ebe65ddb41c61": {
     "views": []
    },
    "86558d60ab8546a195c3b360e4c08143": {
     "views": []
    },
    "8712ee346cfc4aa9a181e906b12548ea": {
     "views": []
    },
    "87728180990244449ee68be13634a5d3": {
     "views": []
    },
    "877d8341dd1d4427b16717cf19d89714": {
     "views": []
    },
    "87ab3dded9884858bf1f09567d78918a": {
     "views": []
    },
    "87cf5b740ca44bcea8c9698235cdd2d5": {
     "views": []
    },
    "886810f712094636ad469f47bbde81e7": {
     "views": []
    },
    "88929b1e2fd24a46957848c7c1391174": {
     "views": []
    },
    "88e7c0f44d0b46d692fedf2db8afabc4": {
     "views": []
    },
    "88fd4af8b4554866be2b35d38feb5307": {
     "views": []
    },
    "8994e1b415e14a60a3494856942f9a31": {
     "views": []
    },
    "89ba6478c5b049019ed8633c9ca876bf": {
     "views": []
    },
    "89c75cff90404aa28fae5d7ef568c411": {
     "views": []
    },
    "8a3dfb373c5b4fafb3c59376dcf7cd9a": {
     "views": []
    },
    "8a6ba6c44d8541adb836916ba6721b1e": {
     "views": []
    },
    "8b01573c2bfa42adb9cda5b4d88cdb62": {
     "views": []
    },
    "8b5ddff2e70e4d08a9c80b7726f78889": {
     "views": []
    },
    "8b78007eab93481c9546f5df576262be": {
     "views": []
    },
    "8bba7255a47847cf85715c545d943748": {
     "views": []
    },
    "8bc0c7bbb8d64197bd8724ddc0cefda8": {
     "views": []
    },
    "8bd38a2286e94754b02ffbae1d9d0682": {
     "views": []
    },
    "8bfa065e647547fcaa1b2f32d6850f17": {
     "views": []
    },
    "8c0a98b2e5d04b279713588f93b04a82": {
     "views": []
    },
    "8c48f683d4dc47dd96d55d31193c1e65": {
     "views": []
    },
    "8c91e11b86a1481c9e7b8c22dbe22eac": {
     "views": []
    },
    "8c946eeba16245b7ab836f1d680a45a6": {
     "views": []
    },
    "8cccdea48fc64db9ac639f85b2b3bdd5": {
     "views": []
    },
    "8d1edfeebeb0405e86550a76df1f6ea6": {
     "views": []
    },
    "8d29f55bc4064d1d982fef8a15ffa74e": {
     "views": []
    },
    "8d68599e1a764d20bd8534ea7ca394c4": {
     "views": []
    },
    "8ef753b8f7094dfabdb8c7cb8caaad13": {
     "views": []
    },
    "8f29942d4265437d9c18dc115b908498": {
     "views": [
      {
       "cell_index": 5
      }
     ]
    },
    "8f34ea16ffd74b4691026aba75909646": {
     "views": []
    },
    "8f5519d344cf4ea3915697b478cfc8ef": {
     "views": []
    },
    "8fb60110472c46cdb0a7bc65e5d79743": {
     "views": []
    },
    "8fbb23c20928490a9f4a2f5eb048feac": {
     "views": []
    },
    "901124451dce455aa81b84fb5e611fcd": {
     "views": []
    },
    "90267d2332344e6b8ac5cd1f06595beb": {
     "views": []
    },
    "908d11ff56a84521a7b3dc0cd53d3943": {
     "views": []
    },
    "90dce73b941146ceab61234ced1d089a": {
     "views": []
    },
    "910085de69be4699b809495bd0416cf1": {
     "views": []
    },
    "91101bc005e341c6bce783892ea3995e": {
     "views": []
    },
    "913251a75dd64467bb62db106b2faf72": {
     "views": []
    },
    "9140248790114465bf2c7c15fd9f940b": {
     "views": []
    },
    "914829db8b6745829380c2906b8a8bfb": {
     "views": []
    },
    "91dbf2500863498ebc89f570b67a9fde": {
     "views": []
    },
    "923c9bae6b7d4634be799d07cbbcfc4f": {
     "views": []
    },
    "927368b799ef4a2ebde3f02db0d05e3f": {
     "views": []
    },
    "92e5d469a07346adb5579f7a0351effc": {
     "views": []
    },
    "92fc7d64944e407999e43e1d2ffa5419": {
     "views": []
    },
    "944865d0d10247ccae2b187e9852c0e6": {
     "views": []
    },
    "9450a3f2af674ca592f2ab4df3837e72": {
     "views": []
    },
    "946493c7b71d486cb5221a8443452ebb": {
     "views": []
    },
    "9473bf5452a24236872092ff7f3d83a1": {
     "views": []
    },
    "94b46aa2bbc640ccb3f7f6b78079b670": {
     "views": []
    },
    "94c77a6bb4cf4a27b0c523fdc59171cb": {
     "views": []
    },
    "94f45bd4f7e842feb12cb41e7a818777": {
     "views": []
    },
    "95662171f95c4c079f54d023b9c3f839": {
     "views": []
    },
    "9596dd6a081e4180b3fe1d9cf035d4fc": {
     "views": []
    },
    "961191b8750b4b0d88a9d1edb42fa9eb": {
     "views": []
    },
    "961629fa1551453aac9f31d44e93effa": {
     "views": []
    },
    "9666be8115a04902a7a4526b687a79cc": {
     "views": []
    },
    "96de8be5d07c4f8f8a23f3e598abeace": {
     "views": []
    },
    "9712bd735baa416e89eb76e1b1607412": {
     "views": []
    },
    "97b772e4faee4ad9a4e44411778daa70": {
     "views": []
    },
    "98a46c1f9bba4122a671012d534211d1": {
     "views": []
    },
    "98bd53813f954937b64a332a394c8048": {
     "views": []
    },
    "98cb2cb9a0b7473693c0196c2e38e88d": {
     "views": []
    },
    "98cfbe9df7fe46a79bb3674a748b41c8": {
     "views": []
    },
    "996ad46feb8044a29ba950b6fb1b3a07": {
     "views": []
    },
    "99e8b6d6875d481e8e3a5f34ff8a4b36": {
     "views": []
    },
    "9a4cb54adadd44e1a9655ff0609423f2": {
     "views": []
    },
    "9acef41ab3bc4f3c8bcb67e9329a7314": {
     "views": []
    },
    "9ad9d06870fd4e71a24c9b7e9e0f7350": {
     "views": []
    },
    "9b1e4d6f0e8a4b9aba10d26a4d67e0e7": {
     "views": []
    },
    "9b799fd8554c43ccb8c569d3040bfee2": {
     "views": []
    },
    "9bbd0de471244d92be2a47e8d122ace4": {
     "views": []
    },
    "9bc68af2f8f840a797f5ba817b208a1d": {
     "views": []
    },
    "9bf08a43d2584f3c91a1e412dd4e37a5": {
     "views": []
    },
    "9c6678f4576b4721bf912d80f4d7ec60": {
     "views": []
    },
    "9c99dcc3b0ce4753a3c0741d99c9f233": {
     "views": []
    },
    "9cd19c9914b24f2f8af281e22b2aa00f": {
     "views": []
    },
    "9d38f3a6f05b47518fc682dcbfa3f523": {
     "views": []
    },
    "9d7eaae71c764c0997debb37da3f61dd": {
     "views": []
    },
    "9d8b3d53711e43cb88753d390f7c0e21": {
     "views": []
    },
    "9dfde5aacd884b84bff7ccd87d87890c": {
     "views": []
    },
    "9e193da7d6c24c67b0608959c30595fe": {
     "views": []
    },
    "9e3b6a4ff37e4c09a88df640799fafcb": {
     "views": []
    },
    "9f0a33626afd4540a72d0f5004afb7f7": {
     "views": []
    },
    "9f7acc8f53c746dfad1ebe725ef04a15": {
     "views": []
    },
    "9f996194b6bf457db76b2c8504d88070": {
     "views": []
    },
    "9f99cf6c6fe14a0c824536a6fca9b1b4": {
     "views": []
    },
    "9fa59a659a34407eada71cc65b9d0b42": {
     "views": []
    },
    "9fe41b5a2ed44dc3928a73f6bb1974ad": {
     "views": []
    },
    "9ff72e60fad84e879a7494f9b7461458": {
     "views": []
    },
    "a028982c9ef54f82abc7cd9329679a60": {
     "views": []
    },
    "a03967695e394b649224a0f633e29fba": {
     "views": []
    },
    "a04e3dfccdd94eb48c8f15e2dc97be3d": {
     "views": []
    },
    "a06399d46bde4f83b7e9fa9fcb2590af": {
     "views": []
    },
    "a085d3d2b4f6488dbd98ff66fe16f5d9": {
     "views": []
    },
    "a11a6a5a93fe4eee97a8f28e8621f7da": {
     "views": []
    },
    "a11b3d7aa8c743f3a921db3286176c48": {
     "views": []
    },
    "a11b5b254bb24e4a92dce316bbfbb161": {
     "views": []
    },
    "a1fbeaff3b154cae907fb2006d7ff5b5": {
     "views": []
    },
    "a225018fcb464187b027795edfdcce0f": {
     "views": []
    },
    "a2a75d0fff4044588cb03ea09c7b243a": {
     "views": []
    },
    "a2b5277b5c304f86bf0033d4bd25d9a1": {
     "views": []
    },
    "a2b5aee5642a4b7fb69b09ff8f5c5915": {
     "views": []
    },
    "a2d2006923e841b087d490ffa833060a": {
     "views": []
    },
    "a2fc58cfa3204609985522761ff2e956": {
     "views": []
    },
    "a33b35b36def45589efdc04dc901b781": {
     "views": []
    },
    "a3805955c9b84a85adbd232d03b2022e": {
     "views": []
    },
    "a3ae48ce97e441c8b0b320a5fe499568": {
     "views": []
    },
    "a47b9d0bbe5540e1aa3b2681cf8d98a2": {
     "views": []
    },
    "a4badd83d85f4d5f9d1c3cde804cd7b6": {
     "views": []
    },
    "a4ca122c8b99491a8447bea930c8c161": {
     "views": []
    },
    "a4e4612aec3d405c938bd6083b25f2c0": {
     "views": []
    },
    "a540e46efc524067b13f57c07d2b3990": {
     "views": []
    },
    "a55104f472924b5e9b2e467ebb1bbb6b": {
     "views": []
    },
    "a56fcabd56ce4f76a526e9da9b2c1dcd": {
     "views": []
    },
    "a59e6d0c08a64a9f84b99a33a8d2ebd7": {
     "views": []
    },
    "a5b1f921360b4867a810d1c0c0d259d3": {
     "views": []
    },
    "a5c7af47aaa743c8ba0a826a3d994ff3": {
     "views": []
    },
    "a6c884566783480aafaff1686dbfac93": {
     "views": []
    },
    "a6da226cc17f484b8081dbe345fb7f09": {
     "views": []
    },
    "a70894be81484d6e9327a92c52b76935": {
     "views": []
    },
    "a72fcabcb6b947a7884820bf636ec0ab": {
     "views": []
    },
    "a7b8a812f5ce4bf1a029aae15e843806": {
     "views": []
    },
    "a7ba6c2d09df4acf81999a78b7684ded": {
     "views": []
    },
    "a7f88f6e038d450dbb42f7cd3e3fde12": {
     "views": []
    },
    "a806c416dd2f4d5fbe6417801a79caf1": {
     "views": []
    },
    "a82c545d20314bfab654cb95e910e181": {
     "views": []
    },
    "a89c016a184b4da9a150b74bea2af862": {
     "views": []
    },
    "a8a5e582b74340728fd8ddea8f037732": {
     "views": []
    },
    "a8edbd03921d48109651c5b1d61f15b1": {
     "views": []
    },
    "a974797a746f4087a5c67686b68b594c": {
     "views": []
    },
    "a97c3176d9fa48dcab70cb50bffcb99d": {
     "views": []
    },
    "a9819d6e0d4a42c4af05c1011f22963d": {
     "views": []
    },
    "a98273f9d423475ca04f601cdd4c5e23": {
     "views": []
    },
    "a9b8aee03ea34e37baed5e8dfc623c0a": {
     "views": []
    },
    "a9e94137c95941be945dc5138a93d396": {
     "views": []
    },
    "aa2d0bfd8a5b411c931ec2b5e671556b": {
     "views": []
    },
    "aa47f49320f646898f7ca651aa2ca9d3": {
     "views": []
    },
    "aa7100ed1ba64dfe8a09372a53c9b74b": {
     "views": []
    },
    "aa804c8bef664330b8473f5c260e25b5": {
     "views": []
    },
    "aaa2722ad1174dcb95a193c4893e5a1c": {
     "views": []
    },
    "aae43bab15e247d299501671bf4e8ddb": {
     "views": []
    },
    "ab05241ef90b4ba597a6516bd885eb84": {
     "views": []
    },
    "ab4bc149b2b14b068319640add963304": {
     "views": []
    },
    "ab58ff2a2ae74dbf8e32ba667386c2e0": {
     "views": []
    },
    "ab5ce8f9b9444276a6f36e6812d14476": {
     "views": []
    },
    "ab66e8974a754a509ba8f263646e0ded": {
     "views": []
    },
    "abec5fdae4c5406b83de956974b1353c": {
     "views": []
    },
    "ac2b84b65ffd40e79ad3498c10c1886a": {
     "views": []
    },
    "ac7fe085e44a49f58d5a433baff44362": {
     "views": []
    },
    "acd8c33ba43843fe84d318af5ab3eba2": {
     "views": []
    },
    "adc121b2178842c7b89e56f72c2fedf9": {
     "views": []
    },
    "ae054597f1c34fb2b728f64ce0872f98": {
     "views": []
    },
    "ae057242ce7c44908bf9ccd413c996d1": {
     "views": []
    },
    "ae6a471d99fc4f05b5349a38ccaac22d": {
     "views": []
    },
    "aedb6da93a05438f8b5c76f8b5cde83c": {
     "views": []
    },
    "aef2e868b181430e8106f5880729c311": {
     "views": []
    },
    "af8c9c9f937248cb84aa1b83623dfc0d": {
     "views": []
    },
    "b145abea1ee649cba1e54bb3344742b7": {
     "views": []
    },
    "b236b139bc814d909df7260fc9bb0062": {
     "views": []
    },
    "b2aaccbe3f6d4caaa599b01225f49bc6": {
     "views": []
    },
    "b2c47c9f8a264685a04a74a6d56bf41c": {
     "views": []
    },
    "b2ff6a6e40234dadbf854b21cf6f77ab": {
     "views": []
    },
    "b334b5c215bb4e179f64b5ca74ce732c": {
     "views": []
    },
    "b373829ce21d44f1af2591b4dbc7f151": {
     "views": []
    },
    "b37af383175b4be7997c4f665bbd2d3d": {
     "views": []
    },
    "b3aa1aed341d48528e03d61b02b3ff77": {
     "views": []
    },
    "b3ccc519ed6b43bf995d6a25181a10d6": {
     "views": []
    },
    "b3cd4927baca46fea82ab6eec5a27a81": {
     "views": []
    },
    "b45f0c9633b843ad85200f57b6a2488f": {
     "views": []
    },
    "b45fcab990ee4a1aa02634d79fab2b8c": {
     "views": []
    },
    "b4af0395eb324003afb737fc0e8acd3f": {
     "views": []
    },
    "b4dcaf0a65d6497f9397ddd8c715c665": {
     "views": []
    },
    "b4e9de2142f94a3b8dcbbf9e8961f8ed": {
     "views": []
    },
    "b54e4f9c21fb45a28536f8a43d426b14": {
     "views": []
    },
    "b55b0666fa974f3e9f3d5a04aee8f3b4": {
     "views": []
    },
    "b57fcbe7ba764b488ef05c7a47dc8d0d": {
     "views": []
    },
    "b613fd1ac8824b3383ce109228185725": {
     "views": []
    },
    "b6a4e2d6a3994f9d97dca9015646f156": {
     "views": []
    },
    "b6c15817139a45f2909797e46dffab59": {
     "views": []
    },
    "b73b47ec7d5a422e891bd82ad3e7a234": {
     "views": []
    },
    "b75aa0bc33f94dbab853ea6898ac8158": {
     "views": []
    },
    "b79eeb6756d44560bf205238142fec5d": {
     "views": []
    },
    "b7cf1643305c475e95cae8bea4c4bc67": {
     "views": []
    },
    "b81439864cff485e85dd3d49c118615e": {
     "views": []
    },
    "b83b95c62c25406e88b60442738ee9ad": {
     "views": []
    },
    "b84e829792574e9992ab968e92077280": {
     "views": []
    },
    "b8795f8bab834c50b1fc6027d90089a9": {
     "views": []
    },
    "b8de3b049f024127a2e5dc4736fd51cf": {
     "views": []
    },
    "b9024a15958e4353bb3b44316da999c8": {
     "views": []
    },
    "b91080a3a9cc4a77bbfb40c2cc035447": {
     "views": []
    },
    "b943100537934d18965fbc1ac11a501c": {
     "views": []
    },
    "b96f0db3c4b542ce8045b7a1e23b52e0": {
     "views": []
    },
    "b997d79ba280437aa2b296000ff32b84": {
     "views": []
    },
    "b9e3af71aacd4b9f9c081c6156278931": {
     "views": []
    },
    "ba387a01529246f3bf7b941338e96103": {
     "views": []
    },
    "ba4f565b743146609df7a5a3e408d499": {
     "views": []
    },
    "ba75c091e3134a4e8b5341cbaffbd4d5": {
     "views": []
    },
    "ba8cfc5a1914433688d2d14acae39f1c": {
     "views": []
    },
    "ba9490a6fe604378a2df7a8d1e598e33": {
     "views": []
    },
    "ba97edd7a35e4c9e82375a9abfb436e3": {
     "views": []
    },
    "baa3bc67cc6647ba973e1c7ba232ce75": {
     "views": []
    },
    "babc5ed7c1d4451d8299d3afa664201e": {
     "views": []
    },
    "bb07794cc55b471e82fe3e582b60ce13": {
     "views": []
    },
    "bb46487013254311bc60200ea8bb035f": {
     "views": []
    },
    "bb72f0369a704f8d8e91459f49c9b24d": {
     "views": []
    },
    "bc1f35b213d3405fb96bba77e163310e": {
     "views": []
    },
    "bc24d549f0dd42f285e6ac2b5c74ae20": {
     "views": []
    },
    "bc63dbb352e64c5e983b0e48f99b12a0": {
     "views": []
    },
    "bc9ef9732da2458ca575ccbbce675202": {
     "views": []
    },
    "bcac7a6d4a4442b9b32d5484a99229f2": {
     "views": []
    },
    "bcbea1f4d51f4e6686e62d4bc65e4786": {
     "views": []
    },
    "bcc92a11112d47f3a0204a7b960125bb": {
     "views": []
    },
    "bce177142dba4ab2b91ece823f9b9e1f": {
     "views": []
    },
    "bd1fd935a8394d0a88695d47a2398c20": {
     "views": []
    },
    "bd34d81bec154f1cb8e04e55045564dc": {
     "views": []
    },
    "bd752640d45e4f299c8d136560bcb411": {
     "views": []
    },
    "bd9bb32fe64147768888c0e640b7c199": {
     "views": []
    },
    "be23148719344a86a1b5dfdb60c5fe6c": {
     "views": []
    },
    "be320aa870984a5492b0841d95b7993a": {
     "views": []
    },
    "be47718d76d045a0bb26d51fd89a3f95": {
     "views": []
    },
    "be5092835a6f4788814601b267c29b67": {
     "views": []
    },
    "be86fb520a3241f8abb64bcf9579d694": {
     "views": []
    },
    "be9a3b91b1ae46a99364e01382ab75c3": {
     "views": []
    },
    "be9f0ee57f4047e2969bdf0fe54667e0": {
     "views": []
    },
    "bf04901dc3ed405c83d6091a8d934b12": {
     "views": []
    },
    "bf11cdd0e90a442d9bd2aff1c150abf6": {
     "views": []
    },
    "bf6bc37f9dc04eb88a6e52d5a68cc4fe": {
     "views": []
    },
    "bfdc06aa095e46e9afbbe20c31b97f89": {
     "views": []
    },
    "c02092faa50342ef8c394c33a4358887": {
     "views": []
    },
    "c043cc1b64bb43c0a04d0039a7fc76c8": {
     "views": []
    },
    "c15b195dc6c7423ba477d43229a78dd4": {
     "views": []
    },
    "c16f73bcbcbc4484acd793808ad73c15": {
     "views": []
    },
    "c1b2b81ff2a340f38c09a64b1992acb9": {
     "views": []
    },
    "c1ba7a66478e4ef7a66d855f97aa3f1b": {
     "views": []
    },
    "c244553897b348329528800ad2c88e59": {
     "views": []
    },
    "c2454fd3839f4ad1a16c477d1852dc15": {
     "views": []
    },
    "c24c44285eaf4d509e7801f257f062a5": {
     "views": []
    },
    "c262846014d64e77a6f1e4052c38f114": {
     "views": []
    },
    "c2783f32bda6420d81d593be5e790103": {
     "views": []
    },
    "c2b4401200be4042ba5a0ecdca630b8a": {
     "views": []
    },
    "c2dbff9ac26949e2a7e3fa7b192b77db": {
     "views": []
    },
    "c2e4c458b0514f05bfaccac1d143e5f7": {
     "views": []
    },
    "c36b9b179ee044e397763ecc2ade05e9": {
     "views": []
    },
    "c3c578eac8a048f6a993061f507ec099": {
     "views": []
    },
    "c4039f00036d48258f0302b08fdf9b37": {
     "views": []
    },
    "c40e05da472a41e5997feb41649911b7": {
     "views": []
    },
    "c42efa48d7954629a4bd949f809c06cf": {
     "views": []
    },
    "c4d2ff38194444ad8b2142ea859bd11c": {
     "views": []
    },
    "c4e51481efd4404bac1cea6d7d5c2c2d": {
     "views": []
    },
    "c5578728985e4a89a9674474815dc02e": {
     "views": []
    },
    "c581fa8663e14609a001783cf59d75d2": {
     "views": []
    },
    "c5cec87bda784ab8b22b30ed92eb06b5": {
     "views": []
    },
    "c668d8e52ebe4343a70c5591759fe9c2": {
     "views": []
    },
    "c6823cb5641e447ea225787363fbb472": {
     "views": []
    },
    "c6b86a86036f42698218d11b99c25313": {
     "views": []
    },
    "c6d15deffd37405eb2e6c800462f2554": {
     "views": []
    },
    "c749ce689f8d433d8187c4520ccec133": {
     "views": []
    },
    "c767e1e214bd4ec2b4fb17db2177d181": {
     "views": []
    },
    "c78445962c0e4962a413678213c2b68b": {
     "views": []
    },
    "c7eac5da13254c55b5c995cba2ac3432": {
     "views": []
    },
    "c8526115ee2144e4aacbf16ce67f60df": {
     "views": []
    },
    "c898914767c24843b964eb53fb5689a5": {
     "views": []
    },
    "c8f8cabaa79d4812a1951d45db01447a": {
     "views": []
    },
    "c923ece26d844172be4068c603149ddd": {
     "views": []
    },
    "c9786a02c53749688f0f1aad103e4f53": {
     "views": []
    },
    "c984687fca824a99989b262402032db1": {
     "views": []
    },
    "c9b5dc1fff064d74b456a4527a58baa5": {
     "views": []
    },
    "c9d6ede879e74baf8415e042d703362b": {
     "views": []
    },
    "ca836c79614e4a348403eca91a6bf079": {
     "views": []
    },
    "cae2a291bf2c4a49ad490666c21eb424": {
     "views": []
    },
    "caead33cb82d4d288318deb16e77fea0": {
     "views": []
    },
    "cbbe053d3f4c42858ad7a386523e9469": {
     "views": []
    },
    "cbd5270ab9bf4fe3b4d3b90022c4d4af": {
     "views": []
    },
    "cbf333a8d7ef4a94bd731fddc9b40579": {
     "views": []
    },
    "cc766de651a1405e95da22c314425cde": {
     "views": []
    },
    "cc90c4291a8a4f58a630e0e3d40c9e84": {
     "views": []
    },
    "cdbf682278da4f3ba2c5b7deb546f71b": {
     "views": []
    },
    "cef056389b0e4d40b9d916ce280767f2": {
     "views": []
    },
    "cef4b74d1c2b4a599ab9b1f94590eb1b": {
     "views": []
    },
    "cefe8f3e81694c2bbecf6240e11068e6": {
     "views": []
    },
    "cf1586f846da4bce80e55f9936b682a8": {
     "views": []
    },
    "cf64928674854d4f83221f03a0037cb4": {
     "views": []
    },
    "d018898b9aa64dcab815e9e6c676d0e4": {
     "views": []
    },
    "d10bb33f58cb4e0892545ce9e7112378": {
     "views": []
    },
    "d1429167e5d940289806dabdbbf7544b": {
     "views": []
    },
    "d1b140e750b64efcb4dbf231ebb29694": {
     "views": []
    },
    "d1e33f7fa7654e27ac0befe04736aad3": {
     "views": []
    },
    "d227550f47aa4022bbaa8a147b2342c0": {
     "views": []
    },
    "d22b4a5d6aa44bdfbb65ef6039a745f5": {
     "views": []
    },
    "d25a1f8e4fc1413385b6d21d351c8ad9": {
     "views": []
    },
    "d2b03590aead4f6ea77636de7bf84709": {
     "views": []
    },
    "d2ec60d0cc4249ba87985dc13136819d": {
     "views": []
    },
    "d33401f2fe0548288091541d0d73b4d1": {
     "views": []
    },
    "d34690a635b14f57b8ee1a25e0a03e70": {
     "views": []
    },
    "d3aaaa1a674240b2bdd05d066b5340d7": {
     "views": []
    },
    "d3f5376f7bc04cfd9e88afdf0609bc73": {
     "views": []
    },
    "d41527117f3f4d47bb71ee0ba9910653": {
     "views": []
    },
    "d48c7036c2b74aaab1c705862bce1148": {
     "views": []
    },
    "d4b6b3cce0e54805bc0e4ac43dfbad45": {
     "views": []
    },
    "d519dd55a39143af8d5c214cbbaef3fb": {
     "views": []
    },
    "d525284f473e4d9bafdfa8d2281ebdd6": {
     "views": []
    },
    "d57531e73ce745869c87780b44c46db9": {
     "views": []
    },
    "d6060b888ade49f397a580832eae6818": {
     "views": []
    },
    "d61769d5fc0644f6b2b5a912fccd786f": {
     "views": []
    },
    "d6d1d994206c46c3baab48dd4194feab": {
     "views": []
    },
    "d6d76f022db84d41b4647e460be471d6": {
     "views": []
    },
    "d6db740949464b20a9d61c29451cb1ce": {
     "views": []
    },
    "d6dba1b0527b42b1bdf8a08e500297b1": {
     "views": []
    },
    "d7119823012a4d4a92fec602aa51ce90": {
     "views": []
    },
    "d8212cf9c5b9454685cc48cafc80968c": {
     "views": []
    },
    "d8426373f86541d38e4d4378b42fdf09": {
     "views": []
    },
    "d8501524b88e43f786795f89ab9a86fa": {
     "views": []
    },
    "d8d24cfcb296454294b0d1d35df27df9": {
     "views": []
    },
    "d8feaa2ee98d4ebc80775cb686d780d9": {
     "views": []
    },
    "d94de132b5ff4c829c747aa7092d6934": {
     "views": []
    },
    "d971eabaf17a49e68fcdedb90cf3f997": {
     "views": []
    },
    "d975b860d14e4e2d86978c24b31e3456": {
     "views": []
    },
    "d9ba20af1ea14974a146b306cb599045": {
     "views": []
    },
    "d9bc9d3ee8d3479e95daf09b9601bb5f": {
     "views": []
    },
    "d9c2a7584af54e999983599fbcfc9d38": {
     "views": []
    },
    "d9ff250584de43e69db45ea7973b1a73": {
     "views": []
    },
    "da0ad9e2956c4b9ba3aa91a5d7719221": {
     "views": []
    },
    "dac6886f31944081bf25da58ba1f2e4a": {
     "views": []
    },
    "db55339cd9a3420993d4b0941ca8528c": {
     "views": []
    },
    "db7ab629834c40c697e6531b0303b56e": {
     "views": []
    },
    "dbb55bb9a154431fa7b041a05558bb7a": {
     "views": []
    },
    "dbec500c7cf84890852561af98a05fed": {
     "views": []
    },
    "dbf89d3729d04e638ff923c79c29f71e": {
     "views": []
    },
    "dbf8c01e643542089a5f4b62df7527da": {
     "views": []
    },
    "dc37fe975fef41c5b8dcbcb96c98e5b9": {
     "views": []
    },
    "dc4ee293720547f187ad853b26793afd": {
     "views": []
    },
    "dc5e0040d1eb4f94810f951fc9151996": {
     "views": []
    },
    "dc89255f4fdf45d497b4b9aa7f33f57b": {
     "views": []
    },
    "dcdf0682e28244ae9bcbc7ad69095901": {
     "views": []
    },
    "dcf89606495b4a5db58275e6f66b9e1d": {
     "views": []
    },
    "dcfbe29f91224438ad67377c459cd579": {
     "views": []
    },
    "dd0b53fea7304104aad7d7e227d6c70d": {
     "views": []
    },
    "dd31c77d8beb4a82a644d18c8673be78": {
     "views": []
    },
    "dd3b4fd8ec7f409b92506ef0cf1500c2": {
     "views": []
    },
    "dd637d6ab04547eeb619c24e80557d13": {
     "views": []
    },
    "ddd9931cb66242c39e9153f3798e2795": {
     "views": []
    },
    "decf1bb179b24935bfdd69ed1ce5af04": {
     "views": []
    },
    "df28f171e121479d9d87610654472535": {
     "views": []
    },
    "dffd16fbfbb844edb2c532dad73ca26c": {
     "views": []
    },
    "e01e0bc3d4414923bb75bc14f993c24e": {
     "views": []
    },
    "e054a79849d1410daef2e3006fd789ec": {
     "views": []
    },
    "e05a7ce5bfe7476aa1a4657988314561": {
     "views": []
    },
    "e0913a63741b48bcb0780aa2f19c5ca0": {
     "views": []
    },
    "e09b3911d90c4083a1941875afde9993": {
     "views": []
    },
    "e0c5186119f245cea0b36d62da808516": {
     "views": []
    },
    "e1a6b5c21fe9469598238d1e96693b84": {
     "views": []
    },
    "e1f4e0b4fbc84782924c3ce81edd4ffc": {
     "views": []
    },
    "e26904eb72d8407b89250c330ac657ba": {
     "views": []
    },
    "e2c1cb2efc0a4782a77af233e430ce53": {
     "views": []
    },
    "e31bdedc824d49679e4e8e54bffff987": {
     "views": []
    },
    "e399b90caf824823a81feff13cc13829": {
     "views": []
    },
    "e3c0d2ee42cf41f7b3b005ff943601d1": {
     "views": []
    },
    "e400813c9a26459b8f03ac5c473c260d": {
     "views": []
    },
    "e4ab94a90c6144fd91f6c071ad740590": {
     "views": []
    },
    "e4f1669e234045da8e8866d8817732dd": {
     "views": []
    },
    "e51344eb7a96488a96bf92d665a8cbc1": {
     "views": []
    },
    "e5244aba4727464da2af059f60aac334": {
     "views": []
    },
    "e595a8c3773946e8b9f05e9b9e232cb6": {
     "views": []
    },
    "e5d68f9ac17e455c95eddaad167c636b": {
     "views": []
    },
    "e601dc9a701443388598b850a9583ca9": {
     "views": []
    },
    "e6508912a99441deb8b24861b0d16f6e": {
     "views": []
    },
    "e667364eec1a4555a1a0b04b1267ed21": {
     "views": []
    },
    "e6b7f9af5e134770b16ede35415ccb8a": {
     "views": []
    },
    "e6cf19bcab4e47f69b21548a74cbf54c": {
     "views": []
    },
    "e6ea40d5ea864ce792c32d209c7ecac4": {
     "views": []
    },
    "e6f1a88907f54fd49ab64a6fcac2e842": {
     "views": []
    },
    "e7030c8194044d8889fb1bd7813cf624": {
     "views": []
    },
    "e7983dc22c734abfa6b66335824f6990": {
     "views": []
    },
    "e799bafc67bb4b3f975f9c00e83e5a41": {
     "views": []
    },
    "e79c86c282224910a6d1b508792172a7": {
     "views": []
    },
    "e81f01b14dce4572b6a52cf578e9cbc3": {
     "views": []
    },
    "e85b35eb15654737948554f6069e392b": {
     "views": []
    },
    "e88015ffa4ea469a98c2d790330d13d5": {
     "views": []
    },
    "e8de8f7979e7404fb888011299c8dca0": {
     "views": []
    },
    "e9728f84ae454252a7ea5acbae14ed9d": {
     "views": []
    },
    "e9c6666631614cb48deb2fb4aa1a48c3": {
     "views": []
    },
    "ea826a8808e34fd1b65da3563845c559": {
     "views": []
    },
    "eb184e3fd9f948d9b5ef0bcd0d41d6ce": {
     "views": []
    },
    "eb1990f843904a9289305edf040ed38e": {
     "views": []
    },
    "eb4c0c1533004644b6e740859fd3916d": {
     "views": []
    },
    "eb96987d31114557a28ec550b4105ed4": {
     "views": []
    },
    "ebba50af71764e92a1bc136471e02c83": {
     "views": []
    },
    "ebf5823a69b84a5b88328af23b11c288": {
     "views": []
    },
    "ec2000abb15d44539903fb54ccee6bf7": {
     "views": []
    },
    "ec509d3956ef4c3781e4f8da9e361878": {
     "views": []
    },
    "ec51d0a960f8446ca2d4de3e3c1403cd": {
     "views": []
    },
    "ec839cf773414e77a338a78c8f153013": {
     "views": []
    },
    "ecb80c3ff0224480befdea2f1240d1d8": {
     "views": []
    },
    "ed1fdb2927c547818092191069e29733": {
     "views": []
    },
    "ed920b0abb244a73aa79867f32378b61": {
     "views": []
    },
    "edb042adf5bf4f21a88eed997e2810eb": {
     "views": []
    },
    "ee824d81eee2493098e0407aa7f70b64": {
     "views": []
    },
    "ee92d5e87f6840f4b66a6d3120062ca4": {
     "views": []
    },
    "eef118e139db43d7ae0d38a4b011ceb4": {
     "views": []
    },
    "ef0b62cb43524719b51c4e0dcff8db95": {
     "views": []
    },
    "ef0bdcde7f43496cbc9fe25c27e07c01": {
     "views": []
    },
    "ef27051e1e1c4f6db44bc608c65b1c8b": {
     "views": []
    },
    "ef589375430b4ce3adc195b7e68a4056": {
     "views": []
    },
    "ef88ff1c5fc048769571e9f23d2aa990": {
     "views": []
    },
    "f05c604d3c454dc4b0d9346fe9cb4493": {
     "views": []
    },
    "f08e7e768b1e41fab934c64dab4bec67": {
     "views": []
    },
    "f0df86df8384423a87f5a4b82b6dd163": {
     "views": []
    },
    "f108d4d9df1f4a27970c0d5de18f9127": {
     "views": []
    },
    "f120bb36b3544722a355b186ff60ba0c": {
     "views": []
    },
    "f131160827d643b4b0f85c2537bc6bb3": {
     "views": []
    },
    "f23f85518f574655ab03ecb52de21c82": {
     "views": []
    },
    "f257ab4d1ea14cfca626b49d9b6c8359": {
     "views": []
    },
    "f2cb4b0bab004621aebf975cfe14bf0e": {
     "views": []
    },
    "f2ed4d73732f4571a6e46cae491baf92": {
     "views": []
    },
    "f33bf0349f004b2db454881cb67fdf86": {
     "views": []
    },
    "f4a5bf86859649cc8b93f9403118f884": {
     "views": []
    },
    "f4ce870018e4414eb8c689e70beec3e0": {
     "views": []
    },
    "f4d24363abc4497685522038166eddd8": {
     "views": []
    },
    "f5405cac42cf4f2face688cab9f6bcf1": {
     "views": []
    },
    "f558a6b306ca401d8c7dc891a6deaefc": {
     "views": []
    },
    "f5f11f2c899547e5a883462736d6414d": {
     "views": []
    },
    "f628b6a997b94d22bd57d28b773a4289": {
     "views": []
    },
    "f6925f62c42344b0bfdc8d8a4a7bd13d": {
     "views": []
    },
    "f6c95ba680f74d2ca6d76cdd7f4819c8": {
     "views": []
    },
    "f6cce635f59a4601adcf3d5d7884806e": {
     "views": []
    },
    "f6d62108638644acb1e8b225ee86a741": {
     "views": []
    },
    "f7068310c6c94045ae1256351dcaa680": {
     "views": []
    },
    "f7912a87c3a0495b9157a95936592db1": {
     "views": []
    },
    "f7976cac22194945a2e7ad5736651440": {
     "views": []
    },
    "f820803898d74f0da49625f1c53eb764": {
     "views": []
    },
    "f83451f3f18147b7ac8d2502daf5df16": {
     "views": []
    },
    "f897940821c94eb3a53cf5aa9251b8e0": {
     "views": []
    },
    "f8a17239bc1241609f96c9319e145bf8": {
     "views": []
    },
    "f8a6160a1cfb4d869c5998ae5daeb742": {
     "views": []
    },
    "f8a8079e3b904dcf84eb8f1c5acfbf64": {
     "views": []
    },
    "f8fdacba89a34f0091cfe091a86d36c8": {
     "views": []
    },
    "f93af998a46e4ce4863ff65bf5c4526a": {
     "views": []
    },
    "f93cc365e4254f48a14eecb6d7fddea0": {
     "views": []
    },
    "f993c1bd19254ab493f7730affaa0f4d": {
     "views": []
    },
    "f9a81c3628c8436ab5e2f3d78061a3f0": {
     "views": []
    },
    "faba749156c74835b81e6be1d4de1e3d": {
     "views": []
    },
    "fbacd235658d4691a32b0590f2c0be1b": {
     "views": []
    },
    "fbc609158c4d4265b8a18c19fd350e10": {
     "views": []
    },
    "fbe33544de3f4a5e9c0236dfc0e95f35": {
     "views": []
    },
    "fbf430b4fcc7431c9b35967c32145925": {
     "views": []
    },
    "fbfe1c737d364b2ab50fb4ee8f7cc147": {
     "views": []
    },
    "fc80b549c34343c6b5f9a55078381ae0": {
     "views": []
    },
    "fc9491b3f6e54d04bbde8fcb6d7a2ae3": {
     "views": []
    },
    "fceec794e40144908f033e89babd95ae": {
     "views": []
    },
    "fcf4e7b621314405b0b17c02138f2f76": {
     "views": []
    },
    "fcfb0cc294bb428999486c10ff570b3e": {
     "views": []
    },
    "fd049940e403402dbda66a63c031c9f7": {
     "views": []
    },
    "fd135ac8e31a48f3a993a2816ed8d05b": {
     "views": []
    },
    "fd41167d2a174210aa2f6c28aa66545d": {
     "views": []
    },
    "fd4ff383109f4f94b844b2a3795941fc": {
     "views": []
    },
    "fd9ce9a483244c639f0f882f97022741": {
     "views": []
    },
    "fe0485e2baa54d4198b885cfb6b00730": {
     "views": []
    },
    "fe7b8cba07bc4165b84619ef09563a26": {
     "views": []
    },
    "febb18109c53459a8ef4db38593a0de6": {
     "views": []
    },
    "ff5b7e2414a947298302743d8c97c7a5": {
     "views": []
    },
    "ff5c1ee7734a428aae37a6e4306d1d19": {
     "views": []
    },
    "ff791fa9363a408b914c0198a26e9c6c": {
     "views": []
    },
    "ff826a04166542fcb95c5d97a3f4fea8": {
     "views": []
    }
   },
   "version": "1.1.2"
  }
 },
 "nbformat": 4,
 "nbformat_minor": 0
}
