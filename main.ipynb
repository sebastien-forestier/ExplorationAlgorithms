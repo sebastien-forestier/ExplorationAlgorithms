{
 "cells": [
  {
   "cell_type": "markdown",
   "metadata": {},
   "source": [
    "# Journey through some Exploration Algorithms\n",
    "\n",
    "### Introduction: \n",
    "    Exploration is cool\n",
    "\n",
    "### Requirements:\n",
    "- [Jupyter](http://jupyter.readthedocs.io/en/latest/install.html)\n",
    "- [Explauto](https://github.com/flowersteam/explauto)\n",
    "\n",
    "To run this notebook:\n",
    "\n",
    "    jupyter notebook main.ipynb"
   ]
  },
  {
   "cell_type": "code",
   "execution_count": 1,
   "metadata": {
    "collapsed": false
   },
   "outputs": [],
   "source": [
    "%matplotlib inline\n",
    "\n",
    "import matplotlib\n",
    "import matplotlib.pyplot as plt\n",
    "\n",
    "from numpy import pi, array\n",
    "from matplotlib import animation\n",
    "from IPython.display import HTML, display\n",
    "from ipywidgets import interact_manual\n",
    "\n",
    "\n",
    "from environment import Arm, Ball, ArmBall\n",
    "from explauto.environment.dynamic_environment import DynamicEnvironment\n",
    "from modular_environment import HierarchicalEnvironment"
   ]
  },
  {
   "cell_type": "markdown",
   "metadata": {},
   "source": [
    "## I. Exploring the movements of a robotic arm\n",
    "\n",
    "Configuration of a dynamic environment with an arm and a ball to catch.\n",
    "\n",
    "The 3 joints are controlled through DMPs with 3 basis functions (9 motor parameters in total).\n",
    "\n",
    "The environments can be instantiated either with the following configuration, or directly with 'ArmBall()'."
   ]
  },
  {
   "cell_type": "code",
   "execution_count": 2,
   "metadata": {
    "collapsed": false
   },
   "outputs": [],
   "source": [
    "arm_config = dict(\n",
    "    m_mins=[-1.] * 3,\n",
    "    m_maxs=[1.] * 3, \n",
    "    s_mins=[-1.] * 3,\n",
    "    s_maxs=[1.] * 3, \n",
    "    lengths=[0.5, 0.3, 0.2], \n",
    "    angle_shift=0.5,\n",
    "    rest_state=[0.] * 3)\n",
    "\n",
    "ball_config = dict(\n",
    "    m_mins=[-1.] * 2,\n",
    "    m_maxs=[1.] * 2, \n",
    "    s_mins=[-1.] * 2,\n",
    "    s_maxs=[1.] * 2,\n",
    "    size=0.05,\n",
    "    initial_position=[0.6, 0.6],\n",
    "    color=\"y\")\n",
    "        \n",
    "arm_ball_cfg = dict(\n",
    "    m_mins=[-1.] * 3,\n",
    "    m_maxs=[1.] * 3,\n",
    "    s_mins=[-1.] * 2,\n",
    "    s_maxs=[1.] * 2,\n",
    "    top_env_cls=Ball, \n",
    "    lower_env_cls=Arm, \n",
    "    top_env_cfg=ball_config, \n",
    "    lower_env_cfg=arm_config, \n",
    "    fun_m_lower= lambda m:m,\n",
    "    fun_s_lower=lambda m,s:s[0:2],\n",
    "    fun_s_top=lambda m,s_lower,s:s)\n",
    "\n",
    "dynamic_environment_config = dict(\n",
    "    env_cfg=arm_ball_cfg,\n",
    "    env_cls=HierarchicallyCombinedEnvironment,\n",
    "    m_mins=[-1.] * 3 * 3, \n",
    "    m_maxs=[1.] * 3 * 3, \n",
    "    s_mins=[-1] * 3 * 2,\n",
    "    s_maxs=[1] * 3 * 2,\n",
    "    n_bfs=3,\n",
    "    move_steps=50, \n",
    "    n_dynamic_motor_dims=3,\n",
    "    n_dynamic_sensori_dims=2, \n",
    "    max_params=1000)\n",
    "\n",
    "environment = DynamicEnvironment(**dynamic_environment_config)\n",
    "\n",
    "#environment = ArmBall()"
   ]
  },
  {
   "cell_type": "markdown",
   "metadata": {},
   "source": [
    "Control the arm through the 9 following sliders (and hit \"Run\" button).\n",
    "\n",
    "Try to catch the ball !"
   ]
  },
  {
   "cell_type": "code",
   "execution_count": 6,
   "metadata": {
    "collapsed": false
   },
   "outputs": [
    {
     "data": {
      "text/html": [
       "<video width=\"432.0\" height=\"432.0\" controls autoplay loop>\n",
       "  <source type=\"video/mp4\" src=\"data:video/mp4;base64,AAAAHGZ0eXBNNFYgAAACAGlzb21pc28yYXZjMQAAAAhmcmVlAAATqG1kYXQAAAKvBgX//6vcRem9\n",
       "5tlIt5Ys2CDZI+7veDI2NCAtIGNvcmUgMTQ4IHIyNjQzIDVjNjU3MDQgLSBILjI2NC9NUEVHLTQg\n",
       "QVZDIGNvZGVjIC0gQ29weWxlZnQgMjAwMy0yMDE1IC0gaHR0cDovL3d3dy52aWRlb2xhbi5vcmcv\n",
       "eDI2NC5odG1sIC0gb3B0aW9uczogY2FiYWM9MSByZWY9MyBkZWJsb2NrPTE6MDowIGFuYWx5c2U9\n",
       "MHgzOjB4MTEzIG1lPWhleCBzdWJtZT03IHBzeT0xIHBzeV9yZD0xLjAwOjAuMDAgbWl4ZWRfcmVm\n",
       "PTEgbWVfcmFuZ2U9MTYgY2hyb21hX21lPTEgdHJlbGxpcz0xIDh4OGRjdD0xIGNxbT0wIGRlYWR6\n",
       "b25lPTIxLDExIGZhc3RfcHNraXA9MSBjaHJvbWFfcXBfb2Zmc2V0PS0yIHRocmVhZHM9MTMgbG9v\n",
       "a2FoZWFkX3RocmVhZHM9MiBzbGljZWRfdGhyZWFkcz0wIG5yPTAgZGVjaW1hdGU9MSBpbnRlcmxh\n",
       "Y2VkPTAgYmx1cmF5X2NvbXBhdD0wIGNvbnN0cmFpbmVkX2ludHJhPTAgYmZyYW1lcz0zIGJfcHly\n",
       "YW1pZD0yIGJfYWRhcHQ9MSBiX2JpYXM9MCBkaXJlY3Q9MSB3ZWlnaHRiPTEgb3Blbl9nb3A9MCB3\n",
       "ZWlnaHRwPTIga2V5aW50PTI1MCBrZXlpbnRfbWluPTIwIHNjZW5lY3V0PTQwIGludHJhX3JlZnJl\n",
       "c2g9MCByY19sb29rYWhlYWQ9NDAgcmM9Y3JmIG1idHJlZT0xIGNyZj0yMy4wIHFjb21wPTAuNjAg\n",
       "cXBtaW49MCBxcG1heD02OSBxcHN0ZXA9NCBpcF9yYXRpbz0xLjQwIGFxPTE6MS4wMACAAAALw2WI\n",
       "hAA///73aJ8Cm1pDeoDklcUl20+B/6tncHyP6QMAAAMAAK6sc+imSBhd68YAAnxrk0D+PTOYArYX\n",
       "FpLxBCDB/U0nyiGVhlHoB0/UIR15DMzXqSdO1zk/TV0yLoNb1HeRAYp8/5bifccCZ3sUbntmus4W\n",
       "zvof9jSLc6KCwuALCNKJw5i8FkRyhGf696n3mJJRSNOvPRg9YZ52HMDA0hnzLhwz1dWvXEPce8rz\n",
       "1ehhLlmwKJ5eB8L3XT8EyM/yJB9p+Gkyt4uSCAcpzbntNU74eith3cmeoCdzdstkqQC5g4djp1iH\n",
       "P/MDtjCfy0qG/D2tlg0xYUcGOpQTqGcQ7ffaRoh3BgOzUv7ntxQtBNRroMWxrMjiIZXned4JiwAF\n",
       "J333wAAJKAxJ50GQX1HDWaSqETnyoiiNQvcTctaRb9iIkTnOQ6MSF4DyWfHN/gVjalJswJq51fee\n",
       "w5mNbMiPLyqm1V3v0QIbCEkZCHZZNny8o5BC1HtUeCHzTTkTmkga59OryOjy88Bqael8Zce5GTgj\n",
       "hkfx73Cl3pMwAuB54Mf9RLEhIxFEkuOZmvjdpjpnMtc72wyhlVGeMn7VTjVXhXXlU44GYPzr9VSc\n",
       "pVMrdfwfWvDzHAFIF+yNIqQTFbcZ3QcAEGJnlkzS8v9MxmePafUUoCT1qursczvFvfiHDlCHjnvF\n",
       "pcs8WTAp99AaY1Nd66WsOsWyNXmJbEnl22pcdIAvnAf7KtVsu7VzaWEtQUVsu9H67jIrTHqmq6kx\n",
       "cxvxcCo1p4PuTmYegCNF/ac0zWxbIALWcT3t9R+C3EzpwHSup1vlvjfAjopjD2ZieEeFNsaD4VYL\n",
       "+nkpl+7B/TteWfCQaR0buFc7f9aQZu4JBfGiPe6GETgwDmaNs/QZWJHSwtxuq618eSqUK8w+DyOp\n",
       "0Ua8LDpNuSxiM1n9W26ln/oYPTK1LHnag1c6FwgtyY98n7/OFzIERr44uGRvdVeDl7cu+YaGGuEj\n",
       "SRh8DVFDN//xWVtRNsHTtx0bTQYKBHpDN5iAr6nkVhk+/1eFYe/MzjXKICW9qMI4+/QGG7OhyEuD\n",
       "gDLFPYdbbqBNDuI57grfHxfDVyzHUHgigL2PBYmUvLI2V6zaI7lwKttqLEyiBJwWVU9QGDtjBUVA\n",
       "/PnLl/knBBt3fni8hlhQhjdFWBMqZ2WPBwCOWWrohB8DuQOdc9H0nA3R/PgVmHPK+67OH6KCOcRE\n",
       "/uUoxKwh+VSYM4f1qvINekzYkY9Czhi9uJ+LiewyvUuZna/XCoPiBFPpBwS3E04KfigBj/v89rcC\n",
       "oEptoWURCzFY2h+ABOPsLzsXHD8EuSek6xxChxTJqXjhmxI6+Afr1FcE/F25LA6O5peJXjzxY2Yc\n",
       "TDSKou9Gn33iIdu9XohDBvZ+YHMSpyihLTYMDY/W9CmA3ZF3Yj26vjuyEHMilQUiKa/EfI0gbzOW\n",
       "+iGNH5KFEVl0Tj8JBQJboH50jiMef5c7sR/FMEPLhCRgHddPSSgErVfc/xC1VKRRt0lxNdL7fKgY\n",
       "mnc5bzLYvA1ZI8JniBhwFmSkWUQKgZqDGkQWg2e+knPACK8abNRXWGApUADg0cz1tvrOzhjFYP4s\n",
       "EV70lCu+DgagQRhxpI2tprY+H+1DtA/y/WLIeRoPwV93adUH673nWgAnsimilIZ9NGeshS/7F86b\n",
       "HFYnHDpkUQB6Yx3ZktmurLBmvegow38vq3/hCISPXfpX5Mp/AN1GxiNd2CrLgcOAzFudjFJimmpB\n",
       "0a612WiA41dK2cwjsWDozR7M3zEK8hE1YH4kLmJM1MgD/whkmf6fP2wjx4t1Ka2t0Eb8VKma8zWD\n",
       "4gq3lEzCkb/eNa1G+0b609ZJlC8ReZnjHEsFztE4r4CdZTAleoA6bTONMl/tye4DmzjtifLTXjax\n",
       "3PgAW4MqIzSR9Nqwwmd2IM9d+ONbOq/LTWbNr4eGPgw8igMfYs0neMX48XxsLg9y0FRpRmc6Op9d\n",
       "ESGE09waQ1xywjBBjxC/2zM1fUJEWX/A6nbCAqkAaBnZlINvxcGbTGZNB4aGviSe4x88jiBNooWO\n",
       "uLGoKj0nhCaJwh+cDAUhTXExnXm/GavN3K29wdhXNfJGhHqCx4vn9swZN2rIZ8zvHABCBJBPJUrs\n",
       "t6KrGzSmjRZqPA9dzqdC4gO+2BfNu3Q56fJrXCjsBqzRDUH/YJWwswL3TGM+F1L6fwo3JJ4tMSOQ\n",
       "B+ybwtF1G7Uf0Ak3PnGbqXwf5K/dF/NzAp5Z/+3lMpV5bdrdq5KbZc6TX0/kE5y1h0Oq6ymPpBnb\n",
       "IkdV3rBWyIltlvBjhIkjPzDlsfn429l6XUBljF9OJt9vnJsen69GavdYXIAEVcPMTiLNN6ruGJma\n",
       "3JMg+11/+a94pGv2vkQD5xS2tOUD3Vy+4jXp83u0wa9xszAwJulhT+b2sNMrtXAynpUqYogIli/v\n",
       "jJ3cHjXlLIn0AZ+EI3+kMno/TVPOuUaPnnqOxlYeZX+CQPeHnI2MNSXxxBUFFRoboELfvuVppgAN\n",
       "D9scQ3C/q/u7LTpiqdy5eIOhNP2K3i9ugINkYN2Kqo+T13lK913Uv1fFgUuVHLSnesRFQ/NO4r6H\n",
       "TtOkdq5bSPMRVSKwva9Z+Yh8F1yNc8RvtS/g2L9XIKgi3W9Sa0D3E4CS1TNafBtZ4+wK4gMmqThY\n",
       "M4nwIJ3RidOExk+xvl08Ct27c+BzIQcZlAaSHJcIz2Bl+57QnQhqvFKUSRpDKNHW1KwnWInvpq2b\n",
       "VGe75xdNCIZGwNCx46chTQ5WoIsnR6oaWIbjWwDGPp6W9c9fYI68z3KdUZ84MVrduKFpL6dfLanE\n",
       "ReY6Tjj53I/YIpBdR1NIJ2LmAhVG0iqsOJqusKi78dHG3w0HHV+MN6+r7d9j62aR4kU6mTuw4Oth\n",
       "6EyiEcvz6FG2SiI1sCcTMVGlwXiuQljz4Jpc4fzsiIn62yWqvlIrNu//zhUpxZlE3gXsQyp3H7Rr\n",
       "k0FGPe2ZIntYv4kZIu4V8YtVLfUkhrlH2ncgquk6mesLg3jI5sjyDFLLTVqTw5us+C5pqsp6BpZU\n",
       "2cS2wZaH2OT4bO/up2LEuxzGCQYmG6gVs3AAb5kJj3p/gVHZiliQjQMR4la3ZYW/Hxb+b14AlRef\n",
       "erlW6FaqihHVbH0P8wR+n4EGQL6AMwLirXneIMnfFAX64mA+f/+cEKgIPSyVdjDzc4CDiTfqXYKw\n",
       "6SP29Ztxkb5t+BlVjpCp8ZoW7S4HOvIlLT1pBcg5ZbO8alm/N7eDlfJlMIwVZEGJa0eUupYUUML/\n",
       "3I5U5sdMrxUyY/hcGzNFOPbbWuiLZPgZcqNEI7qiqqfDfCOBf/uk1zQ7vYH60o7MDmVnobmW0LBc\n",
       "kbNxt+7rkrPsPKmW2S/F2pWsXXUTNXeACFPC433C5Q86oEC07Nb6T+IruLxE6WDKvXm6h8BWMLq3\n",
       "G6cgRuSoyaBPPAm7f5THndco/UdnPxkexQgc+7/z/J5ktiVaZuIxjeSuPECo2ibr2gcv1BtECJyO\n",
       "FREHF8i8oN0amr03yXBRwaYMRW0N/QS4hBGlgNdv9ZSElVIOvyOrLWuq4fGk2WjxO8LgA77Q8pQF\n",
       "1Yenvx3JRiQmpqdeE+poWBNHer0XULNlqA2bpTZf+eiiZptpH5lu39lMF6jY5xtC8ifKADF7K2OV\n",
       "2yZ8AfeUTHYZMvWRymkxoxdjWxnTk5PubWcwEMnIxIWTLu4WGXpvpJfeWyKcJM0rqavYhH3cvKzg\n",
       "VErFhYnSqLuvREl8j5AVDBTlpyYDhHVtOlxgj4xTGwxkdzsDMzKSAuunSP3T1YxAWmKh5OWfr/Vv\n",
       "JbY93VlxXJxwkK4BsEoiVqn2tqt+bsJ5NDPTDDb4W6x6hupEjXDbI5inQ5tIY/oOqh1rC7urzaBC\n",
       "Fb/tRlsyklwRqIDjs4Lo5FJWeo43hJAkGO7Wa3ycZ1LeQT9Pk90TonZlD9jn4vtbu0p2mn0ByEKb\n",
       "4F55o8769upUSgckHXTeMKyEqNHHOr6RUmJJEFqTa5IeM+j4uLwb0BigAA0ZAAAAYkGaJGxD//6p\n",
       "lgEUUc6AFh+ROcMwbAFK2b9gqMKO6HzN7NZtrnsNp2SxE/Q3WqdnZiG1wyw8f4jFVlnKI6fumWuI\n",
       "qa3QlSiMs/ix4l9AZPLFjlXE4igM9VnIL1qDgDdbnlBwAAAAHEGeQniGfwBjeI/NZ+0bVHjsxano\n",
       "buCyurIsGDEAAAASAZ5hdEK/ALomGaCjkzMt5xekAAAAEgGeY2pCvwC6V/v0KKgmWZO8rQAAABpB\n",
       "mmhJqEFomUwIf//+qZYAZS5gi9mSAAC7gQAAABhBnoZFESwz/wBkmHIVmcXeIbQWkGI/q+EAAAAU\n",
       "AZ6ldEK/ALomGfQJlb5Xo8vltukAAAAUAZ6nakK/ALpX+/QoqDjGU4IzoHgAAAAWQZqsSahBbJlM\n",
       "CH///qmWAAADAAB4QAAAABdBnspFFSwz/wBkmHIVmcXeI8EJBDv1fQAAABQBnul0Qr8AuiYZ9AmV\n",
       "vlejy+W26AAAABQBnutqQr8Aulf79CioOMZTgjOgeAAAABZBmvBJqEFsmUwIf//+qZYAAAMAAHhB\n",
       "AAAAF0GfDkUVLDP/AGSYchWZxd4jwQkEO/V9AAAAFAGfLXRCvwC6Jhn0CZW+V6PL5bbpAAAAFAGf\n",
       "L2pCvwC6V/v0KKg4xlOCM6B4AAAAFkGbNEmoQWyZTAh///6plgAAAwAAeEAAAAAXQZ9SRRUsM/8A\n",
       "ZJhyFZnF3iPBCQQ79X0AAAAUAZ9xdEK/ALomGfQJlb5Xo8vltugAAAAUAZ9zakK/ALpX+/QoqDjG\n",
       "U4IzoHgAAAAWQZt4SahBbJlMCH///qmWAAADAAB4QQAAABdBn5ZFFSwz/wBkmHIVmcXeI8EJBDv1\n",
       "fAAAABQBn7V0Qr8AuiYZ9AmVvlejy+W26QAAABQBn7dqQr8Aulf79CioOMZTgjOgeQAAABZBm7xJ\n",
       "qEFsmUwIf//+qZYAAAMAAHhAAAAAF0Gf2kUVLDP/AGSYchWZxd4jwQkEO/V9AAAAFAGf+XRCvwC6\n",
       "Jhn0CZW+V6PL5bboAAAAFAGf+2pCvwC6V/v0KKg4xlOCM6B5AAAAFkGb4EmoQWyZTAh///6plgAA\n",
       "AwAAeEEAAAAXQZ4eRRUsM/8AZJhyFZnF3iPBCQQ79XwAAAAUAZ49dEK/ALomGfQJlb5Xo8vltugA\n",
       "AAAUAZ4/akK/ALpX+/QoqDjGU4IzoHkAAAAWQZokSahBbJlMCHf//qmWAAADAAB4QAAAABdBnkJF\n",
       "FSwz/wBkmHIVmcXeI8EJBDv1fQAAABQBnmF0Qr8AuiYZ9AmVvlejy+W26AAAABQBnmNqQr8Aulf7\n",
       "9CioOMZTgjOgeQAAABZBmmhJqEFsmUwId//+qZYAAAMAAHhBAAAAF0GehkUVLDP/AGSYchWZxd4j\n",
       "wQkEO/V9AAAAFAGepXRCvwC6Jhn0CZW+V6PL5bbpAAAAFAGep2pCvwC6V/v0KKg4xlOCM6B4AAAA\n",
       "FkGarEmoQWyZTAh3//6plgAAAwAAeEAAAAAXQZ7KRRUsM/8AZJhyFZnF3iPBCQQ79X0AAAAUAZ7p\n",
       "dEK/ALomGfQJlb5Xo8vltugAAAAUAZ7rakK/ALpX+/QoqDjGU4IzoHgAAAAVQZrwSahBbJlMCGf/\n",
       "/p4QAAADAAOnAAAAF0GfDkUVLDP/AGSYchWZxd4jwQkEO/V9AAAAFAGfLXRCvwC6Jhn0CZW+V6PL\n",
       "5bbpAAAAFAGfL2pCvwC6V/v0KKg4xlOCM6B4AAAAFUGbMUmoQWyZTAhX//44QAAAAwAOOAAABYZt\n",
       "b292AAAAbG12aGQAAAAAAAAAAAAAAAAAAAPoAAAJxAABAAABAAAAAAAAAAAAAAAAAQAAAAAAAAAA\n",
       "AAAAAAAAAAEAAAAAAAAAAAAAAAAAAEAAAAAAAAAAAAAAAAAAAAAAAAAAAAAAAAAAAAAAAAACAAAE\n",
       "sHRyYWsAAABcdGtoZAAAAAMAAAAAAAAAAAAAAAEAAAAAAAAJxAAAAAAAAAAAAAAAAAAAAAAAAQAA\n",
       "AAAAAAAAAAAAAAAAAAEAAAAAAAAAAAAAAAAAAEAAAAABsAAAAbAAAAAAACRlZHRzAAAAHGVsc3QA\n",
       "AAAAAAAAAQAACcQAAAQAAAEAAAAABChtZGlhAAAAIG1kaGQAAAAAAAAAAAAAAAAAACgAAABkAFXE\n",
       "AAAAAAAtaGRscgAAAAAAAAAAdmlkZQAAAAAAAAAAAAAAAFZpZGVvSGFuZGxlcgAAAAPTbWluZgAA\n",
       "ABR2bWhkAAAAAQAAAAAAAAAAAAAAJGRpbmYAAAAcZHJlZgAAAAAAAAABAAAADHVybCAAAAABAAAD\n",
       "k3N0YmwAAACzc3RzZAAAAAAAAAABAAAAo2F2YzEAAAAAAAAAAQAAAAAAAAAAAAAAAAAAAAABsAGw\n",
       "AEgAAABIAAAAAAAAAAEAAAAAAAAAAAAAAAAAAAAAAAAAAAAAAAAAAAAAAAAAAAAY//8AAAAxYXZj\n",
       "QwFkABX/4QAYZ2QAFazZQbDehAAAAwAEAAADAKA8WLZYAQAGaOvjyyLAAAAAHHV1aWRraEDyXyRP\n",
       "xbo5pRvPAyPzAAAAAAAAABhzdHRzAAAAAAAAAAEAAAAyAAACAAAAABRzdHNzAAAAAAAAAAEAAAAB\n",
       "AAABoGN0dHMAAAAAAAAAMgAAAAEAAAQAAAAAAQAACgAAAAABAAAEAAAAAAEAAAAAAAAAAQAAAgAA\n",
       "AAABAAAKAAAAAAEAAAQAAAAAAQAAAAAAAAABAAACAAAAAAEAAAoAAAAAAQAABAAAAAABAAAAAAAA\n",
       "AAEAAAIAAAAAAQAACgAAAAABAAAEAAAAAAEAAAAAAAAAAQAAAgAAAAABAAAKAAAAAAEAAAQAAAAA\n",
       "AQAAAAAAAAABAAACAAAAAAEAAAoAAAAAAQAABAAAAAABAAAAAAAAAAEAAAIAAAAAAQAACgAAAAAB\n",
       "AAAEAAAAAAEAAAAAAAAAAQAAAgAAAAABAAAKAAAAAAEAAAQAAAAAAQAAAAAAAAABAAACAAAAAAEA\n",
       "AAoAAAAAAQAABAAAAAABAAAAAAAAAAEAAAIAAAAAAQAACgAAAAABAAAEAAAAAAEAAAAAAAAAAQAA\n",
       "AgAAAAABAAAKAAAAAAEAAAQAAAAAAQAAAAAAAAABAAACAAAAAAEAAAoAAAAAAQAABAAAAAABAAAA\n",
       "AAAAAAEAAAIAAAAAAQAABAAAAAAcc3RzYwAAAAAAAAABAAAAAQAAADIAAAABAAAA3HN0c3oAAAAA\n",
       "AAAAAAAAADIAAA56AAAAZgAAACAAAAAWAAAAFgAAAB4AAAAcAAAAGAAAABgAAAAaAAAAGwAAABgA\n",
       "AAAYAAAAGgAAABsAAAAYAAAAGAAAABoAAAAbAAAAGAAAABgAAAAaAAAAGwAAABgAAAAYAAAAGgAA\n",
       "ABsAAAAYAAAAGAAAABoAAAAbAAAAGAAAABgAAAAaAAAAGwAAABgAAAAYAAAAGgAAABsAAAAYAAAA\n",
       "GAAAABoAAAAbAAAAGAAAABgAAAAZAAAAGwAAABgAAAAYAAAAGQAAABRzdGNvAAAAAAAAAAEAAAAs\n",
       "AAAAYnVkdGEAAABabWV0YQAAAAAAAAAhaGRscgAAAAAAAAAAbWRpcmFwcGwAAAAAAAAAAAAAAAAt\n",
       "aWxzdAAAACWpdG9vAAAAHWRhdGEAAAABAAAAAExhdmY1Ni40MC4xMDE=\n",
       "\">\n",
       "  Your browser does not support the video tag.\n",
       "</video>"
      ],
      "text/plain": [
       "<IPython.core.display.HTML object>"
      ]
     },
     "metadata": {},
     "output_type": "display_data"
    }
   ],
   "source": [
    "# Had to run 'jupyter nbextension enable --py --sys-prefix widgetsnbextension'\n",
    "matplotlib.rcParams['figure.figsize'] = (6.0, 6.0)\n",
    "fig, ax = plt.subplots()\n",
    "\n",
    "def movement(m1=0., m2=0., m3=0., m4=0., m5=0., m6=0., m7=0., m8=0., m9=0.):\n",
    "    environment.update(array([m1, m2, m3, m4, m5, m6, m7, m8, m9]))\n",
    "    display(HTML(environment.plot(fig, ax)))\n",
    "    \n",
    "interact_manual(movement, m1=(-1., 1., 0.1), m2=(-1., 1., 0.1), m3=(-1., 1., 0.1), \n",
    "                          m4=(-1., 1., 0.1), m5=(-1., 1., 0.1), m6=(-1., 1., 0.1), \n",
    "                          m7=(-1., 1., 0.1), m8=(-1., 1., 0.1), m9=(-1., 1., 0.1))\n"
   ]
  },
  {
   "cell_type": "markdown",
   "metadata": {},
   "source": [
    "## II. Random Motor Babbling"
   ]
  },
  {
   "cell_type": "code",
   "execution_count": 15,
   "metadata": {
    "collapsed": false
   },
   "outputs": [
    {
     "name": "stdout",
     "output_type": "stream",
     "text": [
      "Populating the interactive namespace from numpy and matplotlib\n"
     ]
    },
    {
     "data": {
      "image/png": "[encoded data removed]",
      "text/plain": [
       "<matplotlib.figure.Figure at 0x7f0bd43bfd50>"
      ]
     },
     "metadata": {},
     "output_type": "display_data"
    }
   ],
   "source": [
    "%pylab inline\n",
    "ax = axes()\n",
    "\n",
    "dimensions = 5\n",
    "\n",
    "config = make_arm_config(dimensions, 2*pi, array([-1., -1.]), array([1., 1.]), 1.5, 0.)\n",
    "environment = SimpleArmEnvironment(**config)\n",
    "\n",
    "\n",
    "random_motors = environment.random_motors(n=100)\n",
    "\n",
    "for m in random_motors:\n",
    "    environment.plot_arm(ax, m, alpha=0.3)"
   ]
  },
  {
   "cell_type": "markdown",
   "metadata": {},
   "source": [
    "## III. Random Goal Babbling\n"
   ]
  },
  {
   "cell_type": "markdown",
   "metadata": {},
   "source": [
    "## IV. Active Goal Babbling\n",
    "\n",
    "Active learning is necessary"
   ]
  },
  {
   "cell_type": "markdown",
   "metadata": {},
   "source": [
    "## V. More complex environment\n",
    "\n",
    "Test AGB"
   ]
  },
  {
   "cell_type": "markdown",
   "metadata": {},
   "source": [
    "=> Need to change the representation"
   ]
  },
  {
   "cell_type": "markdown",
   "metadata": {},
   "source": [
    "## VI. Model Babbling"
   ]
  }
 ],
 "metadata": {
  "kernelspec": {
   "display_name": "Python 2",
   "language": "python",
   "name": "python2"
  },
  "language_info": {
   "codemirror_mode": {
    "name": "ipython",
    "version": 2
   },
   "file_extension": ".py",
   "mimetype": "text/x-python",
   "name": "python",
   "nbconvert_exporter": "python",
   "pygments_lexer": "ipython2",
   "version": "2.7.11+"
  },
  "widgets": {
   "state": {
    "005b99aca7214d3192d76ac0a4a75ccf": {
     "views": []
    },
    "0065b9ac60f14e24be845be0efbb3916": {
     "views": []
    },
    "009ea4344f3443be94fa36aaefe0e472": {
     "views": []
    },
    "0241745f6746463d8efeee67c6e66e33": {
     "views": []
    },
    "04842e4c34b3448fbf48072a2724c1f1": {
     "views": []
    },
    "07304a59720a4b4588edb1c4f5733651": {
     "views": []
    },
    "08843e024c9c48119139a68b9161c5e0": {
     "views": []
    },
    "08bd77f5127d45e9852b2b5b5b9ae2cb": {
     "views": []
    },
    "08f92d4011f4468584060c1e54c83872": {
     "views": []
    },
    "0a893f2771464ee7befd5ee8781c81d7": {
     "views": []
    },
    "0a9737c24cbf4e5fb7fafc87cc47a71f": {
     "views": []
    },
    "0b6029bde8e9420199da0dd2718e791c": {
     "views": []
    },
    "0c1e814fd4574b50812cddd425b7258b": {
     "views": []
    },
    "0d9e27f1c7c1492fb857ba47a7ecd3c3": {
     "views": []
    },
    "0dd5d18c31c4411c9f721e4396f15480": {
     "views": []
    },
    "0de97e70b5604a50a3936bed5fe32489": {
     "views": []
    },
    "0ef5f11989234b72ac9dede43c2b98ac": {
     "views": []
    },
    "0f206e7994d54965a98ca57df86093e8": {
     "views": []
    },
    "129e0a7c85114c4f9af3b3e4b6c41710": {
     "views": []
    },
    "13311f9bbf5f4ca288312f16ce9d33c0": {
     "views": []
    },
    "13a718d4f1c9427f8848396dee5241e6": {
     "views": []
    },
    "13e4a17b4e1f42bfbef043d19d683e9d": {
     "views": []
    },
    "144eef5ee07e4549bcf7c9373ebf3fe7": {
     "views": []
    },
    "16e137f11c83481abad089075c42f275": {
     "views": []
    },
    "172ddfe5e65e40a48a853a6e2d94e5d7": {
     "views": []
    },
    "197dd7594af84b40a938a5955db15657": {
     "views": []
    },
    "19cfbb7d3b014d9ca251aaf1e734a713": {
     "views": []
    },
    "1a5b8285791f4745a9151d407f907024": {
     "views": []
    },
    "1a80003483ff494181c327008a285133": {
     "views": []
    },
    "1a80afe6c1494628ae3c24e81f41b752": {
     "views": []
    },
    "1bc6403718cd4a26a43ca7880c60d7e9": {
     "views": []
    },
    "1be896218b624fc991c5bd82a0eea53b": {
     "views": []
    },
    "1cf52b84ed1e4b8f9a966ae6a82d500e": {
     "views": []
    },
    "1d17b20d4f41455cb7d3e36a26ac2ee7": {
     "views": []
    },
    "1d67d2a39d734a858fdb1d29b3371232": {
     "views": []
    },
    "1dc63979271c4925abe7dc9ea0db2f47": {
     "views": []
    },
    "21c1bd7ba2f2402fa69db53bbd37be99": {
     "views": []
    },
    "21d60803e403410e9791784567d03d67": {
     "views": []
    },
    "25c33a40d73e40259c83cf868bbafc7c": {
     "views": []
    },
    "2606158c8ff84d5091600c727fb15956": {
     "views": []
    },
    "267fd018261848e7bba34dad965a9fce": {
     "views": []
    },
    "27cb171333024b17b9cfcc9e7a4ebce5": {
     "views": []
    },
    "28cb7356c1014a00964194024c23aeb5": {
     "views": []
    },
    "2960a565d247474c8a7c26c8bc059686": {
     "views": []
    },
    "29acc5391e184feb9f8f70290ded599b": {
     "views": []
    },
    "29d41ef572f04f998e4ba1a87f8394a8": {
     "views": []
    },
    "29f1327d3d5940fbadc463ef4ef1e5ad": {
     "views": []
    },
    "2a879245f4f84557a8497fc38d9a7d3c": {
     "views": []
    },
    "2aa8c1f3743a445dbf8506310b572588": {
     "views": []
    },
    "2adb5c38f62e49e6ad8135b17bbda3eb": {
     "views": []
    },
    "2b3eb582bada407387e8c94b07c91504": {
     "views": []
    },
    "2d18a8399d7240c1a49981ea7654cd59": {
     "views": []
    },
    "2da7cd4e46f1490b8ce258f2b3b54b58": {
     "views": []
    },
    "2da9802171ad4021a0001a0fe82f1acd": {
     "views": []
    },
    "2e9c6da3d34847de92681908c65d1f0f": {
     "views": []
    },
    "2fef58105b8e4a7b843ee75ca901d243": {
     "views": []
    },
    "309484cab4454c3f97116eb4500505b6": {
     "views": []
    },
    "31421599298b4f7598660619daeeb9ef": {
     "views": []
    },
    "31546369aca34d2d9751079719b35234": {
     "views": []
    },
    "319ba248789846fc9cb6887d97499e93": {
     "views": []
    },
    "32b4c019f68141e0b5c6bbb85b00d335": {
     "views": []
    },
    "3514908040b34f50a962ac8d44c7efb9": {
     "views": []
    },
    "3529862ca0a14daab7fbdd5e21047557": {
     "views": []
    },
    "36e6f0dc097043c1ae288565fe3bc574": {
     "views": []
    },
    "377d090e14c84a03af20972dafb5d166": {
     "views": []
    },
    "3a27bdbfaae34448a49eea9b12f292ee": {
     "views": []
    },
    "3a674281a6344310a79c04c1f14e853a": {
     "views": []
    },
    "3b4d0a03a1334b2da5c66180360cdec4": {
     "views": []
    },
    "3e472a6addea48188d7b129848078556": {
     "views": []
    },
    "3ed32d137bdb45b3b207e556a0097741": {
     "views": []
    },
    "3f2beb3687ac41d68f53fc2a9591bdf8": {
     "views": []
    },
    "41d75df2fd5848569da07513b5d6bb0a": {
     "views": []
    },
    "42920bebeb274dc5bed13ede83a6cdc9": {
     "views": []
    },
    "438a1c1f9a294fde93b54939aed46ab9": {
     "views": []
    },
    "44af298c92c6404c9a33015070b88e11": {
     "views": []
    },
    "45d9aab374204a8fa004b2ce6a3714e1": {
     "views": []
    },
    "472beaa9c3b04a0c8bd4cf925bb9a26f": {
     "views": []
    },
    "48ff0ab1b03b4f08935738720452dced": {
     "views": []
    },
    "4c3218f827ae4c79a64294c9714b3e56": {
     "views": []
    },
    "4c9eba0eb6054f2c9005e7c766c0264e": {
     "views": []
    },
    "4cab57bb7683489a9a46332de39625f1": {
     "views": []
    },
    "4cf9a398da624e7a9b56f0b9c4e0f117": {
     "views": []
    },
    "4f0543646d224b20a996af4cf4765d0e": {
     "views": []
    },
    "4f52d463dd5741e7ac4b2a4b43523f8a": {
     "views": []
    },
    "50f9b5ea9f3b453aa16fc18428c47ff7": {
     "views": []
    },
    "51323016dd1d4793acd123e33b3e4968": {
     "views": []
    },
    "5289fbaec33b4326b189e0e36b7a1aa6": {
     "views": []
    },
    "5336df2d0ce24b5cbf4d620c4a1e3863": {
     "views": []
    },
    "53afcd02a33b41af83f07db70764c512": {
     "views": []
    },
    "56764b7506f9446ab6a379ee1924cbde": {
     "views": []
    },
    "570d180c4251415386556a1cf3b07c0e": {
     "views": []
    },
    "5820f023d8014b5c85f4e1e7ce6992c5": {
     "views": []
    },
    "5904ef64cd0a4946b9296ff3b75e77fd": {
     "views": []
    },
    "5b131d557287449eac6ac702efb69ad7": {
     "views": []
    },
    "5bd9356703714dbeafdd27aec9350b4e": {
     "views": []
    },
    "5d015bea48a0491fa1684d9961d4428d": {
     "views": []
    },
    "5e9c102b5870400cbffd6188c2a2ea9c": {
     "views": []
    },
    "5efe44d75c9842dc8ed137913d16d0bf": {
     "views": []
    },
    "60555e1974d8437fb1ee01da513e4b69": {
     "views": []
    },
    "6254e33a024a4d02b632db8c2849f623": {
     "views": []
    },
    "627c1817a8084ad69ddb95c369e97803": {
     "views": []
    },
    "6502a4a78cd94fd3a39c4c9135aa42c7": {
     "views": []
    },
    "672dc86eb23c459d8e3a910ad595c775": {
     "views": []
    },
    "68a9786f451a4552a6c71fce9ce0581e": {
     "views": []
    },
    "6ae951a753644174a79ac1a8ce6e147d": {
     "views": []
    },
    "6cb8ea4bb90747bea502bcc8f8ffc63f": {
     "views": []
    },
    "6e130491c72f4a89b75defac7e6ed11f": {
     "views": []
    },
    "6e7bc5d53bf14cfcaefb9d18258f70c6": {
     "views": []
    },
    "6f448da442c04d558797176069a7c14a": {
     "views": []
    },
    "6fc3da53012744259bba1a33c53fbddf": {
     "views": []
    },
    "6fe69c4a583d480a8f73bd55282f5364": {
     "views": []
    },
    "727334fbbfd34e3ab07f496064f579e5": {
     "views": []
    },
    "72c3534a8ea34bef8ae71488a173fc2f": {
     "views": []
    },
    "747d7708a1164e3a8ab1f56c204c5cb8": {
     "views": []
    },
    "7521c1c165f84e51ac8fdb8fc6a78bb3": {
     "views": []
    },
    "76ae839bdb2745948246a46bf48c069d": {
     "views": []
    },
    "78df5bb1c54f4d3699fb277e8699a926": {
     "views": []
    },
    "79f2819378b24af58768b96a362b3ebb": {
     "views": []
    },
    "7a2ec2c578214050bd100807de737ee2": {
     "views": []
    },
    "7a4fc2058879454eb07abdccfd1c3737": {
     "views": []
    },
    "7c84b6e558dc4c8ebf5a2971e365b70b": {
     "views": []
    },
    "7ce44506c26742f3ba2c6dc0a1886452": {
     "views": []
    },
    "7d81939631ad461b843127561a81f880": {
     "views": []
    },
    "7ed936cc490446daa4101b6d3c45fe67": {
     "views": []
    },
    "7effa36ca4e4454eb7c05260fb08eb45": {
     "views": []
    },
    "7fc479a169cd4c4f85eb576502f23d24": {
     "views": []
    },
    "8008f1f92832433b973773414deaa5ec": {
     "views": []
    },
    "8384202b1f0b4578a00aac0161b8fb60": {
     "views": []
    },
    "83fd24bc47c94ed8ac35e85b780ce2ca": {
     "views": []
    },
    "840594a65cff4a2981cf1ff0e092b01e": {
     "views": []
    },
    "8482cd67f45146bda3cdad7af5062cf0": {
     "views": []
    },
    "8638a5d7c455429c9f5ebe65ddb41c61": {
     "views": []
    },
    "8712ee346cfc4aa9a181e906b12548ea": {
     "views": []
    },
    "87728180990244449ee68be13634a5d3": {
     "views": []
    },
    "87ab3dded9884858bf1f09567d78918a": {
     "views": []
    },
    "89ba6478c5b049019ed8633c9ca876bf": {
     "views": []
    },
    "8b01573c2bfa42adb9cda5b4d88cdb62": {
     "views": []
    },
    "8bd38a2286e94754b02ffbae1d9d0682": {
     "views": []
    },
    "8c0a98b2e5d04b279713588f93b04a82": {
     "views": []
    },
    "8cccdea48fc64db9ac639f85b2b3bdd5": {
     "views": []
    },
    "8d1edfeebeb0405e86550a76df1f6ea6": {
     "views": []
    },
    "8d29f55bc4064d1d982fef8a15ffa74e": {
     "views": []
    },
    "8ef753b8f7094dfabdb8c7cb8caaad13": {
     "views": []
    },
    "8fb60110472c46cdb0a7bc65e5d79743": {
     "views": []
    },
    "901124451dce455aa81b84fb5e611fcd": {
     "views": []
    },
    "90267d2332344e6b8ac5cd1f06595beb": {
     "views": []
    },
    "90dce73b941146ceab61234ced1d089a": {
     "views": []
    },
    "91dbf2500863498ebc89f570b67a9fde": {
     "views": []
    },
    "923c9bae6b7d4634be799d07cbbcfc4f": {
     "views": []
    },
    "92e5d469a07346adb5579f7a0351effc": {
     "views": []
    },
    "946493c7b71d486cb5221a8443452ebb": {
     "views": []
    },
    "9473bf5452a24236872092ff7f3d83a1": {
     "views": []
    },
    "9596dd6a081e4180b3fe1d9cf035d4fc": {
     "views": []
    },
    "9712bd735baa416e89eb76e1b1607412": {
     "views": []
    },
    "97b772e4faee4ad9a4e44411778daa70": {
     "views": []
    },
    "98cb2cb9a0b7473693c0196c2e38e88d": {
     "views": []
    },
    "9a4cb54adadd44e1a9655ff0609423f2": {
     "views": []
    },
    "9cd19c9914b24f2f8af281e22b2aa00f": {
     "views": []
    },
    "9e193da7d6c24c67b0608959c30595fe": {
     "views": []
    },
    "9e3b6a4ff37e4c09a88df640799fafcb": {
     "views": []
    },
    "9fa59a659a34407eada71cc65b9d0b42": {
     "views": []
    },
    "9fe41b5a2ed44dc3928a73f6bb1974ad": {
     "views": []
    },
    "a04e3dfccdd94eb48c8f15e2dc97be3d": {
     "views": []
    },
    "a085d3d2b4f6488dbd98ff66fe16f5d9": {
     "views": []
    },
    "a1fbeaff3b154cae907fb2006d7ff5b5": {
     "views": []
    },
    "a3805955c9b84a85adbd232d03b2022e": {
     "views": []
    },
    "a55104f472924b5e9b2e467ebb1bbb6b": {
     "views": []
    },
    "a6da226cc17f484b8081dbe345fb7f09": {
     "views": []
    },
    "a70894be81484d6e9327a92c52b76935": {
     "views": []
    },
    "a72fcabcb6b947a7884820bf636ec0ab": {
     "views": []
    },
    "a974797a746f4087a5c67686b68b594c": {
     "views": []
    },
    "a9b8aee03ea34e37baed5e8dfc623c0a": {
     "views": []
    },
    "aa47f49320f646898f7ca651aa2ca9d3": {
     "views": []
    },
    "aa804c8bef664330b8473f5c260e25b5": {
     "views": []
    },
    "aaa2722ad1174dcb95a193c4893e5a1c": {
     "views": []
    },
    "ab05241ef90b4ba597a6516bd885eb84": {
     "views": []
    },
    "ab5ce8f9b9444276a6f36e6812d14476": {
     "views": []
    },
    "ab66e8974a754a509ba8f263646e0ded": {
     "views": []
    },
    "aedb6da93a05438f8b5c76f8b5cde83c": {
     "views": []
    },
    "af8c9c9f937248cb84aa1b83623dfc0d": {
     "views": []
    },
    "b236b139bc814d909df7260fc9bb0062": {
     "views": []
    },
    "b37af383175b4be7997c4f665bbd2d3d": {
     "views": []
    },
    "b45fcab990ee4a1aa02634d79fab2b8c": {
     "views": []
    },
    "b4dcaf0a65d6497f9397ddd8c715c665": {
     "views": []
    },
    "b55b0666fa974f3e9f3d5a04aee8f3b4": {
     "views": []
    },
    "b6a4e2d6a3994f9d97dca9015646f156": {
     "views": []
    },
    "b75aa0bc33f94dbab853ea6898ac8158": {
     "views": []
    },
    "b84e829792574e9992ab968e92077280": {
     "views": []
    },
    "b9024a15958e4353bb3b44316da999c8": {
     "views": []
    },
    "b91080a3a9cc4a77bbfb40c2cc035447": {
     "views": []
    },
    "b943100537934d18965fbc1ac11a501c": {
     "views": []
    },
    "ba4f565b743146609df7a5a3e408d499": {
     "views": []
    },
    "ba97edd7a35e4c9e82375a9abfb436e3": {
     "views": []
    },
    "baa3bc67cc6647ba973e1c7ba232ce75": {
     "views": []
    },
    "bb07794cc55b471e82fe3e582b60ce13": {
     "views": []
    },
    "bc1f35b213d3405fb96bba77e163310e": {
     "views": []
    },
    "bc63dbb352e64c5e983b0e48f99b12a0": {
     "views": []
    },
    "bce177142dba4ab2b91ece823f9b9e1f": {
     "views": []
    },
    "bd1fd935a8394d0a88695d47a2398c20": {
     "views": []
    },
    "be86fb520a3241f8abb64bcf9579d694": {
     "views": []
    },
    "be9a3b91b1ae46a99364e01382ab75c3": {
     "views": []
    },
    "bf11cdd0e90a442d9bd2aff1c150abf6": {
     "views": []
    },
    "c02092faa50342ef8c394c33a4358887": {
     "views": []
    },
    "c1ba7a66478e4ef7a66d855f97aa3f1b": {
     "views": [
      {
       "cell_index": 5
      }
     ]
    },
    "c244553897b348329528800ad2c88e59": {
     "views": []
    },
    "c2454fd3839f4ad1a16c477d1852dc15": {
     "views": []
    },
    "c42efa48d7954629a4bd949f809c06cf": {
     "views": []
    },
    "c749ce689f8d433d8187c4520ccec133": {
     "views": []
    },
    "c898914767c24843b964eb53fb5689a5": {
     "views": []
    },
    "c9b5dc1fff064d74b456a4527a58baa5": {
     "views": []
    },
    "caead33cb82d4d288318deb16e77fea0": {
     "views": []
    },
    "cc90c4291a8a4f58a630e0e3d40c9e84": {
     "views": []
    },
    "cf1586f846da4bce80e55f9936b682a8": {
     "views": []
    },
    "d018898b9aa64dcab815e9e6c676d0e4": {
     "views": []
    },
    "d10bb33f58cb4e0892545ce9e7112378": {
     "views": []
    },
    "d22b4a5d6aa44bdfbb65ef6039a745f5": {
     "views": []
    },
    "d25a1f8e4fc1413385b6d21d351c8ad9": {
     "views": []
    },
    "d2b03590aead4f6ea77636de7bf84709": {
     "views": []
    },
    "d33401f2fe0548288091541d0d73b4d1": {
     "views": []
    },
    "d41527117f3f4d47bb71ee0ba9910653": {
     "views": []
    },
    "d4b6b3cce0e54805bc0e4ac43dfbad45": {
     "views": []
    },
    "d519dd55a39143af8d5c214cbbaef3fb": {
     "views": []
    },
    "d6060b888ade49f397a580832eae6818": {
     "views": []
    },
    "d6db740949464b20a9d61c29451cb1ce": {
     "views": []
    },
    "d8212cf9c5b9454685cc48cafc80968c": {
     "views": []
    },
    "d975b860d14e4e2d86978c24b31e3456": {
     "views": []
    },
    "d9ba20af1ea14974a146b306cb599045": {
     "views": []
    },
    "d9bc9d3ee8d3479e95daf09b9601bb5f": {
     "views": []
    },
    "da0ad9e2956c4b9ba3aa91a5d7719221": {
     "views": []
    },
    "dc5e0040d1eb4f94810f951fc9151996": {
     "views": []
    },
    "e0913a63741b48bcb0780aa2f19c5ca0": {
     "views": []
    },
    "e0c5186119f245cea0b36d62da808516": {
     "views": []
    },
    "e1a6b5c21fe9469598238d1e96693b84": {
     "views": []
    },
    "e26904eb72d8407b89250c330ac657ba": {
     "views": []
    },
    "e31bdedc824d49679e4e8e54bffff987": {
     "views": []
    },
    "e3c0d2ee42cf41f7b3b005ff943601d1": {
     "views": []
    },
    "e4ab94a90c6144fd91f6c071ad740590": {
     "views": []
    },
    "e4f1669e234045da8e8866d8817732dd": {
     "views": []
    },
    "e595a8c3773946e8b9f05e9b9e232cb6": {
     "views": []
    },
    "e6b7f9af5e134770b16ede35415ccb8a": {
     "views": []
    },
    "e6ea40d5ea864ce792c32d209c7ecac4": {
     "views": []
    },
    "e6f1a88907f54fd49ab64a6fcac2e842": {
     "views": []
    },
    "e7030c8194044d8889fb1bd7813cf624": {
     "views": []
    },
    "e81f01b14dce4572b6a52cf578e9cbc3": {
     "views": []
    },
    "eb96987d31114557a28ec550b4105ed4": {
     "views": []
    },
    "ed920b0abb244a73aa79867f32378b61": {
     "views": []
    },
    "edb042adf5bf4f21a88eed997e2810eb": {
     "views": []
    },
    "ef0b62cb43524719b51c4e0dcff8db95": {
     "views": []
    },
    "ef27051e1e1c4f6db44bc608c65b1c8b": {
     "views": []
    },
    "ef589375430b4ce3adc195b7e68a4056": {
     "views": []
    },
    "ef88ff1c5fc048769571e9f23d2aa990": {
     "views": []
    },
    "f23f85518f574655ab03ecb52de21c82": {
     "views": []
    },
    "f2ed4d73732f4571a6e46cae491baf92": {
     "views": []
    },
    "f4a5bf86859649cc8b93f9403118f884": {
     "views": []
    },
    "f628b6a997b94d22bd57d28b773a4289": {
     "views": []
    },
    "f6c95ba680f74d2ca6d76cdd7f4819c8": {
     "views": []
    },
    "f83451f3f18147b7ac8d2502daf5df16": {
     "views": []
    },
    "f897940821c94eb3a53cf5aa9251b8e0": {
     "views": []
    },
    "f8a8079e3b904dcf84eb8f1c5acfbf64": {
     "views": []
    },
    "f93af998a46e4ce4863ff65bf5c4526a": {
     "views": []
    },
    "f93cc365e4254f48a14eecb6d7fddea0": {
     "views": []
    },
    "f993c1bd19254ab493f7730affaa0f4d": {
     "views": []
    },
    "fd41167d2a174210aa2f6c28aa66545d": {
     "views": []
    },
    "ff5c1ee7734a428aae37a6e4306d1d19": {
     "views": []
    }
   },
   "version": "1.1.2"
  }
 },
 "nbformat": 4,
 "nbformat_minor": 0
}
